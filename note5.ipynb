{
 "cells": [
  {
   "cell_type": "markdown",
   "id": "9c5d940a-ef32-441d-bb63-e97f709565d2",
   "metadata": {},
   "source": [
    "# Convolutional neural networks (CNNs)\n",
    "\n",
    "Convolutional layers are a substantial extension to the fully-connected layers of the conventional MLP networks.\n",
    "\n",
    "To understand them well, we need to first understand MLP in depth."
   ]
  },
  {
   "cell_type": "markdown",
   "id": "58764941-56de-4d03-bf35-92d4939f5f59",
   "metadata": {},
   "source": [
    "## Fully connected neural networks (MLPs)"
   ]
  },
  {
   "cell_type": "markdown",
   "id": "95abf4e0-a3a2-49ea-8cb4-8c1298ad5ebb",
   "metadata": {},
   "source": [
    "### Neural network software\n",
    "\n",
    "For large MLPs and CNNs we will use available deep learning software libraries. Below are listed some of the most influental and/or used:\n",
    "\n",
    " * [Matlab Neural Networks Toolbox](https://se.mathworks.com/products/deep-learning.html) (until 2012)\n",
    "   - Matlab manuals still provide good introduction - see this [MLP page](https://se.mathworks.com/help/deeplearning/ref/feedforwardnet.html)\n",
    " * [Caffe](https://caffe.berkeleyvision.org/) (2012-2013)\n",
    " * [Keras and TensorFlow](https://keras.io/) (2015-)\n",
    " * [PyTorch](https://pytorch.org/) (2016-)\n",
    "\n",
    "Recent additions:\n",
    "\n",
    " * [Flax](https://flax.readthedocs.io/) (2023-) \n"
   ]
  },
  {
   "cell_type": "markdown",
   "id": "e99c13a6-a68f-48a6-b60b-0f47c3dcea5d",
   "metadata": {},
   "source": [
    "Popularity of different libraries helps to find out what needs to be studied (see the [Papers with code](https://paperswithcode.com/trends) statistics).\n",
    "\n",
    "<div>\n",
    "<img src=\"pictures/nnet_software_popularity_2024.png\" width=800>\n",
    "</div>"
   ]
  },
  {
   "cell_type": "markdown",
   "id": "9a401af2-d657-4d31-9506-838e9f69a659",
   "metadata": {},
   "source": [
    "### Image classification\n",
    "\n",
    "Image classification is perhaps the most intuitive way to learng deep learning as it was considered as the most important research challenge in computer vision until 2012 and beyond when the deep learning made its breakthrough and the application field was image classification."
   ]
  },
  {
   "cell_type": "markdown",
   "id": "6946b6bf-901f-40d3-8122-022127807ae1",
   "metadata": {},
   "source": [
    "**Example:** MNIST Fashion MLP with Keras\n",
    "\n",
    "We can study incrementally better models for the same problem.\n",
    "\n",
    " * [MNIST Fashion MLP (Keras) codelab](https://colab.research.google.com/drive/1U1j4aIBOkPlu4ZL81gIEcmlMIUH6xpbI?usp=sharing)"
   ]
  },
  {
   "cell_type": "markdown",
   "id": "f2cbd625-5d95-4d08-a62c-85ce91653760",
   "metadata": {},
   "source": [
    "**Example:** MNIST Fashion MLP with PyTorch\n",
    "\n",
    "We implement the best TF model also using PyTorch.\n",
    "\n",
    " * [MNIST Fashion MLP (PyTorch) codelab](https://colab.research.google.com/drive/1vMX4emkjS0Qct682tBCwsHeu6G7sohwW?usp=sharing)"
   ]
  },
  {
   "cell_type": "markdown",
   "id": "76de1450-b020-404a-99c7-83a71104d197",
   "metadata": {},
   "source": [
    "## Convolutional Neural Network (CNN)\n",
    "\n",
    "Handling larger images becomes impossible for MLP neural networks, but not for CNN neural networks."
   ]
  },
  {
   "cell_type": "markdown",
   "id": "5f2a9dd5-d455-4091-86bb-1b0e96c464b0",
   "metadata": {},
   "source": [
    "**Example:** GPU vs. CPU\n",
    "\n",
    " * [GPU vs CPU codelab](https://colab.research.google.com/drive/1SqIbOx49Nz2lC0xnIvCN6doqJYYRBP0k?usp=sharing)"
   ]
  },
  {
   "cell_type": "markdown",
   "id": "bf4a4900-9abc-44f1-874e-9f45818339f2",
   "metadata": {},
   "source": [
    "**Example:** MNIST Fashion CNN (PyTorch)\n",
    "\n",
    " * [MNIST Fashion CNN codelab](https://colab.research.google.com/drive/1Cci76rojDmgwdgxrLuRwqd_-AQ5AY_ml?usp=sharing)"
   ]
  },
  {
   "cell_type": "markdown",
   "id": "111a892e-d05b-4e95-861e-c11ea712fc4b",
   "metadata": {},
   "source": [
    "## References\n",
    "\n",
    " * [About selecting the correct loss](https://towardsdatascience.com/deep-learning-which-loss-and-activation-functions-should-i-use-ac02f1c56aa8)\n",
    " * [Different APIs of Keras](https://keras.io/api/models/)\n",
    " * [TensorFlow Tutorials](https://www.tensorflow.org/tutorials)\n",
    " * [Batch normalization](https://arxiv.org/abs/1502.03167)\n",
    " * [ADAM optimizer](https://arxiv.org/abs/1412.6980v8)\n",
    " * [Dropout](https://jmlr.org/papers/v15/srivastava14a.html)"
   ]
  }
 ],
 "metadata": {
  "kernelspec": {
   "display_name": "Python 3 (ipykernel)",
   "language": "python",
   "name": "python3"
  },
  "language_info": {
   "codemirror_mode": {
    "name": "ipython",
    "version": 3
   },
   "file_extension": ".py",
   "mimetype": "text/x-python",
   "name": "python",
   "nbconvert_exporter": "python",
   "pygments_lexer": "ipython3",
   "version": "3.11.4"
  }
 },
 "nbformat": 4,
 "nbformat_minor": 5
}
