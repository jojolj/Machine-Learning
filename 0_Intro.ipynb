{
 "cells": [
  {
   "cell_type": "markdown",
   "metadata": {
    "deletable": false,
    "editable": false,
    "nbgrader": {
     "cell_type": "markdown",
     "checksum": "762ea27bef3eeaf70e97fa0a8c7c6331",
     "grade": false,
     "grade_id": "cell-c962775e13167ac5",
     "locked": true,
     "schema_version": 3,
     "solution": false,
     "task": false
    }
   },
   "source": [
    "### <center>Welcome to \"CS-EJ3211 - Machine Learning with Python\" online course!</center>\n",
    "\n",
    "\n",
    "This is an introductory Jupyter notebook, in which you will get familiar with \n",
    "\n",
    "* the Python programming language, \n",
    "* using Jupyter notebooks,\n",
    "* how to complete the coding assignments, \n",
    "* and some mathematical notations. "
   ]
  },
  {
   "cell_type": "markdown",
   "metadata": {
    "deletable": false,
    "editable": false,
    "nbgrader": {
     "cell_type": "markdown",
     "checksum": "7dd2db4af798febb0a143fe530cc7b1e",
     "grade": false,
     "grade_id": "cell-cdb318a36c76badc",
     "locked": true,
     "schema_version": 3,
     "solution": false,
     "task": false
    }
   },
   "source": [
    "<div class=\" alert alert-danger\">\n",
    "   <h3 align=\"center\"> <b>NOTE: This notebook is not graded. Do not submit it.</b> </h3>\n",
    "    \n",
    "</div>\n",
    "\n",
    "<a href='#python'>What is Python?</a>\\\n",
    "<a href='#nb'>Jupyter Notebooks</a>\\\n",
    "<a href='#print'>Printing output</a>\\\n",
    "<a href='#dtypes'>Basic data types in Python</a>\\\n",
    "<a href='#range'>Creating a sequence of integers</a>\\\n",
    "<a href='#iter'>Iterations</a>\\\n",
    "<a href='#udf'>User defined functions</a>\\\n",
    "<a href='#pylibs'>Python Libraries</a>\\\n",
    "<a href='#df'>Pandas Data Frames </a>\\\n",
    "<a href='#plt'>Plotting with Matplotlib</a>\\\n",
    "<a href='#eda'>EDA - exploratory data analyses</a>\\\n",
    "<a href='#numpy'>NumPy Arrays</a>\\\n",
    "<a href='#vectors'>Vectors and Matrices</a>\\\n",
    "\\\n",
    "\\\n",
    "<a href='#STrange'><b>Student task.</b> Create sequences of integers.</a>\\\n",
    "<a href='#STloops'><b>Student task.</b> Loops.</a>\\\n",
    "<a href='#STudf'><b>Student task.</b> Power of two function.</a>\\\n",
    "<a href='#STnumpy'><b>Student task.</b> Numpy Arrays</a>\\\n",
    "<a href='#STvectors'><b>Student task.</b> Vector and Matrix operations</a>\n",
    "\n"
   ]
  },
  {
   "cell_type": "markdown",
   "metadata": {
    "deletable": false,
    "editable": false,
    "nbgrader": {
     "cell_type": "markdown",
     "checksum": "bce194688d373450e3b5dcdd3a610c5e",
     "grade": false,
     "grade_id": "cell-18f2e2ad84c1e3c2",
     "locked": true,
     "schema_version": 3,
     "solution": false,
     "task": false
    }
   },
   "source": [
    "<a id='python'></a>\n",
    "### <center>What is Python?</center>\n",
    "\n",
    "\n",
    "Python is a programming language used to \"give instructions\" to a computer to produce the desired actions or output. Like many other programming languages, such as Ruby, PHP, C++, and Java, Python is a [high-level programming language](https://computersciencewiki.org/index.php/Higher_level_and_lower_level_languages), which makes it easy to learn and use. Python is an object oriented programming language. The variables of a Python program are objects that represent data (e.g. a number, a character or an entire csv file) along with functions (methods) that can be applied to the data. As a point in case, we can represent a matrix (rectangular array of numbers) using an object of type (or class) `ndarray` (which is included in the Python library `numpy`). Each `ndarray` object  contains methods for processing the matrix entries such as summing them (see [documentation](https://numpy.org/doc/stable/reference/generated/numpy.ndarray.sum.html#numpy.ndarray.sum)).   \n",
    "\n",
    "There are plenty of resources for learning basic Python, and we recommend you to utilize these if you are new to Python or programming in general. [Here](https://wiki.python.org/moin/BeginnersGuide/NonProgrammers), you can find a comprehensive list of books and courses for beginners. For example, the books [\"Automate the Boring Stuff with Python\"](https://automatetheboringstuff.com) by Al Sweigart and [\"Think Python: How to Think Like a Computer Scientist\"](http://greenteapress.com/thinkpython/html/index.html) by Allen B. Downey are freely available online and are excellent places to start. You do not need to read the whole book, as the chapters about data types, indexing, loops, and functions will provide sufficient knowledge for this course. If you prefer more interactive learning, you can find short tutorials and Python exercises that you can run in-browser [here](https://www.w3schools.com/python/python_intro.asp), amongst other places."
   ]
  },
  {
   "cell_type": "markdown",
   "metadata": {
    "deletable": false,
    "editable": false,
    "nbgrader": {
     "cell_type": "markdown",
     "checksum": "8765324c85341c49d4c90d57edd2e740",
     "grade": false,
     "grade_id": "cell-e6b8c156788398ff",
     "locked": true,
     "schema_version": 3,
     "solution": false,
     "task": false
    }
   },
   "source": [
    "<a id='nb'></a>\n",
    "### <center>Jupyter Notebooks</center>\n",
    "\n",
    "A Jupyter notebook is a document that contains Python code blocks along with the output (text or plots) generated by the code. It also contains text blocks with explanations and discussions of the code and the corresponding outputs. Jupyter notebooks are typically edited and executed via a web application that consists of an online browser as the user interface (where you edit and execute the notebook) and a JupyterHub notebook server that runs the Python code blocks and returns the results to the web browser. \n",
    "\n",
    "The Jupyter notebook server is not necessarily running on a remote computer but can also be installed on your own local computer. Thus, you can run notebooks locally on your computer, with properly installed Python and Jupyter notebook server. However, since we use an autograding system, you will mainly use the Jupyter server run by the Aalto department of Computer Science (https://jupyter.cs.aalto.fi/hub/login). If you are reading this, you probably successfully logged in to Jupyter Hub and fetched a notebook. Starting from the next notebook, you will need to submit the latest notebook version. First you complete the notebook exercises in Jupyter Hub, save modifications (save button is under \"File\" bar, top left corner) and submit notebook (go to Assignments tab, click Submit button).  \n",
    "\n",
    "As mentioned above, a notebook consists of different types of blocks or \"cells\". The two most important types of cells are \"markdown\" cells for natural text and code cells that contain executable Python code (notebooks can also be used with other programming languages). Below you can see one example for a markdown cell and one example for a code cell. "
   ]
  },
  {
   "cell_type": "markdown",
   "metadata": {
    "deletable": false,
    "editable": false,
    "nbgrader": {
     "cell_type": "markdown",
     "checksum": "c068796f9bb04c2deb63e9b40aae139e",
     "grade": false,
     "grade_id": "cell-c89d1251915d0307",
     "locked": true,
     "schema_version": 3,
     "solution": false,
     "task": false
    }
   },
   "source": [
    "<<<<  This is markdown cell.  >>>>"
   ]
  },
  {
   "cell_type": "code",
   "execution_count": 1,
   "metadata": {
    "deletable": false,
    "editable": false,
    "nbgrader": {
     "cell_type": "code",
     "checksum": "ef6ad01780b636f03afc58f33889ed47",
     "grade": false,
     "grade_id": "cell-8f25df9f5e72ecca",
     "locked": true,
     "schema_version": 3,
     "solution": false,
     "task": false
    }
   },
   "outputs": [
    {
     "name": "stdout",
     "output_type": "stream",
     "text": [
      "Hello world!\n"
     ]
    }
   ],
   "source": [
    "# This is a code cell\n",
    "# Lines which start with '#' are comments and they are ignored during code run\n",
    "\n",
    "print(\"Hello world!\")"
   ]
  },
  {
   "cell_type": "markdown",
   "metadata": {
    "deletable": false,
    "editable": false,
    "nbgrader": {
     "cell_type": "markdown",
     "checksum": "16ab8885f5a2938ff5239e4b9635ad99",
     "grade": false,
     "grade_id": "cell-da8a0709a7f12c0f",
     "locked": true,
     "schema_version": 3,
     "solution": false,
     "task": false
    }
   },
   "source": [
    "In the top of the notebook you see bar with options File, Edit, View etc. You can use those to insert, delete and run cells. We recommend using keyboard shortcuts as it is faster. \n",
    "\n",
    "To use shortcuts, first, click on the cell from the left side, so blue bar appears (or press esc to exit cell edit mode). Then use shortcuts, e.g.:\n",
    "\n",
    "Insert cell below - B\\\n",
    "Insert cell above - A\\\n",
    "Cut cell - X\\\n",
    "Paste cell - V\\\n",
    "Run cell and move bellow - Shift + Enter\n",
    "\n",
    "<div class=\" alert alert-danger\">\n",
    "     <h3 align=\"center\"> <b>NOTE: Do not duplicate cells in released notebooks!</b> </h3>\n",
    "\n",
    "In the course we release notebooks where majority of cells are non-editable. This is done to prevent accidental cell editing and removal. Each cell in these notebooks has an id and cells' ids are checked during autograding. \n",
    "Thus, we ask you - do not duplicate existing cells with copy-paste commands. If you want to insert a new cell use Insert panel or shortcuts B & A.\n",
    "    \n",
    "</div>\n",
    "\n",
    "More on Jupyter notebooks in Real Python article [Jupyter Notebook: An Introduction](https://realpython.com/jupyter-notebook-introduction/).\\\n",
    "Jupyter notebook cheat sheet https://www.edureka.co/blog/wp-content/uploads/2018/10/Jupyter_Notebook_CheatSheet_Edureka.pdf"
   ]
  },
  {
   "cell_type": "markdown",
   "metadata": {
    "deletable": false,
    "editable": false,
    "nbgrader": {
     "cell_type": "markdown",
     "checksum": "ec54aecaa01737bf36f06d2558257afe",
     "grade": false,
     "grade_id": "cell-9b1bb6d33e83d765",
     "locked": true,
     "schema_version": 3,
     "solution": false,
     "task": false
    }
   },
   "source": [
    "<a id='print'></a>\n",
    "    \n",
    "### <center>Printing output</center>\n",
    "\n",
    "In Python, you can print output by using the `print()` function:"
   ]
  },
  {
   "cell_type": "code",
   "execution_count": 2,
   "metadata": {
    "deletable": false,
    "editable": false,
    "nbgrader": {
     "cell_type": "code",
     "checksum": "79fc824d90d922f271efd2b9bfd8f131",
     "grade": false,
     "grade_id": "cell-986cc540941174dc",
     "locked": true,
     "schema_version": 3,
     "solution": false,
     "task": false
    }
   },
   "outputs": [
    {
     "name": "stdout",
     "output_type": "stream",
     "text": [
      "The answer is = 42\n",
      "The answer is = 44\n",
      "The answer is = 21.0\n"
     ]
    }
   ],
   "source": [
    "# Assign value 42 to a variable myvar\n",
    "myvar = 42\n",
    "\n",
    "# Display output\n",
    "print(\"The answer is =\", myvar)\n",
    "print(f\"The answer is = {myvar+2}\")\n",
    "print(\"The answer is = {}\".format(myvar*0.5))"
   ]
  },
  {
   "cell_type": "markdown",
   "metadata": {
    "deletable": false,
    "editable": false,
    "nbgrader": {
     "cell_type": "markdown",
     "checksum": "a11be41b96ede04eb1f51f0d18d20812",
     "grade": false,
     "grade_id": "cell-0cb545474be325f4",
     "locked": true,
     "schema_version": 3,
     "solution": false,
     "task": false
    }
   },
   "source": [
    "<a id='dtypes'></a>\n",
    "    \n",
    "### <center>Basic data types in Python</center>"
   ]
  },
  {
   "cell_type": "code",
   "execution_count": 1,
   "metadata": {
    "deletable": false,
    "editable": false,
    "nbgrader": {
     "cell_type": "code",
     "checksum": "c65b9ca97763accd79b0f0305b7eea6a",
     "grade": false,
     "grade_id": "cell-5372661b15ed480b",
     "locked": true,
     "schema_version": 3,
     "solution": false,
     "task": false
    }
   },
   "outputs": [
    {
     "name": "stdout",
     "output_type": "stream",
     "text": [
      "42\n",
      "42.5\n",
      "The statement 40+2 equals 42 is True\n",
      "forty two\n",
      "[1, 2, 'cat', 0.5, False]\n",
      "<class 'int'> <class 'float'> <class 'bool'> <class 'str'> <class 'list'>\n"
     ]
    }
   ],
   "source": [
    "# Numeric: integers\n",
    "myint = 42\n",
    "print(myint)\n",
    "\n",
    "# Numeric: floating-point numbers\n",
    "myfloat = 42.5\n",
    "print(myfloat)\n",
    "\n",
    "# Boolean\n",
    "mybool = 40+2 == 42\n",
    "print(\"The statement 40+2 equals 42 is\", mybool)\n",
    "\n",
    "# Strings\n",
    "mystr = \"forty two\"\n",
    "print(mystr)\n",
    "\n",
    "# Lists\n",
    "mylist = [1, 2, \"cat\", 0.5, False]\n",
    "print(mylist)\n",
    "\n",
    "# Print out data types of variables\n",
    "print(type(myint), type(myfloat), type(mybool), type(mystr), type(mylist))"
   ]
  },
  {
   "cell_type": "markdown",
   "metadata": {
    "deletable": false,
    "editable": false,
    "nbgrader": {
     "cell_type": "markdown",
     "checksum": "5d768458a19e1d19ef1efe5b1f87170f",
     "grade": false,
     "grade_id": "cell-d05728fd72ec869e",
     "locked": true,
     "schema_version": 3,
     "solution": false,
     "task": false
    }
   },
   "source": [
    "<a id='range'></a>\n",
    "    \n",
    "### <center>Creating a sequence of integers</center>\n",
    "\n",
    "You can create a sequence of integers using the built-in functions `range(start, stop[, step])` and `list()`. See https://docs.python.org/3/library/stdtypes.html#range for more information. \n",
    "This built-in function creates the sequence [start,start+step,start+2*step,...]. If the argument `step` is omitted, it defaults to 1. If the `start` argument is omitted, it defaults to 0. \n",
    "\n",
    "<div class=\" alert alert-danger\"> \n",
    "    \n",
    "<center><font size=\"5\"><b>Caution!</b></font></center>\n",
    "    \n",
    "<p><center><font size=\"4\">In <code>range(stop)</code> the sequence starts from 0 and does not include stop value </font></center></p>\n",
    "    \n",
    "</div>"
   ]
  },
  {
   "cell_type": "markdown",
   "metadata": {
    "deletable": false,
    "editable": false,
    "nbgrader": {
     "cell_type": "markdown",
     "checksum": "884ce3753e9907fa3e7e81a7f1df545e",
     "grade": false,
     "grade_id": "cell-6b442932d1a6bab7",
     "locked": true,
     "schema_version": 3,
     "solution": false,
     "task": false
    }
   },
   "source": [
    "Below is a blue \"Demo\" markdown cell with an example of coding exercise, which explains the task and a code cell with implementation of this task. \n",
    "\n",
    "<div class=\" alert alert-info\">\n",
    "   <font size=\"4\"> <b>Demo.</b> Create a sequence of integers.</font>\n",
    "\n",
    "Here you can see an example of creating the sequence of integers from 0 to 10 with `range()` function. Note, that if only one number passed as input to `range(int)` function, it will create sequence starting from `0` to `int` (not included) and step size 1.\n",
    "</div>"
   ]
  },
  {
   "cell_type": "code",
   "execution_count": 2,
   "metadata": {
    "deletable": false,
    "editable": false,
    "nbgrader": {
     "cell_type": "code",
     "checksum": "05a29fc79971373daa3c9c160778e207",
     "grade": false,
     "grade_id": "cell-109315af18ff701b",
     "locked": true,
     "schema_version": 3,
     "solution": false,
     "task": false
    }
   },
   "outputs": [
    {
     "name": "stdout",
     "output_type": "stream",
     "text": [
      "mylist= [0, 1, 2, 3, 4, 5, 6, 7, 8, 9, 10] data type = <class 'list'>\n"
     ]
    }
   ],
   "source": [
    "# create a sequence (list) 0,1,...,10\n",
    "mylist = list(range(11))\n",
    "\n",
    "# print mylist variable and its data type\n",
    "print(\"mylist=\", mylist, \"data type =\", type(mylist))"
   ]
  },
  {
   "cell_type": "code",
   "execution_count": 3,
   "metadata": {},
   "outputs": [
    {
     "ename": "AttributeError",
     "evalue": "'list' object has no attribute 'shape'",
     "output_type": "error",
     "traceback": [
      "\u001b[0;31m---------------------------------------------------------------------------\u001b[0m",
      "\u001b[0;31mAttributeError\u001b[0m                            Traceback (most recent call last)",
      "Input \u001b[0;32mIn [3]\u001b[0m, in \u001b[0;36m<cell line: 1>\u001b[0;34m()\u001b[0m\n\u001b[0;32m----> 1\u001b[0m \u001b[38;5;28mprint\u001b[39m(\u001b[43mmylist\u001b[49m\u001b[38;5;241;43m.\u001b[39;49m\u001b[43mshape\u001b[49m)\n",
      "\u001b[0;31mAttributeError\u001b[0m: 'list' object has no attribute 'shape'"
     ]
    }
   ],
   "source": [
    "print(mylist.shape)"
   ]
  },
  {
   "cell_type": "markdown",
   "metadata": {
    "deletable": false,
    "editable": false,
    "nbgrader": {
     "cell_type": "markdown",
     "checksum": "5aa704e2ebff924d0028cb521d8b1893",
     "grade": false,
     "grade_id": "cell-5b30329c96624db8",
     "locked": true,
     "schema_version": 3,
     "solution": false,
     "task": false
    }
   },
   "source": [
    "\"Demo\" exercises help to do \"Student task\" exercises, which are in yellow.\\\n",
    "For student tasks you need to fill out the part after `### STUDENT TASK ###` expression. Often the variables names are already provided, for example:\n",
    "\n",
    "`### STUDENT TASK ###`\n",
    "\n",
    "`# Create lists`\n",
    "\n",
    "`# list1 = ...`\n",
    "\n",
    "`# list2 = ...`\n",
    "\n",
    "In this case `# Create lists` is a comment to clarify the task and `# list1 = ...` and `# list2 = ...` are the lines you need to (1) uncomment, i.e. remove `#` and (2) complete. In addition, you need to remove `raise NotImplementedError()` line.\n",
    "\n",
    "<a id='STrange'></a>\n",
    "<div class=\" alert alert-warning\">\n",
    "   <font size=\"4\"> <b>Student task.</b> Create sequences of integers.</font>\n",
    "\n",
    "Your task is to create:\n",
    "1. list `list1` which stores a sequence of integers from 1 to 10 (including 10) with step size=1.\n",
    "2. list `list2` which stores a sequence of integers from 0 to 10 (including 10) with step size=2.\n",
    "    \n",
    "Lists should be created with use of `list()` and `range()` functions.\n",
    "    \n",
    "</div>"
   ]
  },
  {
   "cell_type": "code",
   "execution_count": 4,
   "metadata": {
    "deletable": false,
    "nbgrader": {
     "cell_type": "code",
     "checksum": "2c45f356dec65fc263beadb13876c416",
     "grade": false,
     "grade_id": "cell-31c708cc97befebd",
     "locked": false,
     "schema_version": 3,
     "solution": true,
     "task": false
    }
   },
   "outputs": [
    {
     "name": "stdout",
     "output_type": "stream",
     "text": [
      "list1 =  [1, 2, 3, 4, 5, 6, 7, 8, 9, 10] \n",
      " list2 =  [0, 2, 4, 6, 8, 10]\n"
     ]
    }
   ],
   "source": [
    "### STUDENT TASK ###\n",
    "# Create lists\n",
    "# list1 = ...\n",
    "# list2 = ...\n",
    "#\n",
    "# remove the line raise NotImplementedError() before testing your solution and submitting code\n",
    "# YOUR CODE HERE\n",
    "list1 = list(range(1,11,1))\n",
    "list2 = list(range(0,11,2))\n",
    "\n",
    "print(\"list1 = \", list1, \"\\n\",\n",
    "      \"list2 = \", list2)"
   ]
  },
  {
   "cell_type": "code",
   "execution_count": null,
   "metadata": {},
   "outputs": [],
   "source": [
    "# Uncomment and run the following line to see the solution\n",
    "# %load solutions/student-task-1.py"
   ]
  },
  {
   "cell_type": "code",
   "execution_count": 5,
   "metadata": {
    "deletable": false,
    "editable": false,
    "nbgrader": {
     "cell_type": "code",
     "checksum": "fb03f4017094d1a844a9ed23243e1b40",
     "grade": false,
     "grade_id": "cell-76768f84d7721684",
     "locked": true,
     "schema_version": 3,
     "solution": false,
     "task": false
    }
   },
   "outputs": [
    {
     "name": "stdout",
     "output_type": "stream",
     "text": [
      "Sanity checks passed!\n"
     ]
    }
   ],
   "source": [
    "# Sanity check\n",
    "assert len(list1)==10, \"list1 length should be 10\"\n",
    "assert len(list2)==6, \"list2 length should be 6\"\n",
    "print(\"Sanity checks passed!\")"
   ]
  },
  {
   "cell_type": "markdown",
   "metadata": {
    "deletable": false,
    "editable": false,
    "nbgrader": {
     "cell_type": "markdown",
     "checksum": "0f265c064a7f845bd0a4b4fa9f648f6c",
     "grade": false,
     "grade_id": "cell-ab82783dae47bcb8",
     "locked": true,
     "schema_version": 3,
     "solution": false,
     "task": false
    }
   },
   "source": [
    "You will also see \"Sanity check\" cells after the student tasks. These cells are used to catch really obvious mistakes, such as returning string data type instead of float or list with wrong number of elements (length). If your answer passed these tests, \"Sanity checks passed!\" will be printed out.\n",
    "\n",
    "<div class=\" alert alert-danger\"> \n",
    "    \n",
    "<center><font size=\"5\"><b>Caution!</b></font></center>\n",
    "\n",
    "<p><center><font size=\"4\">Passing sanity checks does <b>NOT</b> mean that the task is solved correctly. You will know if the students tasks were solved correctly only after the deadline.</font></center></p>\n",
    "    \n",
    "</div>"
   ]
  },
  {
   "cell_type": "code",
   "execution_count": 6,
   "metadata": {},
   "outputs": [
    {
     "name": "stdout",
     "output_type": "stream",
     "text": [
      "[0, 2, 4, 6, 8]\n"
     ]
    }
   ],
   "source": [
    "output_list = []\n",
    "for i in range(5):\n",
    "\n",
    "    number = i * 2\n",
    "\n",
    "    output_list.append(number)\n",
    "print(output_list)"
   ]
  },
  {
   "cell_type": "markdown",
   "metadata": {
    "deletable": false,
    "editable": false,
    "nbgrader": {
     "cell_type": "markdown",
     "checksum": "fac8a491d0f974a6f7c3275c97007099",
     "grade": false,
     "grade_id": "cell-34e5973ad0da4356",
     "locked": true,
     "schema_version": 3,
     "solution": false,
     "task": false
    }
   },
   "source": [
    "<a id='iter'></a>\n",
    "    \n",
    "### <center>Iterations</center>"
   ]
  },
  {
   "cell_type": "code",
   "execution_count": 7,
   "metadata": {
    "deletable": false,
    "editable": false,
    "nbgrader": {
     "cell_type": "code",
     "checksum": "ea209432e2fbeeea1d30222b02c87011",
     "grade": false,
     "grade_id": "cell-9f281cccc731fbcd",
     "locked": true,
     "schema_version": 3,
     "solution": false,
     "task": false
    }
   },
   "outputs": [
    {
     "name": "stdout",
     "output_type": "stream",
     "text": [
      "hi\n",
      "how\n",
      "are\n",
      "you\n"
     ]
    }
   ],
   "source": [
    "# create a sequence consisting of four words \n",
    "some_sequence = [\"hi\",\"how\",\"are\",\"you\"]\n",
    "\n",
    "# loop(= iterate) over the sequence of elements \n",
    "for word in some_sequence:\n",
    "    print(word)"
   ]
  },
  {
   "cell_type": "markdown",
   "metadata": {
    "deletable": false,
    "editable": false,
    "nbgrader": {
     "cell_type": "markdown",
     "checksum": "56a5bad5a67152d087c59347c6512d84",
     "grade": false,
     "grade_id": "cell-bfcf45e2161151f1",
     "locked": true,
     "schema_version": 3,
     "solution": false,
     "task": false
    }
   },
   "source": [
    "One of the main use of `range()` is to create loops that iterate over a sequence of values. "
   ]
  },
  {
   "cell_type": "markdown",
   "metadata": {
    "deletable": false,
    "editable": false,
    "nbgrader": {
     "cell_type": "markdown",
     "checksum": "ba4f05e8fc4283ce2d4909150a829652",
     "grade": false,
     "grade_id": "cell-3bf9592e1806d95c",
     "locked": true,
     "schema_version": 3,
     "solution": false,
     "task": false
    }
   },
   "source": [
    "<div class=\" alert alert-danger\"> \n",
    "    \n",
    "<center><font size=\"5\"><b>Caution!</b></font></center>\n",
    "\n",
    "<p><center><font size=\"4\">Indexing in Python starts by default at 0 (and not at 1!)</font></center></p>\n",
    "    \n",
    "</div>"
   ]
  },
  {
   "cell_type": "code",
   "execution_count": 8,
   "metadata": {
    "deletable": false,
    "editable": false,
    "nbgrader": {
     "cell_type": "code",
     "checksum": "3a44461d1a4edfeb9cb8c663161faa6c",
     "grade": false,
     "grade_id": "cell-6713321a7a5a565f",
     "locked": true,
     "schema_version": 3,
     "solution": false,
     "task": false
    },
    "scrolled": true
   },
   "outputs": [
    {
     "name": "stdout",
     "output_type": "stream",
     "text": [
      "index: 0 value: hi\n",
      "index: 1 value: how\n",
      "index: 2 value: are\n",
      "index: 3 value: you\n"
     ]
    }
   ],
   "source": [
    "# create a sequence consisting of four words\n",
    "some_sequence =  [\"hi\",\"how\",\"are\",\"you\"]\n",
    "# find the length of the list\n",
    "length = len(some_sequence)\n",
    "\n",
    "# loop over the sequence of indices (0,1,2,3)\n",
    "for i in range(length):\n",
    "    print(\"index: {} value: {}\".format(i, some_sequence[i]))  "
   ]
  },
  {
   "cell_type": "code",
   "execution_count": 9,
   "metadata": {
    "deletable": false,
    "editable": false,
    "nbgrader": {
     "cell_type": "code",
     "checksum": "7306d34a5b7d28a825aa2e2e12c89634",
     "grade": false,
     "grade_id": "cell-3f6b9bad26ccdb6f",
     "locked": true,
     "schema_version": 3,
     "solution": false,
     "task": false
    }
   },
   "outputs": [
    {
     "name": "stdout",
     "output_type": "stream",
     "text": [
      "\n",
      "outer loop, iteration: 0  values: [1, 2, 3]\n",
      " \n",
      "inner loop, iteration: 0  value: 1 \n",
      "inner loop, iteration: 1  value: 2 \n",
      "inner loop, iteration: 2  value: 3 \n",
      "\n",
      "outer loop, iteration: 1  values: [4, 5, 6]\n",
      " \n",
      "inner loop, iteration: 0  value: 4 \n",
      "inner loop, iteration: 1  value: 5 \n",
      "inner loop, iteration: 2  value: 6 \n",
      "\n",
      "outer loop, iteration: 2  values: [7, 8, 9]\n",
      " \n",
      "inner loop, iteration: 0  value: 7 \n",
      "inner loop, iteration: 1  value: 8 \n",
      "inner loop, iteration: 2  value: 9 \n"
     ]
    }
   ],
   "source": [
    "# Nested for-loops\n",
    "\n",
    "# create a list \n",
    "mylist = [[1,2,3],[4,5,6],[7,8,9]]\n",
    "\n",
    "# outer loop\n",
    "for i in range(len(mylist)):\n",
    "    print(\"\\nouter loop, iteration: {}  values: {}\\n \".format(i, mylist[i]))\n",
    "    \n",
    "    # inner loop\n",
    "    for j in range(len(mylist[0])):\n",
    "        print(\"inner loop, iteration: {}  value: {} \".format(j, mylist[i][j]))\n"
   ]
  },
  {
   "cell_type": "code",
   "execution_count": 10,
   "metadata": {
    "scrolled": true
   },
   "outputs": [
    {
     "ename": "AttributeError",
     "evalue": "'list' object has no attribute 'shape'",
     "output_type": "error",
     "traceback": [
      "\u001b[0;31m---------------------------------------------------------------------------\u001b[0m",
      "\u001b[0;31mAttributeError\u001b[0m                            Traceback (most recent call last)",
      "Input \u001b[0;32mIn [10]\u001b[0m, in \u001b[0;36m<cell line: 2>\u001b[0;34m()\u001b[0m\n\u001b[1;32m      1\u001b[0m mylist \u001b[38;5;241m=\u001b[39m [[\u001b[38;5;241m1\u001b[39m,\u001b[38;5;241m2\u001b[39m,\u001b[38;5;241m3\u001b[39m],[\u001b[38;5;241m4\u001b[39m,\u001b[38;5;241m5\u001b[39m,\u001b[38;5;241m6\u001b[39m],[\u001b[38;5;241m7\u001b[39m,\u001b[38;5;241m8\u001b[39m,\u001b[38;5;241m9\u001b[39m]]\n\u001b[0;32m----> 2\u001b[0m \u001b[38;5;28mprint\u001b[39m(\u001b[43mmylist\u001b[49m\u001b[38;5;241;43m.\u001b[39;49m\u001b[43mshape\u001b[49m)\n\u001b[1;32m      4\u001b[0m \u001b[38;5;66;03m# outer loop\u001b[39;00m\n\u001b[1;32m      5\u001b[0m \u001b[38;5;28;01mfor\u001b[39;00m i \u001b[38;5;129;01min\u001b[39;00m \u001b[38;5;28mrange\u001b[39m(\u001b[38;5;241m3\u001b[39m):\n",
      "\u001b[0;31mAttributeError\u001b[0m: 'list' object has no attribute 'shape'"
     ]
    }
   ],
   "source": [
    "mylist = [[1,2,3],[4,5,6],[7,8,9]]\n",
    "print(mylist.shape)\n",
    "\n",
    "# outer loop\n",
    "for i in range(3):\n",
    "    print(\"\\nouter loop, iteration: {}  values: {}\\n \".format(i, mylist[i]))\n",
    "    \n",
    "    # inner loop\n",
    "    for j in range(3):\n",
    "        print(\"inner loop, iteration: {}  value: {} \".format(j, mylist[i][j]))"
   ]
  },
  {
   "cell_type": "code",
   "execution_count": 11,
   "metadata": {
    "deletable": false,
    "editable": false,
    "nbgrader": {
     "cell_type": "code",
     "checksum": "6b8c9ebea20f285fdbe97d031375053a",
     "grade": false,
     "grade_id": "cell-32a0784ade0914f7",
     "locked": true,
     "schema_version": 3,
     "solution": false,
     "task": false
    }
   },
   "outputs": [
    {
     "name": "stdout",
     "output_type": "stream",
     "text": [
      "index: 0 value: hi\n",
      "index: 1 value: how\n",
      "index: 2 value: are\n",
      "index: 3 value: you\n"
     ]
    }
   ],
   "source": [
    "# Iterating with enumerate() Python function\n",
    "# It takes as an input iterable object and returns tuple in a form of (index, element) \n",
    "\n",
    "# create a list \n",
    "some_sequence =  [\"hi\",\"how\",\"are\",\"you\"]\n",
    "\n",
    "# loop over elements of a list \n",
    "for index, value in enumerate(some_sequence):\n",
    "    print(\"index: {} value: {}\".format(index, value))  "
   ]
  },
  {
   "cell_type": "markdown",
   "metadata": {
    "deletable": false,
    "editable": false,
    "nbgrader": {
     "cell_type": "markdown",
     "checksum": "6f34351fde306052bde35b36dccc9075",
     "grade": false,
     "grade_id": "cell-8a124e5d13556e59",
     "locked": true,
     "schema_version": 3,
     "solution": false,
     "task": false
    }
   },
   "source": [
    "If you need to iterate over two sequences of the same size, you can use the built-in function `zip()`"
   ]
  },
  {
   "cell_type": "code",
   "execution_count": 12,
   "metadata": {
    "deletable": false,
    "editable": false,
    "nbgrader": {
     "cell_type": "code",
     "checksum": "6b7d560b7f21f89d9eeaa55b13a76503",
     "grade": false,
     "grade_id": "cell-eb479d304b81bf6e",
     "locked": true,
     "schema_version": 3,
     "solution": false,
     "task": false
    }
   },
   "outputs": [
    {
     "name": "stdout",
     "output_type": "stream",
     "text": [
      "one eins\n",
      "two zwei\n",
      "three drei\n",
      "four vier\n"
     ]
    }
   ],
   "source": [
    "# Iterating multiple lists with zip()\n",
    "\n",
    "# create lists\n",
    "some_sequence =  [\"one\",\"two\",\"three\",\"four\"]\n",
    "another_sequence =  [\"eins\",\"zwei\",\"drei\",\"vier\"]\n",
    "\n",
    "# loop over two lists at the same time\n",
    "for val1, val2 in zip(some_sequence, another_sequence):\n",
    "    print(val1, val2)"
   ]
  },
  {
   "cell_type": "code",
   "execution_count": 13,
   "metadata": {
    "deletable": false,
    "editable": false,
    "nbgrader": {
     "cell_type": "code",
     "checksum": "3f3abfa2964c6ef0e6d46d211110a216",
     "grade": false,
     "grade_id": "cell-8a4c99b60c4f390a",
     "locked": true,
     "schema_version": 3,
     "solution": false,
     "task": false
    }
   },
   "outputs": [
    {
     "name": "stdout",
     "output_type": "stream",
     "text": [
      "index: 0 \n",
      "value mylist1: one, value mylist2: eins\n",
      "index: 1 \n",
      "value mylist1: two, value mylist2: zwei\n",
      "index: 2 \n",
      "value mylist1: three, value mylist2: drei\n",
      "index: 3 \n",
      "value mylist1: four, value mylist2: vier\n"
     ]
    }
   ],
   "source": [
    "# Iterating multiple lists with zip() and enumerate()\n",
    "\n",
    "# create lists\n",
    "some_sequence =  [\"one\",\"two\",\"three\",\"four\"]\n",
    "another_sequence =  [\"eins\",\"zwei\",\"drei\",\"vier\"]\n",
    "\n",
    "# loop over two lists at the same time\n",
    "for ind, (val1, val2) in enumerate(zip(some_sequence, another_sequence)):\n",
    "    print(\"index: {} \\nvalue mylist1: {}, value mylist2: {}\".format(ind, val1, val2))  "
   ]
  },
  {
   "cell_type": "markdown",
   "metadata": {
    "deletable": false,
    "editable": false,
    "nbgrader": {
     "cell_type": "markdown",
     "checksum": "a4af7ad5d2c45fab34bd38e8f7b2fff8",
     "grade": false,
     "grade_id": "cell-d0cb78943007d315",
     "locked": true,
     "schema_version": 3,
     "solution": false,
     "task": false
    }
   },
   "source": [
    "<a id='STloops'></a>\n",
    "<div class=\" alert alert-warning\">\n",
    "   <font size=\"4\"> <b>Student task.</b> Loops.</font>\n",
    "    \n",
    "Write a Python program to count the number of even and odd numbers from a list of numbers. Store results in variables `odd_count` and `even_count`. \n",
    "    \n",
    "Hints:\\\n",
    "    (1) use for-loops and [if-else](https://www.w3schools.com/python/python_conditions.asp) statements, \\\n",
    "    (2) operator `%` is [modulo operator](https://www.freecodecamp.org/news/the-python-modulo-operator-what-does-the-symbol-mean-in-python-solved/) in Python. It's used to get the remainder of a division.\n",
    "    \n",
    "</div>"
   ]
  },
  {
   "cell_type": "code",
   "execution_count": 14,
   "metadata": {
    "deletable": false,
    "nbgrader": {
     "cell_type": "code",
     "checksum": "f0e4e69962f14640b4fed83d49af0c4b",
     "grade": false,
     "grade_id": "cell-1c30ff6d2a75ad3f",
     "locked": false,
     "schema_version": 3,
     "solution": true,
     "task": false
    }
   },
   "outputs": [
    {
     "name": "stdout",
     "output_type": "stream",
     "text": [
      "Number of even numbers : [2, 4, 6, 8]\n",
      "Number of odd numbers : [1, 3, 5, 7, 9]\n"
     ]
    }
   ],
   "source": [
    "# create a sequence of numbers\n",
    "numbers = [1, 2, 3, 4, 5, 6, 7, 8, 9]\n",
    "\n",
    "# initialize variables\n",
    "odd_count = 0\n",
    "even_count = 0\n",
    "emptyeven_list = []\n",
    "emptyodd_list = []\n",
    "\n",
    "### STUDENT TASK ###\n",
    "\n",
    "for i in range(len(numbers)):\n",
    "#     if numbers[i]%2==0:\n",
    "#         emptyeven_list.append(numbers[i])\n",
    "#     print(emptyeven_list)\n",
    "#     else:  \n",
    "#         emptyodd_list.append(numbers[i])\n",
    "#     print(emptyodd_list)\n",
    "    if numbers[i]%2==1:\n",
    "        emptyodd_list.append(numbers[i])\n",
    "        #print(emptyodd_list)\n",
    "    else:\n",
    "        emptyeven_list.append(numbers[i])\n",
    "        #print(emptyeven_list)\n",
    "        \n",
    "# print(emptyeven_list)\n",
    "# print(emptyodd_list)\n",
    "even_count=emptyeven_list\n",
    "odd_count=emptyodd_list\n",
    "\n",
    "        \n",
    "\n",
    "print(\"Number of even numbers :\", even_count)\n",
    "print(\"Number of odd numbers :\", odd_count)"
   ]
  },
  {
   "cell_type": "code",
   "execution_count": 15,
   "metadata": {},
   "outputs": [
    {
     "name": "stdout",
     "output_type": "stream",
     "text": [
      "Number of even numbers : 4\n",
      "Number of odd numbers : 5\n",
      "9\n"
     ]
    }
   ],
   "source": [
    "# create a sequence of numbers\n",
    "numbers = [1, 2, 3, 4, 5, 6, 7, 8, 9]\n",
    "\n",
    "# initialize variables\n",
    "odd_count = 0\n",
    "even_count = 0\n",
    "\n",
    "\n",
    "for num in numbers:\n",
    "    if not num%2:\n",
    "        even_count+=1\n",
    "    else:\n",
    "        odd_count+=1\n",
    "        \n",
    "print(\"Number of even numbers :\", even_count)\n",
    "print(\"Number of odd numbers :\", odd_count)\n",
    "print(num)"
   ]
  },
  {
   "cell_type": "code",
   "execution_count": 16,
   "metadata": {},
   "outputs": [
    {
     "name": "stdout",
     "output_type": "stream",
     "text": [
      "Number of even numbers : 4\n",
      "Number of odd numbers : 5\n",
      "9\n"
     ]
    }
   ],
   "source": [
    "# %load solutions/student-task-2.py\n",
    "odd_count = 0\n",
    "even_count = 0\n",
    "for num in numbers:\n",
    "    if not num%2:\n",
    "        even_count+=1\n",
    "    else:\n",
    "        odd_count+=1\n",
    "print(\"Number of even numbers :\", even_count)\n",
    "print(\"Number of odd numbers :\", odd_count)\n",
    "print(num)"
   ]
  },
  {
   "cell_type": "markdown",
   "metadata": {
    "deletable": false,
    "editable": false,
    "nbgrader": {
     "cell_type": "markdown",
     "checksum": "d1db970c29f343eeaa53b753f6a79a8d",
     "grade": false,
     "grade_id": "cell-e0b55eff9c2b3842",
     "locked": true,
     "schema_version": 3,
     "solution": false,
     "task": false
    }
   },
   "source": [
    "<a id=udf></a>\n",
    "    \n",
    "### <center>User-Defined Functions</center>\n"
   ]
  },
  {
   "cell_type": "markdown",
   "metadata": {
    "deletable": false,
    "editable": false,
    "nbgrader": {
     "cell_type": "markdown",
     "checksum": "3cb7933c4c68ddd262961dc506779bdf",
     "grade": false,
     "grade_id": "cell-406c7392e26f3ff3",
     "locked": true,
     "schema_version": 3,
     "solution": false,
     "task": false
    }
   },
   "source": [
    "Like in other programming languages, user can define their own functions in Python. The basic syntax for Python function contain `def` and `return` expressions. \n",
    "\n",
    "<img width=650 src=\"../../../coursedata/0_Intro/udf.png\"/>\n",
    "\n",
    "The code snippet below shows how to define a function `multiply()` which reads in two arguments `x`and `y`. This function computes the product of the arguments and returns it. "
   ]
  },
  {
   "cell_type": "code",
   "execution_count": 17,
   "metadata": {
    "deletable": false,
    "editable": false,
    "nbgrader": {
     "cell_type": "code",
     "checksum": "643cf57a51f3de4e0afeebc52ec0e23a",
     "grade": false,
     "grade_id": "cell-1f3efff09c2c5219",
     "locked": true,
     "schema_version": 3,
     "solution": false,
     "task": false
    }
   },
   "outputs": [
    {
     "name": "stdout",
     "output_type": "stream",
     "text": [
      "6\n",
      "<class 'int'>\n"
     ]
    }
   ],
   "source": [
    "# define a function\n",
    "def multiply(x,y):\n",
    "    '''   \n",
    "    this function takes input x and y\n",
    "    and returns multiplication of x and y\n",
    "   \n",
    "    '''\n",
    "    \n",
    "    # perform computation\n",
    "    out = x*y\n",
    "    \n",
    "    return out\n",
    "\n",
    "# apply the function \n",
    "y = multiply(2,3)\n",
    "\n",
    "# print the result \n",
    "print(y)\n",
    "# print the data type of the result\n",
    "print(type(y))"
   ]
  },
  {
   "cell_type": "markdown",
   "metadata": {
    "deletable": false,
    "editable": false,
    "nbgrader": {
     "cell_type": "markdown",
     "checksum": "21b075ce46dc7f6ff489dc6e4c81c01e",
     "grade": false,
     "grade_id": "cell-dbc62d4a9e838e32",
     "locked": true,
     "schema_version": 3,
     "solution": false,
     "task": false
    }
   },
   "source": [
    "<a id='STudf'></a>\n",
    "<div class=\" alert alert-warning\">\n",
    "   <font size=\"4\"> <b>Student task.</b> Power of two function.</font>\n",
    "\n",
    "\n",
    "Your task is to write Python function `power_of_two()`, which takes as input integer $n$, and returns list `out` with power of two values ${2}^{1}, {2}^{2}, ... , {2}^{n}$.  For example, for `power_of_two(3)` variable `out` should be a list `out=[2,4,8]`. Length of the list should be equal to the input integer.\n",
    "</div>\n",
    "\n",
    "Hint: You can use for loop or [list comprehensions](https://realpython.com/list-comprehension-python/)."
   ]
  },
  {
   "cell_type": "code",
   "execution_count": 18,
   "metadata": {
    "deletable": false,
    "nbgrader": {
     "cell_type": "code",
     "checksum": "684a2f1760c5f6cdc46db0f817cde1ef",
     "grade": false,
     "grade_id": "cell-4746285e0203213a",
     "locked": false,
     "schema_version": 3,
     "solution": true,
     "task": false
    }
   },
   "outputs": [
    {
     "name": "stdout",
     "output_type": "stream",
     "text": [
      "32\n"
     ]
    }
   ],
   "source": [
    "### STUDENT TASK ###\n",
    "#\n",
    "#\n",
    "# remove the line raise NotImplementedError() before testing your solution and submitting code\n",
    "# YOUR CODE HERE\n",
    "def power_of_two(x):\n",
    "    \n",
    "    out=pow(2,x)\n",
    "    return out\n",
    "\n",
    "out = power_of_two(5)\n",
    "print(out)"
   ]
  },
  {
   "cell_type": "code",
   "execution_count": 19,
   "metadata": {},
   "outputs": [
    {
     "name": "stdout",
     "output_type": "stream",
     "text": [
      "8\n"
     ]
    }
   ],
   "source": [
    "def power_of_two(x):\n",
    "    \n",
    "    out=2**x\n",
    "    return out\n",
    "\n",
    "out = power_of_two(3)\n",
    "print(out)"
   ]
  },
  {
   "cell_type": "code",
   "execution_count": 20,
   "metadata": {},
   "outputs": [
    {
     "name": "stdout",
     "output_type": "stream",
     "text": [
      "[2, 4, 8, 16, 32]\n"
     ]
    },
    {
     "data": {
      "text/plain": [
       "list"
      ]
     },
     "execution_count": 20,
     "metadata": {},
     "output_type": "execute_result"
    }
   ],
   "source": [
    "# %load solutions/student-task-3.py\n",
    "def power_of_two(n):\n",
    "    out = [ 2**i for i in range(1,n+1) ]\n",
    "    return out\n",
    "out = power_of_two(5)\n",
    "print(out)\n",
    "type(out)"
   ]
  },
  {
   "cell_type": "markdown",
   "metadata": {
    "deletable": false,
    "editable": false,
    "nbgrader": {
     "cell_type": "markdown",
     "checksum": "b48b06906e3e509dc05f8e6928bc4fb9",
     "grade": false,
     "grade_id": "cell-590663e22533499f",
     "locked": true,
     "schema_version": 3,
     "solution": false,
     "task": false
    }
   },
   "source": [
    "<a id='pylibs'></a>\n",
    "    \n",
    "### <center>Python Libraries</center>\n",
    "    "
   ]
  },
  {
   "cell_type": "markdown",
   "metadata": {
    "deletable": false,
    "editable": false,
    "nbgrader": {
     "cell_type": "markdown",
     "checksum": "8e2aea27b85fb80283c1323ef019b7f3",
     "grade": false,
     "grade_id": "cell-d33fe7d059ddc3c6",
     "locked": true,
     "schema_version": 3,
     "solution": false,
     "task": false
    }
   },
   "source": [
    "Python programs can import functions from **libraries** or so-called **packages**. Some of the most commonly used Python libraries are:\n",
    "\n",
    "\n",
    "**NumPy** - (Numerical Python) for operations involving arrays of numbers. One-dimensional NumPy arrays are used to represent Euclidean vectors. Two-dimensional NumPy arrays can represent matrices and higher-dimensional arrays represent tensors.\n",
    "\n",
    "https://numpy.org/\n",
    "\n",
    "\n",
    "**Pandas** - A library for loading, analyzing, and manipulating structured data.\n",
    "\n",
    "https://pandas.pydata.org/docs/\n",
    "\n",
    "\n",
    "**Matplotlib** - A library for data visualization containing many useful tools, e.g., for plotting time series or images. \n",
    "\n",
    "https://matplotlib.org/3.1.1/contents.html\n",
    "\n",
    "\n",
    "**Scikit-learn** - A library containing implementations of several traditional machine learning methods, such as linear regression, decision trees, and clustering methods. \n",
    "\n",
    "https://scikit-learn.org/stable/\n",
    "\n"
   ]
  },
  {
   "cell_type": "markdown",
   "metadata": {
    "deletable": false,
    "editable": false,
    "nbgrader": {
     "cell_type": "markdown",
     "checksum": "764a358e466f4456cac58fa2c190999b",
     "grade": false,
     "grade_id": "cell-ed09f5f65a8fdca4",
     "locked": true,
     "schema_version": 3,
     "solution": false,
     "task": false
    }
   },
   "source": [
    " <b><center><font size=4>How To Use A Python Library</font></center></b>"
   ]
  },
  {
   "cell_type": "markdown",
   "metadata": {
    "deletable": false,
    "editable": false,
    "nbgrader": {
     "cell_type": "markdown",
     "checksum": "772a9efc4df77bef4555565e3134fb23",
     "grade": false,
     "grade_id": "cell-c9c1ee4b7915d519",
     "locked": true,
     "schema_version": 3,
     "solution": false,
     "task": false
    }
   },
   "source": [
    "In order to use functions/classes provided by a library, it must first be imported via the command\n",
    "\n",
    "`import <library name> as <short name>`.\n",
    "\n",
    "For example, the statement\n",
    "\n",
    "`import numpy as np`\n",
    "\n",
    "imports the main `numpy` module under the name `np`.\n",
    "\n",
    "Missing imports of libraries are the main cause of error message\n",
    "\n",
    "`NameError: <short name> is not defined`\n",
    "\n",
    "The error message\n",
    "\n",
    "`NameError: np is not defined`\n",
    "\n",
    "arises if a function of a library \"np\" is used, where the library has not been imported beforehand. "
   ]
  },
  {
   "cell_type": "markdown",
   "metadata": {
    "deletable": false,
    "editable": false,
    "nbgrader": {
     "cell_type": "markdown",
     "checksum": "d21977649acb42d522e3191f99dabd90",
     "grade": false,
     "grade_id": "cell-1606624fe1fe5a89",
     "locked": true,
     "schema_version": 3,
     "solution": false,
     "task": false
    }
   },
   "source": [
    "<a id=df></a>\n",
    "    \n",
    "### <center>Pandas Data Frames</center>"
   ]
  },
  {
   "cell_type": "markdown",
   "metadata": {
    "deletable": false,
    "editable": false,
    "nbgrader": {
     "cell_type": "markdown",
     "checksum": "fc8f5e3d6383b8b87f201ba5d5cb4d87",
     "grade": false,
     "grade_id": "cell-28cfed2b7b3d36bf",
     "locked": true,
     "schema_version": 3,
     "solution": false,
     "task": false
    }
   },
   "source": [
    "The library `Pandas` provides the class (object type) `DataFrame`. A `DataFrame`is a two-dimensional (with rows and columns) tabular structure. Dataframes are convenient for storing and manipulating heterogeneous data such mixtures of numeric and text data. "
   ]
  },
  {
   "cell_type": "code",
   "execution_count": 21,
   "metadata": {
    "deletable": false,
    "editable": false,
    "nbgrader": {
     "cell_type": "code",
     "checksum": "d798ba4c13b28d1f0a7f936cdce556bb",
     "grade": false,
     "grade_id": "cell-24f3608290ed90a6",
     "locked": true,
     "schema_version": 3,
     "solution": false,
     "task": false
    }
   },
   "outputs": [
    {
     "data": {
      "text/html": [
       "<div>\n",
       "<style scoped>\n",
       "    .dataframe tbody tr th:only-of-type {\n",
       "        vertical-align: middle;\n",
       "    }\n",
       "\n",
       "    .dataframe tbody tr th {\n",
       "        vertical-align: top;\n",
       "    }\n",
       "\n",
       "    .dataframe thead th {\n",
       "        text-align: right;\n",
       "    }\n",
       "</style>\n",
       "<table border=\"1\" class=\"dataframe\">\n",
       "  <thead>\n",
       "    <tr style=\"text-align: right;\">\n",
       "      <th></th>\n",
       "      <th>animal</th>\n",
       "      <th>name</th>\n",
       "      <th>age, years</th>\n",
       "    </tr>\n",
       "  </thead>\n",
       "  <tbody>\n",
       "    <tr>\n",
       "      <th>id1</th>\n",
       "      <td>cat</td>\n",
       "      <td>Fluffy</td>\n",
       "      <td>3.0</td>\n",
       "    </tr>\n",
       "    <tr>\n",
       "      <th>id2</th>\n",
       "      <td>dog</td>\n",
       "      <td>Chewy</td>\n",
       "      <td>5.0</td>\n",
       "    </tr>\n",
       "    <tr>\n",
       "      <th>id3</th>\n",
       "      <td>mouse</td>\n",
       "      <td>Squeaky</td>\n",
       "      <td>0.5</td>\n",
       "    </tr>\n",
       "    <tr>\n",
       "      <th>id4</th>\n",
       "      <td>rat</td>\n",
       "      <td>Spotty</td>\n",
       "      <td>1.0</td>\n",
       "    </tr>\n",
       "    <tr>\n",
       "      <th>id5</th>\n",
       "      <td>cat</td>\n",
       "      <td>Diablo</td>\n",
       "      <td>8.0</td>\n",
       "    </tr>\n",
       "  </tbody>\n",
       "</table>\n",
       "</div>"
      ],
      "text/plain": [
       "    animal     name  age, years\n",
       "id1    cat   Fluffy         3.0\n",
       "id2    dog    Chewy         5.0\n",
       "id3  mouse  Squeaky         0.5\n",
       "id4    rat   Spotty         1.0\n",
       "id5    cat   Diablo         8.0"
      ]
     },
     "execution_count": 21,
     "metadata": {},
     "output_type": "execute_result"
    }
   ],
   "source": [
    "# import 'pandas' library\n",
    "import pandas as pd\n",
    "\n",
    "# create dictionary\n",
    "mydict = {'animal':['cat', 'dog','mouse','rat', 'cat'],\n",
    "         'name':['Fluffy','Chewy','Squeaky','Spotty', 'Diablo'],\n",
    "         'age, years': [3,5,0.5,1,8]}\n",
    "\n",
    "# create dataframe from dictionary\n",
    "df = pd.DataFrame(mydict, index=['id1','id2','id3','id4','id5'])\n",
    "df"
   ]
  },
  {
   "cell_type": "code",
   "execution_count": 17,
   "metadata": {
    "deletable": false,
    "editable": false,
    "nbgrader": {
     "cell_type": "code",
     "checksum": "642ca5dc3697e32d09c354e8bf8fd4a4",
     "grade": false,
     "grade_id": "cell-dbbdd95cedabb97a",
     "locked": true,
     "schema_version": 3,
     "solution": false,
     "task": false
    }
   },
   "outputs": [
    {
     "name": "stdout",
     "output_type": "stream",
     "text": [
      "animal           cat\n",
      "name          Fluffy\n",
      "age, years       3.0\n",
      "Name: id1, dtype: object\n",
      "\n",
      " animal           cat\n",
      "name          Fluffy\n",
      "age, years       3.0\n",
      "Name: id1, dtype: object\n"
     ]
    }
   ],
   "source": [
    "# Accessing DataFrame elements\n",
    "\n",
    "# access a row by name with .loc \n",
    "print(df.loc['id1'])\n",
    "\n",
    "# access a row by index with .iloc \n",
    "print('\\n', df.iloc[0])"
   ]
  },
  {
   "cell_type": "code",
   "execution_count": 18,
   "metadata": {
    "deletable": false,
    "editable": false,
    "nbgrader": {
     "cell_type": "code",
     "checksum": "4444c9d2bbacbf333ff166b7c7848829",
     "grade": false,
     "grade_id": "cell-bdba7018ea355da6",
     "locked": true,
     "schema_version": 3,
     "solution": false,
     "task": false
    },
    "scrolled": true
   },
   "outputs": [
    {
     "name": "stdout",
     "output_type": "stream",
     "text": [
      "id1      cat\n",
      "id2      dog\n",
      "id3    mouse\n",
      "id4      rat\n",
      "id5      cat\n",
      "Name: animal, dtype: object\n",
      "\n",
      " id1      cat\n",
      "id2      dog\n",
      "id3    mouse\n",
      "id4      rat\n",
      "id5      cat\n",
      "Name: animal, dtype: object\n",
      "\n",
      " id1      cat\n",
      "id2      dog\n",
      "id3    mouse\n",
      "id4      rat\n",
      "id5      cat\n",
      "Name: animal, dtype: object\n"
     ]
    }
   ],
   "source": [
    "# access a column by name with .loc \n",
    "print(df.loc[:,'animal'])\n",
    "\n",
    "# accsss a column by name without .loc \n",
    "print('\\n', df['animal'])\n",
    "\n",
    "# access a column by index with .iloc \n",
    "print('\\n', df.iloc[:,0])"
   ]
  },
  {
   "cell_type": "code",
   "execution_count": 22,
   "metadata": {},
   "outputs": [
    {
     "name": "stdout",
     "output_type": "stream",
     "text": [
      "\n",
      "     animal    name  age, years\n",
      "id1    cat  Fluffy         3.0\n",
      "id2    dog   Chewy         5.0\n"
     ]
    }
   ],
   "source": [
    "print('\\n', df.iloc[0:2])"
   ]
  },
  {
   "cell_type": "code",
   "execution_count": 23,
   "metadata": {
    "deletable": false,
    "editable": false,
    "nbgrader": {
     "cell_type": "code",
     "checksum": "2428b05dfa71ec2f34a8840a9163922f",
     "grade": false,
     "grade_id": "cell-76ae2b0205be0c1a",
     "locked": true,
     "schema_version": 3,
     "solution": false,
     "task": false
    }
   },
   "outputs": [
    {
     "name": "stdout",
     "output_type": "stream",
     "text": [
      "animal       cat\n",
      "name      Fluffy\n",
      "Name: id1, dtype: object\n",
      "\n",
      " animal       cat\n",
      "name      Fluffy\n",
      "Name: id1, dtype: object\n"
     ]
    }
   ],
   "source": [
    "# access specific row and columns by name with .loc\n",
    "print(df.loc['id1',['animal','name']])\n",
    "\n",
    "# access specific row and columns by index with .iloc\n",
    "print('\\n', df.iloc[0,[0,1]])"
   ]
  },
  {
   "cell_type": "code",
   "execution_count": 24,
   "metadata": {
    "deletable": false,
    "editable": false,
    "nbgrader": {
     "cell_type": "code",
     "checksum": "69eaa37a4cdf3a754a2db0f4d02932a3",
     "grade": false,
     "grade_id": "cell-1e44c3e88211a90c",
     "locked": true,
     "schema_version": 3,
     "solution": false,
     "task": false
    }
   },
   "outputs": [
    {
     "name": "stdout",
     "output_type": "stream",
     "text": [
      "    animal     name  age, years\n",
      "id1    cat   Fluffy         3.0\n",
      "id3  mouse  Squeaky         0.5\n",
      "id4    rat   Spotty         1.0\n",
      "\n",
      "\n",
      "    animal    name  age, years\n",
      "id1    cat  Fluffy         3.0\n",
      "id5    cat  Diablo         8.0\n",
      "\n",
      "\n",
      "    animal    name  age, years\n",
      "id1    cat  Fluffy         3.0\n",
      "id2    dog   Chewy         5.0\n",
      "id5    cat  Diablo         8.0\n"
     ]
    }
   ],
   "source": [
    "# select subset of data with boolean indexing\n",
    "\n",
    "# select pets with age <= 4\n",
    "print(df[df[\"age, years\"]<=4])\n",
    "print(\"\\n\") # print empty line\n",
    "\n",
    "# select only cats\n",
    "print(df[df[\"animal\"]==\"cat\"])\n",
    "print(\"\\n\") # print empty line\n",
    "\n",
    "# select cats and dogs by using \"|\" operator (equivalent to `OR` opeartor) \n",
    "print(df[(df[\"animal\"]==\"cat\") | (df[\"animal\"]==\"dog\")])"
   ]
  },
  {
   "cell_type": "code",
   "execution_count": 25,
   "metadata": {
    "deletable": false,
    "editable": false,
    "nbgrader": {
     "cell_type": "code",
     "checksum": "630387aa85896b577c3809a66cfae160",
     "grade": false,
     "grade_id": "cell-535f131014b7d024",
     "locked": true,
     "schema_version": 3,
     "solution": false,
     "task": false
    }
   },
   "outputs": [
    {
     "name": "stdout",
     "output_type": "stream",
     "text": [
      "Shape of the dataframe:  (600, 2)\n",
      "Number of dataframe rows:  600\n",
      "Number of dataframe columns:  2\n"
     ]
    },
    {
     "data": {
      "text/html": [
       "<div>\n",
       "<style scoped>\n",
       "    .dataframe tbody tr th:only-of-type {\n",
       "        vertical-align: middle;\n",
       "    }\n",
       "\n",
       "    .dataframe tbody tr th {\n",
       "        vertical-align: top;\n",
       "    }\n",
       "\n",
       "    .dataframe thead th {\n",
       "        text-align: right;\n",
       "    }\n",
       "</style>\n",
       "<table border=\"1\" class=\"dataframe\">\n",
       "  <thead>\n",
       "    <tr style=\"text-align: right;\">\n",
       "      <th></th>\n",
       "      <th>0</th>\n",
       "      <th>1</th>\n",
       "    </tr>\n",
       "  </thead>\n",
       "  <tbody>\n",
       "    <tr>\n",
       "      <th>0</th>\n",
       "      <td>0.471435</td>\n",
       "      <td>-1.190976</td>\n",
       "    </tr>\n",
       "    <tr>\n",
       "      <th>1</th>\n",
       "      <td>1.432707</td>\n",
       "      <td>-0.312652</td>\n",
       "    </tr>\n",
       "    <tr>\n",
       "      <th>2</th>\n",
       "      <td>-0.720589</td>\n",
       "      <td>0.887163</td>\n",
       "    </tr>\n",
       "    <tr>\n",
       "      <th>3</th>\n",
       "      <td>0.859588</td>\n",
       "      <td>-0.636524</td>\n",
       "    </tr>\n",
       "    <tr>\n",
       "      <th>4</th>\n",
       "      <td>0.015696</td>\n",
       "      <td>-2.242685</td>\n",
       "    </tr>\n",
       "  </tbody>\n",
       "</table>\n",
       "</div>"
      ],
      "text/plain": [
       "          0         1\n",
       "0  0.471435 -1.190976\n",
       "1  1.432707 -0.312652\n",
       "2 -0.720589  0.887163\n",
       "3  0.859588 -0.636524\n",
       "4  0.015696 -2.242685"
      ]
     },
     "execution_count": 25,
     "metadata": {},
     "output_type": "execute_result"
    }
   ],
   "source": [
    "# loading from .csv file by using pandas DataFrame structure\n",
    "df = pd.read_csv('../../../coursedata/0_Intro/Data.csv')\n",
    "\n",
    "# check the shape of the dataframe\n",
    "print(\"Shape of the dataframe: \", df.shape)\n",
    "print(\"Number of dataframe rows: \", df.shape[0])\n",
    "print(\"Number of dataframe columns: \", df.shape[1])\n",
    "\n",
    "# print first 5 rows \n",
    "df.head()"
   ]
  },
  {
   "cell_type": "code",
   "execution_count": 26,
   "metadata": {
    "deletable": false,
    "editable": false,
    "nbgrader": {
     "cell_type": "code",
     "checksum": "4ff6b70a9983da322d3968e2ca348807",
     "grade": false,
     "grade_id": "cell-81c0b19c5c2f3525",
     "locked": true,
     "schema_version": 3,
     "solution": false,
     "task": false
    }
   },
   "outputs": [
    {
     "data": {
      "text/plain": [
       "array([[ 0.47143516, -1.19097569],\n",
       "       [ 1.43270697, -0.3126519 ],\n",
       "       [-0.72058873,  0.88716294],\n",
       "       ...,\n",
       "       [ 3.16009399,  3.83897138],\n",
       "       [ 3.28939313,  3.68964166],\n",
       "       [ 3.39549918,  4.36393359]])"
      ]
     },
     "execution_count": 26,
     "metadata": {},
     "output_type": "execute_result"
    }
   ],
   "source": [
    "# Convert a dataframe to a numpy array\n",
    "\n",
    "# DataFrame.values return a Numpy representation of the DataFrame.\n",
    "X = df.values\n",
    "X"
   ]
  },
  {
   "cell_type": "code",
   "execution_count": 27,
   "metadata": {},
   "outputs": [
    {
     "name": "stdout",
     "output_type": "stream",
     "text": [
      "[[-0.52856484 -2.19097569]\n",
      " [ 0.43270697 -1.3126519 ]\n",
      " [-1.72058873 -0.11283706]\n",
      " ...\n",
      " [ 2.16009399  2.83897138]\n",
      " [ 2.28939313  2.68964166]\n",
      " [ 2.39549918  3.36393359]]\n",
      "\n",
      "S: 8749.333960325119\n"
     ]
    }
   ],
   "source": [
    "import numpy as np\n",
    "O=(X-1)\n",
    "print(O)\n",
    "\n",
    "S=np.sum((X-1)**2)\n",
    "print(\"\\nS:\",S)"
   ]
  },
  {
   "cell_type": "code",
   "execution_count": 28,
   "metadata": {
    "deletable": false,
    "editable": false,
    "nbgrader": {
     "cell_type": "code",
     "checksum": "b0f45fafad4c934d9ade7118dddd1931",
     "grade": false,
     "grade_id": "cell-90e85790c5476bcc",
     "locked": true,
     "schema_version": 3,
     "solution": false,
     "task": false
    }
   },
   "outputs": [
    {
     "data": {
      "text/html": [
       "<div>\n",
       "<style scoped>\n",
       "    .dataframe tbody tr th:only-of-type {\n",
       "        vertical-align: middle;\n",
       "    }\n",
       "\n",
       "    .dataframe tbody tr th {\n",
       "        vertical-align: top;\n",
       "    }\n",
       "\n",
       "    .dataframe thead th {\n",
       "        text-align: right;\n",
       "    }\n",
       "</style>\n",
       "<table border=\"1\" class=\"dataframe\">\n",
       "  <thead>\n",
       "    <tr style=\"text-align: right;\">\n",
       "      <th></th>\n",
       "      <th>x1</th>\n",
       "      <th>x2</th>\n",
       "    </tr>\n",
       "  </thead>\n",
       "  <tbody>\n",
       "    <tr>\n",
       "      <th>0</th>\n",
       "      <td>0.471435</td>\n",
       "      <td>-1.190976</td>\n",
       "    </tr>\n",
       "    <tr>\n",
       "      <th>1</th>\n",
       "      <td>1.432707</td>\n",
       "      <td>-0.312652</td>\n",
       "    </tr>\n",
       "    <tr>\n",
       "      <th>2</th>\n",
       "      <td>-0.720589</td>\n",
       "      <td>0.887163</td>\n",
       "    </tr>\n",
       "    <tr>\n",
       "      <th>3</th>\n",
       "      <td>0.859588</td>\n",
       "      <td>-0.636524</td>\n",
       "    </tr>\n",
       "    <tr>\n",
       "      <th>4</th>\n",
       "      <td>0.015696</td>\n",
       "      <td>-2.242685</td>\n",
       "    </tr>\n",
       "  </tbody>\n",
       "</table>\n",
       "</div>"
      ],
      "text/plain": [
       "         x1        x2\n",
       "0  0.471435 -1.190976\n",
       "1  1.432707 -0.312652\n",
       "2 -0.720589  0.887163\n",
       "3  0.859588 -0.636524\n",
       "4  0.015696 -2.242685"
      ]
     },
     "execution_count": 28,
     "metadata": {},
     "output_type": "execute_result"
    }
   ],
   "source": [
    "# Convert a numpy array back to a dataframe\n",
    "\n",
    "df = pd.DataFrame({'x1': X[:,0], 'x2': X[:,1]})\n",
    "df.head()"
   ]
  },
  {
   "cell_type": "markdown",
   "metadata": {
    "deletable": false,
    "editable": false,
    "nbgrader": {
     "cell_type": "markdown",
     "checksum": "5a331008ee335e8b2888717fadd564c6",
     "grade": false,
     "grade_id": "cell-5f38c9ef4cbd7acf",
     "locked": true,
     "schema_version": 3,
     "solution": false,
     "task": false
    }
   },
   "source": [
    "With `pd.read_<format name>` it is possible to read also excel, json, html, sql and many others types of files:\n",
    "\n",
    "https://pandas.pydata.org/pandas-docs/stable/reference/io.html"
   ]
  },
  {
   "cell_type": "markdown",
   "metadata": {
    "deletable": false,
    "editable": false,
    "nbgrader": {
     "cell_type": "markdown",
     "checksum": "5c6a692d8a37a56cd1aa26ec07514999",
     "grade": false,
     "grade_id": "cell-0c8fbdefe2327b08",
     "locked": true,
     "schema_version": 3,
     "solution": false,
     "task": false
    }
   },
   "source": [
    "<a id=plt></a>\n",
    "\n",
    "### <center>Plotting with Matplotlib</center>\n"
   ]
  },
  {
   "cell_type": "markdown",
   "metadata": {
    "deletable": false,
    "editable": false,
    "nbgrader": {
     "cell_type": "markdown",
     "checksum": "8c38fd834a5d0e170185e66205aa3765",
     "grade": false,
     "grade_id": "cell-0cf0289e6f65380d",
     "locked": true,
     "schema_version": 3,
     "solution": false,
     "task": false
    }
   },
   "source": [
    "Matplotlib is a library that provides plotting functionality for Python. Good introductory tutorials for Matplotlib can be found at https://matplotlib.org/tutorials/index.html.\n",
    "\n",
    "A useful command for creating a plot in Python is \n",
    "\n",
    "`fig, axes = plt.subplots(nrows, ncols, figsize=(width, height))`\n",
    "\n",
    "`plt.subplots()` returns figure and axes (Axes object or array of Axes objects). \n",
    "`nrows, ncols` is number of rows/columns of the subplot grid and `width, height` is size of a whole plot."
   ]
  },
  {
   "cell_type": "code",
   "execution_count": 1,
   "metadata": {
    "deletable": false,
    "editable": false,
    "nbgrader": {
     "cell_type": "code",
     "checksum": "8fa59baf68b1d37da6a028304212a8c1",
     "grade": false,
     "grade_id": "cell-860312b891b1944b",
     "locked": true,
     "schema_version": 3,
     "solution": false,
     "task": false
    },
    "scrolled": true
   },
   "outputs": [
    {
     "data": {
      "image/png": "[encoded data removed]",
      "text/plain": [
       "<Figure size 800x400 with 2 Axes>"
      ]
     },
     "metadata": {},
     "output_type": "display_data"
    }
   ],
   "source": [
    "# Plotting line and scatter plot\n",
    "\n",
    "# the library \"pyplot\" provides functions for plotting data \n",
    "import matplotlib.pyplot as plt\n",
    "# \"numpy\" provides implementations of many matrix operations \n",
    "import numpy as np\n",
    "\n",
    "# create data to plot (numpy arrays)\n",
    "x1 = np.linspace(10, 100, 50)\n",
    "y1 = x1**2\n",
    "\n",
    "# set random state for reproducibility \n",
    "np.random.seed(42)\n",
    "\n",
    "# generate 100 realizations of a Gaussian random variable \n",
    "x2 = np.random.rand(100,)\n",
    "y2 = np.random.rand(100,)\n",
    "\n",
    "# create figure and axes objects \n",
    "fig, axes = plt.subplots(1,2, figsize=(8,4))\n",
    "# plot a line in 1st subplot (line plot)\n",
    "axes[0].plot(x1, y1, c='r')\n",
    "# plot scatter in 2nd subplot (scatter plot)\n",
    "axes[1].scatter(x2, y2)\n",
    "\n",
    "# set axes labels for 1st subplot \n",
    "axes[0].set_xlabel(\"x1\")\n",
    "axes[0].set_ylabel(\"y1\")\n",
    "# set axes labels for 2nd subplot \n",
    "axes[1].set_xlabel(\"x2\")\n",
    "axes[1].set_ylabel(\"y2\")\n",
    "# set titles\n",
    "axes[0].set_title('plot 1')\n",
    "axes[1].set_title('plot 2')\n",
    "\n",
    "# adjust subplots so the labels of different axes are not overlapping \n",
    "fig.tight_layout()\n",
    "# display plot\n",
    "plt.show()"
   ]
  },
  {
   "cell_type": "code",
   "execution_count": 3,
   "metadata": {},
   "outputs": [
    {
     "name": "stdout",
     "output_type": "stream",
     "text": [
      "[ 10.          11.83673469  13.67346939  15.51020408  17.34693878\n",
      "  19.18367347  21.02040816  22.85714286  24.69387755  26.53061224\n",
      "  28.36734694  30.20408163  32.04081633  33.87755102  35.71428571\n",
      "  37.55102041  39.3877551   41.2244898   43.06122449  44.89795918\n",
      "  46.73469388  48.57142857  50.40816327  52.24489796  54.08163265\n",
      "  55.91836735  57.75510204  59.59183673  61.42857143  63.26530612\n",
      "  65.10204082  66.93877551  68.7755102   70.6122449   72.44897959\n",
      "  74.28571429  76.12244898  77.95918367  79.79591837  81.63265306\n",
      "  83.46938776  85.30612245  87.14285714  88.97959184  90.81632653\n",
      "  92.65306122  94.48979592  96.32653061  98.16326531 100.        ]\n"
     ]
    }
   ],
   "source": [
    "print(x1)"
   ]
  },
  {
   "cell_type": "code",
   "execution_count": 29,
   "metadata": {
    "deletable": false,
    "editable": false,
    "nbgrader": {
     "cell_type": "code",
     "checksum": "7914c486407fde451d15d8f117abb972",
     "grade": false,
     "grade_id": "cell-fb39f04fd98e0d68",
     "locked": true,
     "schema_version": 3,
     "solution": false,
     "task": false
    },
    "scrolled": true
   },
   "outputs": [
    {
     "data": {
      "image/png": "[encoded data removed]",
      "text/plain": [
       "<Figure size 432x288 with 1 Axes>"
      ]
     },
     "metadata": {
      "needs_background": "light"
     },
     "output_type": "display_data"
    }
   ],
   "source": [
    "# Plotting 2D plot with meshgrid \n",
    "\n",
    "# create numpy arrays\n",
    "x = np.arange(-5, 5, 1)\n",
    "y = np.arange(-5, 5, 1)\n",
    "\n",
    "# create the grid\n",
    "xx, yy = np.meshgrid(x, y)\n",
    "\n",
    "# plot the grid \n",
    "plt.plot(xx,yy,marker='.', color='k', linestyle='none')\n",
    "\n",
    "# set axes labels \n",
    "plt.xlabel(\"x\")\n",
    "plt.ylabel(\"y\")\n",
    "# set title\n",
    "plt.title('xy grid', fontweight='bold')\n",
    "\n",
    "# display the plot\n",
    "plt.show()"
   ]
  },
  {
   "cell_type": "code",
   "execution_count": 11,
   "metadata": {},
   "outputs": [
    {
     "data": {
      "text/plain": [
       "numpy.ndarray"
      ]
     },
     "execution_count": 11,
     "metadata": {},
     "output_type": "execute_result"
    }
   ],
   "source": [
    "type(x)"
   ]
  },
  {
   "cell_type": "markdown",
   "metadata": {
    "deletable": false,
    "editable": false,
    "nbgrader": {
     "cell_type": "markdown",
     "checksum": "146ccafc01ff128ed257d1ed1988000b",
     "grade": false,
     "grade_id": "cell-226aeae9ebff3c7a",
     "locked": true,
     "schema_version": 3,
     "solution": false,
     "task": false
    }
   },
   "source": [
    "<a id=eda></a>\n",
    "    \n",
    "### <center>EDA - exploratory data analyses</center>\n",
    "\n",
    "Here we illustrate exploratory data analysis with the use of Python libraries:\n",
    "\n",
    "- we load dataset from sklearn library, which is in typical for sklearn dataset format - bunch\n",
    "- then we convert it to pandas dataframe to print out the dataset as a table and to get descriptive statistics of the dataset\n",
    "- finally, we use pandas built-in function for plotting histograms and seaborn library for constructing correlation plot\n",
    "\n",
    "You can watch the video below for a step-by-step explanation or explore the code by yourself with the help of the documentation and code blocks below."
   ]
  },
  {
   "cell_type": "code",
   "execution_count": 12,
   "metadata": {},
   "outputs": [
    {
     "data": {
      "image/jpeg": "[encoded data removed]",
      "text/html": [
       "\n",
       "        <iframe\n",
       "            width=\"800\"\n",
       "            height=\"500\"\n",
       "            src=\"https://www.youtube.com/embed/Gd-9Xk-UYKg\"\n",
       "            frameborder=\"0\"\n",
       "            allowfullscreen\n",
       "            \n",
       "        ></iframe>\n",
       "        "
      ],
      "text/plain": [
       "<IPython.lib.display.YouTubeVideo at 0x7f259f413a00>"
      ]
     },
     "execution_count": 12,
     "metadata": {},
     "output_type": "execute_result"
    }
   ],
   "source": [
    "from IPython.display import YouTubeVideo\n",
    "\n",
    "YouTubeVideo('Gd-9Xk-UYKg', width=800, height=500)"
   ]
  },
  {
   "cell_type": "code",
   "execution_count": 30,
   "metadata": {},
   "outputs": [
    {
     "data": {
      "text/plain": [
       "dict_keys(['data', 'target', 'frame', 'target_names', 'feature_names', 'DESCR'])"
      ]
     },
     "execution_count": 30,
     "metadata": {},
     "output_type": "execute_result"
    }
   ],
   "source": [
    "from sklearn.datasets import fetch_california_housing\n",
    "\n",
    "# load data from sklearn library\n",
    "data = fetch_california_housing(as_frame=True)\n",
    "\n",
    "# print out keys of `data` bunch object (similar to keys of python dictionary)\n",
    "data.keys()\n",
    "\n"
   ]
  },
  {
   "cell_type": "code",
   "execution_count": 31,
   "metadata": {},
   "outputs": [
    {
     "name": "stdout",
     "output_type": "stream",
     "text": [
      ".. _california_housing_dataset:\n",
      "\n",
      "California Housing dataset\n",
      "--------------------------\n",
      "\n",
      "**Data Set Characteristics:**\n",
      "\n",
      "    :Number of Instances: 20640\n",
      "\n",
      "    :Number of Attributes: 8 numeric, predictive attributes and the target\n",
      "\n",
      "    :Attribute Information:\n",
      "        - MedInc        median income in block group\n",
      "        - HouseAge      median house age in block group\n",
      "        - AveRooms      average number of rooms per household\n",
      "        - AveBedrms     average number of bedrooms per household\n",
      "        - Population    block group population\n",
      "        - AveOccup      average number of household members\n",
      "        - Latitude      block group latitude\n",
      "        - Longitude     block group longitude\n",
      "\n",
      "    :Missing Attribute Values: None\n",
      "\n",
      "This dataset was obtained from the StatLib repository.\n",
      "https://www.dcc.fc.up.pt/~ltorgo/Regression/cal_housing.html\n",
      "\n",
      "The target variable is the median house value for California districts,\n",
      "expressed in hundreds of thousands of dollars ($100,000).\n",
      "\n",
      "This dataset was derived from the 1990 U.S. census, using one row per census\n",
      "block group. A block group is the smallest geographical unit for which the U.S.\n",
      "Census Bureau publishes sample data (a block group typically has a population\n",
      "of 600 to 3,000 people).\n",
      "\n",
      "An household is a group of people residing within a home. Since the average\n",
      "number of rooms and bedrooms in this dataset are provided per household, these\n",
      "columns may take surpinsingly large values for block groups with few households\n",
      "and many empty houses, such as vacation resorts.\n",
      "\n",
      "It can be downloaded/loaded using the\n",
      ":func:`sklearn.datasets.fetch_california_housing` function.\n",
      "\n",
      ".. topic:: References\n",
      "\n",
      "    - Pace, R. Kelley and Ronald Barry, Sparse Spatial Autoregressions,\n",
      "      Statistics and Probability Letters, 33 (1997) 291-297\n",
      "\n"
     ]
    }
   ],
   "source": [
    "# usually datasets loaded from sklearn have attribute `.DESCR`, which stores the dataset information \n",
    "\n",
    "print(data.DESCR)"
   ]
  },
  {
   "cell_type": "code",
   "execution_count": 33,
   "metadata": {},
   "outputs": [
    {
     "data": {
      "text/html": [
       "<div>\n",
       "<style scoped>\n",
       "    .dataframe tbody tr th:only-of-type {\n",
       "        vertical-align: middle;\n",
       "    }\n",
       "\n",
       "    .dataframe tbody tr th {\n",
       "        vertical-align: top;\n",
       "    }\n",
       "\n",
       "    .dataframe thead th {\n",
       "        text-align: right;\n",
       "    }\n",
       "</style>\n",
       "<table border=\"1\" class=\"dataframe\">\n",
       "  <thead>\n",
       "    <tr style=\"text-align: right;\">\n",
       "      <th></th>\n",
       "      <th>MedInc</th>\n",
       "      <th>HouseAge</th>\n",
       "      <th>AveRooms</th>\n",
       "      <th>AveBedrms</th>\n",
       "      <th>Population</th>\n",
       "      <th>AveOccup</th>\n",
       "      <th>Latitude</th>\n",
       "      <th>Longitude</th>\n",
       "      <th>MedHouseVal</th>\n",
       "    </tr>\n",
       "  </thead>\n",
       "  <tbody>\n",
       "    <tr>\n",
       "      <th>0</th>\n",
       "      <td>8.3252</td>\n",
       "      <td>41.0</td>\n",
       "      <td>6.984127</td>\n",
       "      <td>1.023810</td>\n",
       "      <td>322.0</td>\n",
       "      <td>2.555556</td>\n",
       "      <td>37.88</td>\n",
       "      <td>-122.23</td>\n",
       "      <td>4.526</td>\n",
       "    </tr>\n",
       "    <tr>\n",
       "      <th>1</th>\n",
       "      <td>8.3014</td>\n",
       "      <td>21.0</td>\n",
       "      <td>6.238137</td>\n",
       "      <td>0.971880</td>\n",
       "      <td>2401.0</td>\n",
       "      <td>2.109842</td>\n",
       "      <td>37.86</td>\n",
       "      <td>-122.22</td>\n",
       "      <td>3.585</td>\n",
       "    </tr>\n",
       "    <tr>\n",
       "      <th>2</th>\n",
       "      <td>7.2574</td>\n",
       "      <td>52.0</td>\n",
       "      <td>8.288136</td>\n",
       "      <td>1.073446</td>\n",
       "      <td>496.0</td>\n",
       "      <td>2.802260</td>\n",
       "      <td>37.85</td>\n",
       "      <td>-122.24</td>\n",
       "      <td>3.521</td>\n",
       "    </tr>\n",
       "    <tr>\n",
       "      <th>3</th>\n",
       "      <td>5.6431</td>\n",
       "      <td>52.0</td>\n",
       "      <td>5.817352</td>\n",
       "      <td>1.073059</td>\n",
       "      <td>558.0</td>\n",
       "      <td>2.547945</td>\n",
       "      <td>37.85</td>\n",
       "      <td>-122.25</td>\n",
       "      <td>3.413</td>\n",
       "    </tr>\n",
       "    <tr>\n",
       "      <th>4</th>\n",
       "      <td>3.8462</td>\n",
       "      <td>52.0</td>\n",
       "      <td>6.281853</td>\n",
       "      <td>1.081081</td>\n",
       "      <td>565.0</td>\n",
       "      <td>2.181467</td>\n",
       "      <td>37.85</td>\n",
       "      <td>-122.25</td>\n",
       "      <td>3.422</td>\n",
       "    </tr>\n",
       "  </tbody>\n",
       "</table>\n",
       "</div>"
      ],
      "text/plain": [
       "   MedInc  HouseAge  AveRooms  AveBedrms  Population  AveOccup  Latitude  \\\n",
       "0  8.3252      41.0  6.984127   1.023810       322.0  2.555556     37.88   \n",
       "1  8.3014      21.0  6.238137   0.971880      2401.0  2.109842     37.86   \n",
       "2  7.2574      52.0  8.288136   1.073446       496.0  2.802260     37.85   \n",
       "3  5.6431      52.0  5.817352   1.073059       558.0  2.547945     37.85   \n",
       "4  3.8462      52.0  6.281853   1.081081       565.0  2.181467     37.85   \n",
       "\n",
       "   Longitude  MedHouseVal  \n",
       "0    -122.23        4.526  \n",
       "1    -122.22        3.585  \n",
       "2    -122.24        3.521  \n",
       "3    -122.25        3.413  \n",
       "4    -122.25        3.422  "
      ]
     },
     "execution_count": 33,
     "metadata": {},
     "output_type": "execute_result"
    }
   ],
   "source": [
    "# attribute `.frame` of a bunch object `data` returns pandas dataframe\n",
    "df = data.frame\n",
    "\n",
    "# print first 5 rows of the dataframe\n",
    "df.head()"
   ]
  },
  {
   "cell_type": "code",
   "execution_count": 34,
   "metadata": {},
   "outputs": [
    {
     "name": "stdout",
     "output_type": "stream",
     "text": [
      "<class 'pandas.core.frame.DataFrame'>\n",
      "RangeIndex: 20640 entries, 0 to 20639\n",
      "Data columns (total 9 columns):\n",
      " #   Column       Non-Null Count  Dtype  \n",
      "---  ------       --------------  -----  \n",
      " 0   MedInc       20640 non-null  float64\n",
      " 1   HouseAge     20640 non-null  float64\n",
      " 2   AveRooms     20640 non-null  float64\n",
      " 3   AveBedrms    20640 non-null  float64\n",
      " 4   Population   20640 non-null  float64\n",
      " 5   AveOccup     20640 non-null  float64\n",
      " 6   Latitude     20640 non-null  float64\n",
      " 7   Longitude    20640 non-null  float64\n",
      " 8   MedHouseVal  20640 non-null  float64\n",
      "dtypes: float64(9)\n",
      "memory usage: 1.4 MB\n"
     ]
    }
   ],
   "source": [
    "# print information about the dataframe\n",
    "df.info()"
   ]
  },
  {
   "cell_type": "code",
   "execution_count": 19,
   "metadata": {},
   "outputs": [
    {
     "data": {
      "text/html": [
       "<div>\n",
       "<style scoped>\n",
       "    .dataframe tbody tr th:only-of-type {\n",
       "        vertical-align: middle;\n",
       "    }\n",
       "\n",
       "    .dataframe tbody tr th {\n",
       "        vertical-align: top;\n",
       "    }\n",
       "\n",
       "    .dataframe thead th {\n",
       "        text-align: right;\n",
       "    }\n",
       "</style>\n",
       "<table border=\"1\" class=\"dataframe\">\n",
       "  <thead>\n",
       "    <tr style=\"text-align: right;\">\n",
       "      <th></th>\n",
       "      <th>MedInc</th>\n",
       "      <th>HouseAge</th>\n",
       "      <th>AveRooms</th>\n",
       "      <th>AveBedrms</th>\n",
       "      <th>Population</th>\n",
       "      <th>AveOccup</th>\n",
       "      <th>Latitude</th>\n",
       "      <th>Longitude</th>\n",
       "      <th>MedHouseVal</th>\n",
       "    </tr>\n",
       "  </thead>\n",
       "  <tbody>\n",
       "    <tr>\n",
       "      <th>count</th>\n",
       "      <td>20640.000000</td>\n",
       "      <td>20640.000000</td>\n",
       "      <td>20640.000000</td>\n",
       "      <td>20640.000000</td>\n",
       "      <td>20640.000000</td>\n",
       "      <td>20640.000000</td>\n",
       "      <td>20640.000000</td>\n",
       "      <td>20640.000000</td>\n",
       "      <td>20640.000000</td>\n",
       "    </tr>\n",
       "    <tr>\n",
       "      <th>mean</th>\n",
       "      <td>3.870671</td>\n",
       "      <td>28.639486</td>\n",
       "      <td>5.429000</td>\n",
       "      <td>1.096675</td>\n",
       "      <td>1425.476744</td>\n",
       "      <td>3.070655</td>\n",
       "      <td>35.631861</td>\n",
       "      <td>-119.569704</td>\n",
       "      <td>2.068558</td>\n",
       "    </tr>\n",
       "    <tr>\n",
       "      <th>std</th>\n",
       "      <td>1.899822</td>\n",
       "      <td>12.585558</td>\n",
       "      <td>2.474173</td>\n",
       "      <td>0.473911</td>\n",
       "      <td>1132.462122</td>\n",
       "      <td>10.386050</td>\n",
       "      <td>2.135952</td>\n",
       "      <td>2.003532</td>\n",
       "      <td>1.153956</td>\n",
       "    </tr>\n",
       "    <tr>\n",
       "      <th>min</th>\n",
       "      <td>0.499900</td>\n",
       "      <td>1.000000</td>\n",
       "      <td>0.846154</td>\n",
       "      <td>0.333333</td>\n",
       "      <td>3.000000</td>\n",
       "      <td>0.692308</td>\n",
       "      <td>32.540000</td>\n",
       "      <td>-124.350000</td>\n",
       "      <td>0.149990</td>\n",
       "    </tr>\n",
       "    <tr>\n",
       "      <th>25%</th>\n",
       "      <td>2.563400</td>\n",
       "      <td>18.000000</td>\n",
       "      <td>4.440716</td>\n",
       "      <td>1.006079</td>\n",
       "      <td>787.000000</td>\n",
       "      <td>2.429741</td>\n",
       "      <td>33.930000</td>\n",
       "      <td>-121.800000</td>\n",
       "      <td>1.196000</td>\n",
       "    </tr>\n",
       "    <tr>\n",
       "      <th>50%</th>\n",
       "      <td>3.534800</td>\n",
       "      <td>29.000000</td>\n",
       "      <td>5.229129</td>\n",
       "      <td>1.048780</td>\n",
       "      <td>1166.000000</td>\n",
       "      <td>2.818116</td>\n",
       "      <td>34.260000</td>\n",
       "      <td>-118.490000</td>\n",
       "      <td>1.797000</td>\n",
       "    </tr>\n",
       "    <tr>\n",
       "      <th>75%</th>\n",
       "      <td>4.743250</td>\n",
       "      <td>37.000000</td>\n",
       "      <td>6.052381</td>\n",
       "      <td>1.099526</td>\n",
       "      <td>1725.000000</td>\n",
       "      <td>3.282261</td>\n",
       "      <td>37.710000</td>\n",
       "      <td>-118.010000</td>\n",
       "      <td>2.647250</td>\n",
       "    </tr>\n",
       "    <tr>\n",
       "      <th>max</th>\n",
       "      <td>15.000100</td>\n",
       "      <td>52.000000</td>\n",
       "      <td>141.909091</td>\n",
       "      <td>34.066667</td>\n",
       "      <td>35682.000000</td>\n",
       "      <td>1243.333333</td>\n",
       "      <td>41.950000</td>\n",
       "      <td>-114.310000</td>\n",
       "      <td>5.000010</td>\n",
       "    </tr>\n",
       "  </tbody>\n",
       "</table>\n",
       "</div>"
      ],
      "text/plain": [
       "             MedInc      HouseAge      AveRooms     AveBedrms    Population  \\\n",
       "count  20640.000000  20640.000000  20640.000000  20640.000000  20640.000000   \n",
       "mean       3.870671     28.639486      5.429000      1.096675   1425.476744   \n",
       "std        1.899822     12.585558      2.474173      0.473911   1132.462122   \n",
       "min        0.499900      1.000000      0.846154      0.333333      3.000000   \n",
       "25%        2.563400     18.000000      4.440716      1.006079    787.000000   \n",
       "50%        3.534800     29.000000      5.229129      1.048780   1166.000000   \n",
       "75%        4.743250     37.000000      6.052381      1.099526   1725.000000   \n",
       "max       15.000100     52.000000    141.909091     34.066667  35682.000000   \n",
       "\n",
       "           AveOccup      Latitude     Longitude   MedHouseVal  \n",
       "count  20640.000000  20640.000000  20640.000000  20640.000000  \n",
       "mean       3.070655     35.631861   -119.569704      2.068558  \n",
       "std       10.386050      2.135952      2.003532      1.153956  \n",
       "min        0.692308     32.540000   -124.350000      0.149990  \n",
       "25%        2.429741     33.930000   -121.800000      1.196000  \n",
       "50%        2.818116     34.260000   -118.490000      1.797000  \n",
       "75%        3.282261     37.710000   -118.010000      2.647250  \n",
       "max     1243.333333     41.950000   -114.310000      5.000010  "
      ]
     },
     "execution_count": 19,
     "metadata": {},
     "output_type": "execute_result"
    }
   ],
   "source": [
    "# print descriptive stats of the dataframe\n",
    "df.describe()\n"
   ]
  },
  {
   "cell_type": "code",
   "execution_count": 35,
   "metadata": {},
   "outputs": [
    {
     "data": {
      "image/png": "[encoded data removed]",
      "text/plain": [
       "<Figure size 864x576 with 9 Axes>"
      ]
     },
     "metadata": {
      "needs_background": "light"
     },
     "output_type": "display_data"
    }
   ],
   "source": [
    "# pandas dataframe has method `.hist()`, which plots histograms for each column\n",
    "\n",
    "df.hist(bins=50, figsize=(12, 8))\n",
    "plt.show()"
   ]
  },
  {
   "cell_type": "code",
   "execution_count": 36,
   "metadata": {},
   "outputs": [
    {
     "data": {
      "image/png": "[encoded data removed]",
      "text/plain": [
       "<Figure size 864x648 with 2 Axes>"
      ]
     },
     "metadata": {
      "needs_background": "light"
     },
     "output_type": "display_data"
    }
   ],
   "source": [
    "import seaborn as sns\n",
    "\n",
    "# use pandas dataframe method `.corr()` to compute correlations\n",
    "corrmat = df.corr()\n",
    "corrValmat=corrmat[\"MedHouseVal\"].sort_values(ascending=False)\n",
    "corrValmat\n",
    "# use matplotlib and seaborn libraries for plotting\n",
    "f, ax = plt.subplots(figsize=(12, 9))\n",
    "sns.heatmap(corrmat, square=True, annot=True);"
   ]
  },
  {
   "cell_type": "code",
   "execution_count": 37,
   "metadata": {},
   "outputs": [
    {
     "data": {
      "image/png": "[encoded data removed]",
      "text/plain": [
       "<Figure size 720x504 with 2 Axes>"
      ]
     },
     "metadata": {
      "needs_background": "light"
     },
     "output_type": "display_data"
    }
   ],
   "source": [
    "# use pandas dataframe method `.plot()` to plot features \"Longitude\" and \"Latitude\"\n",
    "# in addition, datapoint's size and color indicate population size and median house value, respectively\n",
    "\n",
    "df.plot(kind=\"scatter\", x=\"Longitude\", y=\"Latitude\", grid=True,\n",
    "             s=df[\"Population\"] / 100, label=\"population\",\n",
    "             c=\"MedHouseVal\", cmap=\"jet\", colorbar=True,\n",
    "             legend=True, sharex=False, figsize=(10, 7))\n",
    "plt.show()"
   ]
  },
  {
   "cell_type": "markdown",
   "metadata": {
    "deletable": false,
    "editable": false,
    "nbgrader": {
     "cell_type": "markdown",
     "checksum": "1f7ac700de542428e52162372adc545d",
     "grade": false,
     "grade_id": "cell-db61b43262d62399",
     "locked": true,
     "schema_version": 3,
     "solution": false,
     "task": false
    }
   },
   "source": [
    "<a id=numpy></a>\n",
    "    \n",
    "### <center>Numpy Arrays</center>"
   ]
  },
  {
   "cell_type": "markdown",
   "metadata": {
    "deletable": false,
    "editable": false,
    "nbgrader": {
     "cell_type": "markdown",
     "checksum": "6fe22d09e486549804f61fb9b4db40f3",
     "grade": false,
     "grade_id": "cell-11e7f1dafc7c37ad",
     "locked": true,
     "schema_version": 3,
     "solution": false,
     "task": false
    }
   },
   "source": [
    "The Python library `numpy` provides implementations of many matrix operations as well as other useful features, such as random number generators. Many functions of this library are based on the data type \"numpy array\". A numpy array is an object that stores $N$-dimensional arrays of numbers, where $N$ is the number of dimensions. The shape of a numpy array is given by a sequence of $N$ integers that indicate the number of \"elements\" in each dimension. Maybe the most important special case of numpy arrays is when $N=1$, corresponding to **vectors**, or when $N=2$ for **matrices**. A matrix with $5$ rows and $2$ columns is represented by a numpy array of shape $(5,2)$. \n",
    "\n",
    "Some additional resources to learn more about `numpy` arrays and related operations can be found here:\n",
    "\n",
    "NumPy library page - https://numpy.org/\n",
    "\n",
    "Learn NumPy in 5 minutes video- https://www.youtube.com/watch?v=xECXZ3tyONo\n",
    "\n",
    "Using NumPy arrays allows for **vectorized computation** which allows, in turn, faster code execution: \n",
    "\n",
    "https://www.pythonlikeyoumeanit.com/Module3_IntroducingNumpy/VectorizedOperations.html\n",
    "\n",
    "https://www.oreilly.com/library/view/python-for-data/9781449323592/ch04.html"
   ]
  },
  {
   "cell_type": "markdown",
   "metadata": {
    "deletable": false,
    "editable": false,
    "nbgrader": {
     "cell_type": "markdown",
     "checksum": "2c45fbd9f05bff865b69d34a238d8f1f",
     "grade": false,
     "grade_id": "cell-f718e607cb7e921c",
     "locked": true,
     "schema_version": 3,
     "solution": false,
     "task": false
    }
   },
   "source": [
    "**<center><font size=\"4\">Ways to create NumPy Arrays</font></center>**"
   ]
  },
  {
   "cell_type": "code",
   "execution_count": 38,
   "metadata": {
    "deletable": false,
    "editable": false,
    "nbgrader": {
     "cell_type": "code",
     "checksum": "644fa5739d7d3e211f4f6ae9f05519df",
     "grade": false,
     "grade_id": "cell-6a866a799dae5dff",
     "locked": true,
     "schema_version": 3,
     "solution": false,
     "task": false
    }
   },
   "outputs": [
    {
     "data": {
      "text/plain": [
       "(array([0, 1, 2, 3, 4, 5, 6, 7, 8, 9]),\n",
       " array([0, 1, 2, 3, 4, 5, 6, 7, 8, 9]),\n",
       " array([0, 1, 2, 3, 4, 5, 6, 7, 8, 9]))"
      ]
     },
     "execution_count": 38,
     "metadata": {},
     "output_type": "execute_result"
    }
   ],
   "source": [
    "# import Python library\n",
    "import numpy as np\n",
    "\n",
    "# convert a list 0,1,..,9 to a numpy array `myarray1`\n",
    "mylist  = [0,1,2,3,4,5,6,7,8,9]\n",
    "myarray1 = np.array(mylist)\n",
    "\n",
    "# use range() to create a numpy array\n",
    "myarray2 = np.array(range(10))\n",
    "\n",
    "# use np.arange() function to create a numpy array\n",
    "myarray3 = np.arange(10)\n",
    "\n",
    "# print values of the arrays\n",
    "myarray1, myarray2, myarray3"
   ]
  },
  {
   "cell_type": "code",
   "execution_count": 43,
   "metadata": {},
   "outputs": [
    {
     "data": {
      "text/plain": [
       "array([0, 1, 2, 3, 4, 5, 6, 7, 8, 9])"
      ]
     },
     "execution_count": 43,
     "metadata": {},
     "output_type": "execute_result"
    }
   ],
   "source": []
  },
  {
   "cell_type": "code",
   "execution_count": 39,
   "metadata": {
    "deletable": false,
    "editable": false,
    "nbgrader": {
     "cell_type": "code",
     "checksum": "2a45980511a7707969a86f84da8688d3",
     "grade": false,
     "grade_id": "cell-fa26ee101c2186cd",
     "locked": true,
     "schema_version": 3,
     "solution": false,
     "task": false
    }
   },
   "outputs": [
    {
     "name": "stdout",
     "output_type": "stream",
     "text": [
      "[[0. 0. 0.]\n",
      " [0. 0. 0.]\n",
      " [0. 0. 0.]\n",
      " [0. 0. 0.]] \n",
      "\n",
      "[[1. 1. 1.]\n",
      " [1. 1. 1.]\n",
      " [1. 1. 1.]\n",
      " [1. 1. 1.]]\n"
     ]
    }
   ],
   "source": [
    "# create an array (4 rows, 3 columns) with zeros\n",
    "zeroarray = np.zeros((4,3)) \n",
    "\n",
    "# create an array (4 rows, 3 columns) with ones\n",
    "onesarray = np.ones((4,3))\n",
    "\n",
    "print(zeroarray,'\\n')\n",
    "print(onesarray)"
   ]
  },
  {
   "cell_type": "code",
   "execution_count": 40,
   "metadata": {
    "deletable": false,
    "editable": false,
    "nbgrader": {
     "cell_type": "code",
     "checksum": "1091a1d117f1267bb2f5fce4349a443b",
     "grade": false,
     "grade_id": "cell-a5c7208a94766915",
     "locked": true,
     "schema_version": 3,
     "solution": false,
     "task": false
    }
   },
   "outputs": [
    {
     "name": "stdout",
     "output_type": "stream",
     "text": [
      "Number of rows: 2 \n",
      "Number of columns: 3\n",
      "[[1 2 3]\n",
      " [4 5 6]]\n"
     ]
    }
   ],
   "source": [
    "# Pass lists directly to create 2D array\n",
    "myarray = np.array([[1,2,3], [4,5,6]])\n",
    "\n",
    "# Check the array dimensions with .shape attribute (rows, columns)\n",
    "print(\"Number of rows: {} \\nNumber of columns: {}\".format(myarray.shape[0], myarray.shape[1]))\n",
    "print(myarray)"
   ]
  },
  {
   "cell_type": "markdown",
   "metadata": {
    "deletable": false,
    "editable": false,
    "nbgrader": {
     "cell_type": "markdown",
     "checksum": "35478e779dcd8cc93f587a79edebe1d3",
     "grade": false,
     "grade_id": "cell-df22f2096c48f230",
     "locked": true,
     "schema_version": 3,
     "solution": false,
     "task": false
    }
   },
   "source": [
    "<div class=\" alert alert-danger\"> \n",
    "    \n",
    "<center><font size=\"5\"><b>Caution!</b></font></center>\n",
    "    \n",
    "<p><center><font size=\"4\">A numpy array of shape (n,1) is different from a numpy array of shape (n,)!</font></center></p>\n",
    "</div>\n",
    "\n",
    "If row-column distinction is important (e.g. for matrix multiplication, transpose), use 2D arrays of shape (n,1)."
   ]
  },
  {
   "cell_type": "code",
   "execution_count": 41,
   "metadata": {
    "deletable": false,
    "editable": false,
    "nbgrader": {
     "cell_type": "code",
     "checksum": "28f5b5f25c62560bfe2b63cbbbc190c7",
     "grade": false,
     "grade_id": "cell-1b7b6c7ba947bb80",
     "locked": true,
     "schema_version": 3,
     "solution": false,
     "task": false
    }
   },
   "outputs": [
    {
     "name": "stdout",
     "output_type": "stream",
     "text": [
      "myarray1: \n",
      " [0 1 2 3 4 5 6 7 8 9]\n",
      "myarray2: \n",
      " [[0]\n",
      " [1]\n",
      " [2]\n",
      " [3]\n",
      " [4]\n",
      " [5]\n",
      " [6]\n",
      " [7]\n",
      " [8]\n",
      " [9]]\n",
      "`myarray1` is 1 - Dimensional np.array of shape (10,)\n",
      "`myarray2` is 2 - Dimensional np.array of shape (10, 1)\n"
     ]
    }
   ],
   "source": [
    "# Note! Array of shape (n,1) is not equal to the array of shape (n,)\n",
    "# Use .shape attribute to check the array's dimensions\n",
    "# Use .reshape() function to get the array with desired dimensions\n",
    "\n",
    "myarray1 = np.array(range(10))\n",
    "myarray2 = np.array(range(10)).reshape(-1,1)\n",
    "\n",
    "print(\"myarray1: \\n\", myarray1)\n",
    "print(\"myarray2: \\n\", myarray2)\n",
    "print(\"`myarray1` is\",  myarray1.ndim,\"- Dimensional np.array of shape\", myarray1.shape)\n",
    "print(\"`myarray2` is\",  myarray2.ndim,\"- Dimensional np.array of shape\", myarray2.shape)"
   ]
  },
  {
   "cell_type": "markdown",
   "metadata": {
    "deletable": false,
    "editable": false,
    "nbgrader": {
     "cell_type": "markdown",
     "checksum": "cdf81fbfb847c499bbc179d38feddc07",
     "grade": false,
     "grade_id": "cell-a8eda1214f930c9d",
     "locked": true,
     "schema_version": 3,
     "solution": false,
     "task": false
    }
   },
   "source": [
    "**<center><font size=\"4\">Slicing and Combining NumPy Arrays</font></center>**"
   ]
  },
  {
   "cell_type": "code",
   "execution_count": 42,
   "metadata": {
    "deletable": false,
    "editable": false,
    "nbgrader": {
     "cell_type": "code",
     "checksum": "d065fba2b00a6e4c3e45a2725246bfa3",
     "grade": false,
     "grade_id": "cell-7bf328158b92e174",
     "locked": true,
     "schema_version": 3,
     "solution": false,
     "task": false
    }
   },
   "outputs": [
    {
     "name": "stdout",
     "output_type": "stream",
     "text": [
      "[10  9  8  7  6  5  4  3  2  1]\n",
      "First element of the array: 10\n",
      "\n",
      "[[1 2 3]\n",
      " [4 5 6]]\n",
      "2nd row, 3rd column element of the array: 6\n",
      "\n",
      "[[1 2 3]\n",
      " [4 5 6]]\n",
      "Values >2: [3 4 5 6]\n",
      "\n"
     ]
    }
   ],
   "source": [
    "# Access element of the array by index\n",
    "# Note! Indexing starts with 0\n",
    "\n",
    "# 1D array\n",
    "myarray = np.arange(10,0,-1)\n",
    "print(myarray)\n",
    "print(\"First element of the array: {}\\n\".format(myarray[0]))\n",
    "\n",
    "# 2D array\n",
    "myarray = np.array([[1,2,3],[4,5,6]])\n",
    "print(myarray)\n",
    "print(\"2nd row, 3rd column element of the array: {}\\n\".format(myarray[1,2]))\n",
    "\n",
    "# Conditional indexing - print values of the array larger than 2\n",
    "myarray = np.array([[1,2,3],[4,5,6]])\n",
    "print(myarray)\n",
    "print(\"Values >2: {}\\n\".format(myarray[myarray>2]))"
   ]
  },
  {
   "cell_type": "code",
   "execution_count": 43,
   "metadata": {
    "deletable": false,
    "editable": false,
    "nbgrader": {
     "cell_type": "code",
     "checksum": "049605b27cca955a10dea8e7c84d6637",
     "grade": false,
     "grade_id": "cell-11f58d679b27e3a9",
     "locked": true,
     "schema_version": 3,
     "solution": false,
     "task": false
    }
   },
   "outputs": [
    {
     "name": "stdout",
     "output_type": "stream",
     "text": [
      "\n",
      " [[ 0  1  2  3  4]\n",
      " [ 5  6  7  8  9]\n",
      " [10 11 12 13 14]\n",
      " [15 16 17 18 19]]    array shape is  (4, 5)\n",
      "\n",
      "Sliced array:\n",
      " [[1 2]\n",
      " [6 7]]\n"
     ]
    }
   ],
   "source": [
    "# Slicing numpy array\n",
    "# create numpy array with shape=(4,5)\n",
    "myarray = np.arange(20).reshape(4,5)\n",
    "\n",
    "# print the values of the array\n",
    "print('\\n',myarray, \"   array shape is \", myarray.shape)\n",
    "# print the values of the array located at the rows 1,2 and columns 2,3\n",
    "print(\"\\nSliced array:\\n\", myarray[:2,1:3])"
   ]
  },
  {
   "cell_type": "markdown",
   "metadata": {
    "deletable": false,
    "editable": false,
    "nbgrader": {
     "cell_type": "markdown",
     "checksum": "c794c9c36c273eeae940309acb156d85",
     "grade": false,
     "grade_id": "cell-75fa69cd4c996355",
     "locked": true,
     "schema_version": 3,
     "solution": false,
     "task": false
    }
   },
   "source": [
    "More examples of numpy array slicing:\n",
    "\n",
    "<img src=\"../../../coursedata/0_Intro/npslice.png\" style=\"height: 300px;\"/>\n"
   ]
  },
  {
   "cell_type": "markdown",
   "metadata": {
    "deletable": false,
    "editable": false,
    "nbgrader": {
     "cell_type": "markdown",
     "checksum": "cf88da7cd7991ce973991ef35dfa087f",
     "grade": false,
     "grade_id": "cell-15ae21f3a9eea228",
     "locked": true,
     "schema_version": 3,
     "solution": false,
     "task": false
    }
   },
   "source": [
    "**<center><font size=\"4\">Stacking NumPy Arrays</font></center>**"
   ]
  },
  {
   "cell_type": "code",
   "execution_count": 44,
   "metadata": {
    "deletable": false,
    "editable": false,
    "nbgrader": {
     "cell_type": "code",
     "checksum": "022d884e91a2498a184729a887de199b",
     "grade": false,
     "grade_id": "cell-c2af6aa9ba180637",
     "locked": true,
     "schema_version": 3,
     "solution": false,
     "task": false
    }
   },
   "outputs": [
    {
     "name": "stdout",
     "output_type": "stream",
     "text": [
      "[[0. 0. 0. 0. 0.]\n",
      " [0. 0. 0. 0. 0.]\n",
      " [2. 2. 2. 2. 2.]\n",
      " [2. 2. 2. 2. 2.]] \n",
      "\n",
      "[[0. 0. 0. 0. 0. 2. 2. 2. 2. 2.]\n",
      " [0. 0. 0. 0. 0. 2. 2. 2. 2. 2.]]\n"
     ]
    }
   ],
   "source": [
    "# Stack arrays vertically (row wise) with np.vstack\n",
    "myarray = np.zeros((2,5))\n",
    "print(np.vstack([myarray, myarray+2]),'\\n')\n",
    "\n",
    "# Stack arrays horizontally (column wise) with hstack\n",
    "myarray = np.zeros((2,5))\n",
    "print(np.hstack([myarray, myarray+2]))"
   ]
  },
  {
   "cell_type": "code",
   "execution_count": 45,
   "metadata": {},
   "outputs": [
    {
     "name": "stdout",
     "output_type": "stream",
     "text": [
      "[[0. 0. 0. 0. 0. 0. 0. 0. 0. 0.]\n",
      " [0. 0. 0. 0. 0. 0. 0. 0. 0. 0.]]\n"
     ]
    }
   ],
   "source": [
    "print(np.hstack([myarray, myarray]))"
   ]
  },
  {
   "cell_type": "markdown",
   "metadata": {
    "deletable": false,
    "editable": false,
    "nbgrader": {
     "cell_type": "markdown",
     "checksum": "b3d01f1b5f66be85f84e30ac2908f3e4",
     "grade": false,
     "grade_id": "cell-d6134024acade791",
     "locked": true,
     "schema_version": 3,
     "solution": false,
     "task": false
    }
   },
   "source": [
    "**<center><font size=\"4\">Viewing and Copying NumPy Arrays</font></center>**\n",
    "\n",
    "Consider a numpy array `a` of shape (5,1). Assume you create a slice `b` which consists of the first two elements of `a`: `b=a[:2]`. It is then important to be aware that the variable `b` is merely a pointer (or reference) to the first two entries of `a`. Thus, when you modify the slice by `b[0] = 10`, you will simultaneously modify the first entry of `a`. If you want the slice to become a new object you need to copy the slice using the function `np.copy()`. \n",
    "\n",
    "<div class=\" alert alert-danger\"> \n",
    "    \n",
    "<center><font size=\"5\"><b>Caution!</b></font></center>\n",
    "    \n",
    "\n",
    "<p><center><font size=\"4\">Modification of an array slice will modify the original array</font></center></p>\n",
    "    \n",
    "</div>"
   ]
  },
  {
   "cell_type": "code",
   "execution_count": 51,
   "metadata": {
    "deletable": false,
    "editable": false,
    "nbgrader": {
     "cell_type": "code",
     "checksum": "01ef96950b8948dc3e5e1b2933b7f7aa",
     "grade": false,
     "grade_id": "cell-61351fa96425cb88",
     "locked": true,
     "schema_version": 3,
     "solution": false,
     "task": false
    }
   },
   "outputs": [
    {
     "name": "stdout",
     "output_type": "stream",
     "text": [
      "Original array:  [0 1 2 3 4 5 6 7 8 9]\n",
      "\n",
      "Slice of the array:  [5 6 7 8 9]\n",
      "\n",
      "Modified slice of the array:  [0 0 0 0 0]\n",
      "\n",
      "Original array:  [0 1 2 3 4 0 0 0 0 0]\n"
     ]
    }
   ],
   "source": [
    "# Slice view, creates view of the array and any modification of it will update that array.\n",
    "\n",
    "# create the array \n",
    "myarray = np.arange(10)\n",
    "# print values of the original array\n",
    "print(\"Original array: \", myarray)\n",
    "\n",
    "# assign the slice (view of the array) to a new variable 'myslice'\n",
    "myslice = myarray[5:]\n",
    "# print values of variable 'myslice'\n",
    "print(\"\\nSlice of the array: \", myslice)\n",
    "\n",
    "# modify variable 'myslice' - assign value zero to all entries of the array\n",
    "myslice[:] = 0\n",
    "\n",
    "# print values of the original array and modified variable 'myslice'\n",
    "print(\"\\nModified slice of the array: \", myslice)\n",
    "print(\"\\nOriginal array: \", myarray)"
   ]
  },
  {
   "cell_type": "code",
   "execution_count": 52,
   "metadata": {
    "deletable": false,
    "editable": false,
    "nbgrader": {
     "cell_type": "code",
     "checksum": "73aa607d065fb0bad7b5fbb92d8db92b",
     "grade": false,
     "grade_id": "cell-96c2366aad2a4af3",
     "locked": true,
     "schema_version": 3,
     "solution": false,
     "task": false
    }
   },
   "outputs": [
    {
     "name": "stdout",
     "output_type": "stream",
     "text": [
      "Original array:  [0 1 2 3 4 5 6 7 8 9]\n",
      "\n",
      "Copy of the array:  [5 6 7 8 9]\n",
      "\n",
      "Modified copy of the array:  [0 0 0 0 0]\n",
      "\n",
      "Original array:  [0 1 2 3 4 5 6 7 8 9]\n"
     ]
    }
   ],
   "source": [
    "# Copying array, creates a different object, original array is not modified.\n",
    "\n",
    "# create the array \n",
    "myarray = np.arange(10)\n",
    "# print values of the original array\n",
    "print(\"Original array: \", myarray)\n",
    "\n",
    "# assign the slice (copy of the array) to a new variable 'myslice'\n",
    "myslice = np.copy(myarray[5:])\n",
    "# print values of variable 'myslice'\n",
    "print(\"\\nCopy of the array: \", myslice)\n",
    "\n",
    "# modify variable 'myslice'\n",
    "myslice[:] = 0\n",
    "\n",
    "# print values of the original array and modified variable 'myslice'\n",
    "print(\"\\nModified copy of the array: \", myslice)\n",
    "print(\"\\nOriginal array: \", myarray)"
   ]
  },
  {
   "cell_type": "markdown",
   "metadata": {
    "deletable": false,
    "editable": false,
    "nbgrader": {
     "cell_type": "markdown",
     "checksum": "51c5f0721569f9f566b43d8bb09fa622",
     "grade": false,
     "grade_id": "cell-295e53e678f5cce5",
     "locked": true,
     "schema_version": 3,
     "solution": false,
     "task": false
    }
   },
   "source": [
    "**You can find further reading about view and copy of NumPy Arrays here:**\n",
    "\n",
    "https://scipy-cookbook.readthedocs.io/items/ViewsVsCopies.html"
   ]
  },
  {
   "cell_type": "markdown",
   "metadata": {
    "deletable": false,
    "editable": false,
    "nbgrader": {
     "cell_type": "markdown",
     "checksum": "02bd056833a437b7dd255b5597ef45ad",
     "grade": false,
     "grade_id": "cell-4448370ba080dd73",
     "locked": true,
     "schema_version": 3,
     "solution": false,
     "task": false
    }
   },
   "source": [
    "**<center><font size=\"4\">Operations on NumPy Arrays</font></center>**"
   ]
  },
  {
   "cell_type": "code",
   "execution_count": 53,
   "metadata": {
    "deletable": false,
    "editable": false,
    "nbgrader": {
     "cell_type": "code",
     "checksum": "543b6ffada91e5906dbf0636be9c13dc",
     "grade": false,
     "grade_id": "cell-9cabb172befc7b6e",
     "locked": true,
     "schema_version": 3,
     "solution": false,
     "task": false
    }
   },
   "outputs": [
    {
     "name": "stdout",
     "output_type": "stream",
     "text": [
      "[0 1 2 3 4 5 6 7 8 9] [20 21 22 23 24 25 26 27 28 29]\n",
      "[20 22 24 26 28 30 32 34 36 38]\n",
      "[-20 -20 -20 -20 -20 -20 -20 -20 -20 -20]\n",
      "[  0  21  44  69  96 125 156 189 224 261]\n",
      "[0.         0.04761905 0.09090909 0.13043478 0.16666667 0.2\n",
      " 0.23076923 0.25925926 0.28571429 0.31034483]\n",
      "[ 0  1  4  9 16 25 36 49 64 81]\n"
     ]
    }
   ],
   "source": [
    "# create two numpy arrays\n",
    "\n",
    "x = np.arange(10)\n",
    "y = np.arange(20,30)\n",
    "print(x, y)\n",
    "\n",
    "# elementwise addition and substraction\n",
    "\n",
    "print(x + y)\n",
    "print(x - y)\n",
    "\n",
    "# elementwise multiplication and division\n",
    "\n",
    "print(x * y)\n",
    "print(x / y)\n",
    "\n",
    "# elementwise power\n",
    "\n",
    "print(x**2)"
   ]
  },
  {
   "cell_type": "code",
   "execution_count": 13,
   "metadata": {
    "deletable": false,
    "editable": false,
    "nbgrader": {
     "cell_type": "code",
     "checksum": "c6d8b8255f0108cc3b3ed685b9c2820b",
     "grade": false,
     "grade_id": "cell-5401f2dc7dc0d904",
     "locked": true,
     "schema_version": 3,
     "solution": false,
     "task": false
    }
   },
   "outputs": [
    {
     "name": "stdout",
     "output_type": "stream",
     "text": [
      "[10  9  8  7  6  5  4  3  2  1]\n",
      "\n",
      "Sum of the array:  55\n",
      "\n",
      "Maximum and minimun values: 10, 1 \n",
      "Indices of maximum and minimum values: 0, 9\n"
     ]
    }
   ],
   "source": [
    "# create numpy array\n",
    "x = np.arange(10,0,-1)\n",
    "\n",
    "# useful numpy array functions:\n",
    "# sum of elements\n",
    "x_sum = x.sum()\n",
    "\n",
    "# maximum and minimum values\n",
    "x_max = x.max()\n",
    "x_min = x.min()\n",
    "\n",
    "# indices of maximum and minimum values\n",
    "x_indmax = x.argmax()\n",
    "x_indmin = x.argmin()\n",
    "\n",
    "print(x)\n",
    "print(\"\\nSum of the array: \", x_sum) \n",
    "print(\"\\nMaximum and minimun values: {}, {} \\nIndices of maximum and minimum values: {}, {}\".format(\n",
    "      x_max, x_min, x_indmax, x_indmin))"
   ]
  },
  {
   "cell_type": "markdown",
   "metadata": {
    "deletable": false,
    "editable": false,
    "nbgrader": {
     "cell_type": "markdown",
     "checksum": "5dce089a0f3c7d8e2e6c5ccaab09b228",
     "grade": false,
     "grade_id": "cell-86796c402d9239cd",
     "locked": true,
     "schema_version": 3,
     "solution": false,
     "task": false
    }
   },
   "source": [
    "**<center><font size=\"4\">Broadcasting</font></center>**"
   ]
  },
  {
   "cell_type": "markdown",
   "metadata": {
    "deletable": false,
    "editable": false,
    "nbgrader": {
     "cell_type": "markdown",
     "checksum": "c780aff5635e2c2c589dea04370d92c0",
     "grade": false,
     "grade_id": "cell-b1fafa20adfdcda7",
     "locked": true,
     "schema_version": 3,
     "solution": false,
     "task": false
    }
   },
   "source": [
    "Sometimes we need to add the same constant value to all entries of a numpy array. Consider a numpy array `a` of an arbitrary size and a numpy array `b` containing a single number. We would like to be able to write `a+b` to get a numpy array whose entries are given by adding the value in `b` to all entries in `a`. The concept of \"broadcasting\" for numpy arrays makes this possible! \n",
    "\n",
    "Find more information here:\n",
    "\n",
    "https://docs.scipy.org/doc/numpy/user/basics.broadcasting.html\n",
    "\n",
    "https://numpy.org/devdocs/user/theory.broadcasting.html"
   ]
  },
  {
   "cell_type": "code",
   "execution_count": 58,
   "metadata": {
    "deletable": false,
    "editable": false,
    "nbgrader": {
     "cell_type": "code",
     "checksum": "8834d5675b4129a5af4e172e855c2f3f",
     "grade": false,
     "grade_id": "cell-c9688ef3cbae7522",
     "locked": true,
     "schema_version": 3,
     "solution": false,
     "task": false
    },
    "scrolled": true
   },
   "outputs": [
    {
     "name": "stdout",
     "output_type": "stream",
     "text": [
      "x = \n",
      " [[ 1  2  3]\n",
      " [ 4  5  6]\n",
      " [ 7  8  9]\n",
      " [10 11 12]]\n",
      "\n",
      " cols means mu =  [5.5 6.5 7.5]\n",
      "\n",
      "\n",
      " x - mu = \n",
      " [[-4.5 -4.5 -4.5]\n",
      " [-1.5 -1.5 -1.5]\n",
      " [ 1.5  1.5  1.5]\n",
      " [ 4.5  4.5  4.5]]\n"
     ]
    }
   ],
   "source": [
    "# It is possible to do operations with different size arrays - broadcasting\n",
    "# Below we perform column-wise matrix normalization with use of broadcasting\n",
    "\n",
    "x = np.array([[1,2,3], [4,5,6], [7,8,9], [10,11,12]]) # matrix of shape (4,3)\n",
    "mu = x.mean(axis=0) # col means, array of shape (3,)\n",
    "\n",
    "# display the values of two arrays\n",
    "print(\"x = \\n\", x)\n",
    "print(\"\\n\", \"cols means mu = \", mu)\n",
    "\n",
    "# column-wise matrix normalization\n",
    "print(\"\\n\\n x - mu = \\n\", x-mu)"
   ]
  },
  {
   "cell_type": "code",
   "execution_count": 59,
   "metadata": {},
   "outputs": [
    {
     "data": {
      "text/plain": [
       "array([5.5, 6.5, 7.5])"
      ]
     },
     "execution_count": 59,
     "metadata": {},
     "output_type": "execute_result"
    }
   ],
   "source": []
  },
  {
   "cell_type": "markdown",
   "metadata": {
    "deletable": false,
    "editable": false,
    "nbgrader": {
     "cell_type": "markdown",
     "checksum": "f8c7889a229b19d512ec74aabb94bdc5",
     "grade": false,
     "grade_id": "cell-57f0bd390be1d92e",
     "locked": true,
     "schema_version": 3,
     "solution": false,
     "task": false
    }
   },
   "source": [
    "<a id='STnumpy'></a>\n",
    "<div class=\" alert alert-warning\">\n",
    "   <font size=\"4\"> <b>Student task.</b> Numpy Arrays</font>\n",
    "    \n",
    "1. Create numpy array `x1` of shape (3,4) with `np.arange(12)`. \n",
    "2. Store values of first two columns and all rows in numpy array `x2`. Use `np.copy()` to create an object.\n",
    "3. Multiply elements of `x2` by 5.\n",
    "4. Add two column of zeros as the last two column of `x2`.\n",
    "6. Add up `x1` and `x2` and store the result in `x3`.\n",
    "    \n",
    "</div>"
   ]
  },
  {
   "cell_type": "code",
   "execution_count": 114,
   "metadata": {
    "deletable": false,
    "nbgrader": {
     "cell_type": "code",
     "checksum": "2a878fab6855c0c30be92bad97e1e840",
     "grade": false,
     "grade_id": "cell-3ee20560eec8d0cc",
     "locked": false,
     "schema_version": 3,
     "solution": true,
     "task": false
    },
    "scrolled": true
   },
   "outputs": [
    {
     "name": "stdout",
     "output_type": "stream",
     "text": [
      "x1:\n",
      " [[ 0  1  2  3]\n",
      " [ 4  5  6  7]\n",
      " [ 8  9 10 11]]\n",
      "\n",
      "x2:\n",
      " [[0 1]\n",
      " [4 5]\n",
      " [8 9]]\n",
      "\n",
      "x2:\n",
      " [[ 0  5]\n",
      " [20 25]\n",
      " [40 45]]\n",
      "\n",
      " [[0. 0.]\n",
      " [0. 0.]\n",
      " [0. 0.]]\n",
      "\n",
      "x2:\n",
      " [[ 0.  5.  0.  0.]\n",
      " [20. 25.  0.  0.]\n",
      " [40. 45.  0.  0.]]\n",
      "\n",
      "x3:\n",
      " [[ 0.  6.  2.  3.]\n",
      " [24. 30.  6.  7.]\n",
      " [48. 54. 10. 11.]]\n"
     ]
    }
   ],
   "source": [
    "### STUDENT TASK ###\n",
    "# x1 = ...\n",
    "# x2 = ...\n",
    "# x3 = ...\n",
    "# remove the line raise NotImplementedError() before testing your solution and submitting code\n",
    "# YOUR CODE HERE\n",
    "x1=np.arange(12).reshape(3,4)\n",
    "print(\"x1:\\n\",x1)\n",
    "x2 = np.copy(x1[:,:2])\n",
    "print(\"\\nx2:\\n\",x2)\n",
    "x2=x2*5\n",
    "print(\"\\nx2:\\n\",x2)\n",
    "x2.shape\n",
    "zeroArray=np.zeros((3,2))\n",
    "print(\"\\n\",zeroArray)\n",
    "zeroArray.shape\n",
    "# Add two column of zeros as the last two column of x2\n",
    "x2=np.hstack([x2, zeroArray])\n",
    "print(\"\\nx2:\\n\",x2)\n",
    "\n",
    "# print(np.hstack([x2, zeroArray]),'\\n')\n",
    "\n",
    "#Add up x1 and x2 and store the result in x3\n",
    "x3=x1+x2\n",
    "print(\"\\nx3:\\n\",x3)\n",
    "\n"
   ]
  },
  {
   "cell_type": "code",
   "execution_count": 12,
   "metadata": {},
   "outputs": [],
   "source": [
    "# %load solutions/student-task-4.py\n",
    "x1 = np.arange(12).reshape(3,4)\n",
    "x2 = np.copy(x1[:,:2])\n",
    "x2 = x2*5\n",
    "x2 = np.hstack([x2, np.zeros((x2.shape[0],2))])\n",
    "x3 = x1+x2"
   ]
  },
  {
   "cell_type": "code",
   "execution_count": 115,
   "metadata": {
    "deletable": false,
    "editable": false,
    "nbgrader": {
     "cell_type": "code",
     "checksum": "8bb9f700b6b0255f4677a9dcabf345b2",
     "grade": false,
     "grade_id": "cell-1265a72e60b4af98",
     "locked": true,
     "schema_version": 3,
     "solution": false,
     "task": false
    }
   },
   "outputs": [],
   "source": [
    "# Uncomment and run the following line to see the solution\n",
    "# %load solutions/student-task-4.py"
   ]
  },
  {
   "cell_type": "markdown",
   "metadata": {
    "deletable": false,
    "editable": false,
    "nbgrader": {
     "cell_type": "markdown",
     "checksum": "e1de8857c5e1f73fa640b36ce95b9023",
     "grade": false,
     "grade_id": "cell-0c8d0ee43c8e6419",
     "locked": true,
     "schema_version": 3,
     "solution": false,
     "task": false
    }
   },
   "source": [
    "<a id=vectors></a>\n",
    "    \n",
    "### <center>Vectors and Matrices</center>"
   ]
  },
  {
   "cell_type": "markdown",
   "metadata": {
    "deletable": false,
    "editable": false,
    "nbgrader": {
     "cell_type": "markdown",
     "checksum": "ab95eb82b2cd1e6b57c620b3206f7543",
     "grade": false,
     "grade_id": "cell-9692097d6f119768",
     "locked": true,
     "schema_version": 3,
     "solution": false,
     "task": false
    }
   },
   "source": [
    "It is often useful to represent data in a numerical format as vectors or matrices. For example, suppose we have collected weather data (daily minimum, maximum, and average temperatures) for many days. In that case, we can represent observations for one day as a vector (or as NumPy array in Python code) and stack all observations in a matrix. Each row of this matrix would contain the weather observations for one day and each column - the minimum, maximum, or average temperatures across all days.\n",
    "\n",
    "We will soon present the mathematical notation, and the basic operations commonly used when working with vectors and matrices. If the concepts seem difficult to grasp, you can start by watching the animated video series [\"Essence of linear algebra\"](https://www.youtube.com/watch?v=kjBOesZCoqc&list=PL0-GT3co4r2y2YErbmuJw2L5tW4Ew2O5B) from 3Blue1Brown. For more detailed but still accessible explanations, you can check [\"Mathematics for Machine Learning\"](https://mml-book.github.io) book by M.P.Deisenroth, A.A.Faisal, and C.S.Ong (PDF is available on the website)."
   ]
  },
  {
   "cell_type": "markdown",
   "metadata": {
    "deletable": false,
    "editable": false,
    "nbgrader": {
     "cell_type": "markdown",
     "checksum": "c811885674b705a333d9a881250d48bf",
     "grade": false,
     "grade_id": "cell-7e75c60ad7f9a03d",
     "locked": true,
     "schema_version": 3,
     "solution": false,
     "task": false
    }
   },
   "source": [
    "**<center><font size=\"4\">Vectors</font></center>**\n",
    "\n",
    "We denote vectors with lower-case bold letters, e.g. vector $\\mathbf{x}$ consisting of $n$ elements:\n",
    "\n",
    "$\\mathbf{x}= \\begin{pmatrix}\n",
    "x_{1} \\\\ x_{2} \\\\ \\vdots \\\\ x_{n}\n",
    "\\end{pmatrix} $\n",
    "\n",
    "In mathematics, traditionally vectors are represented as column vectors (elements of the vector stacked vertically). Also, vectors sometimes represented as  $\\mathbf{x} = \\big(x_{1},\\ldots,x_{n}\\big)^{T}$ or a transpose of a row vector, just for convenience. However in coding tasks we will use terminology of a Numpy library and define vectors in terms of 1- or 2-Dimensional arrays of a certain shape.\n",
    "\n",
    "Below, you can see how to create vector consisting of $n$ elements, where  $n=5$: "
   ]
  },
  {
   "cell_type": "code",
   "execution_count": 5,
   "metadata": {
    "deletable": false,
    "editable": false,
    "nbgrader": {
     "cell_type": "code",
     "checksum": "da640e98a51ea8033a34c9f0fa269642",
     "grade": false,
     "grade_id": "cell-a70b166346e30948",
     "locked": true,
     "schema_version": 3,
     "solution": false,
     "task": false
    }
   },
   "outputs": [
    {
     "name": "stdout",
     "output_type": "stream",
     "text": [
      "[1 2 3 4 5] \n",
      "\n",
      "[[1 2 3 4 5]] \n",
      "\n",
      "[[1]\n",
      " [2]\n",
      " [3]\n",
      " [4]\n",
      " [5]] \n",
      "\n",
      "[[1]\n",
      " [2]\n",
      " [3]\n",
      " [4]\n",
      " [5]]\n"
     ]
    }
   ],
   "source": [
    "# create 1D numpy array of shape(n,) or row vector\n",
    "x = np.array([1,2,3,4,5])\n",
    "print(x, \"\\n\")\n",
    "\n",
    "# create 2D numpy array of shape(1,n) or row vector\n",
    "y = np.array([1,2,3,4,5]).reshape(1,-1)\n",
    "print(y, \"\\n\")\n",
    "\n",
    "# create 2D numpy array of shape(n,1) or column vector\n",
    "z = np.array([1,2,3,4,5]).reshape(-1,1)\n",
    "print(z, \"\\n\")\n",
    "\n",
    "# column vector created from a transpose of a row vector `y`\n",
    "y.T\n",
    "print(y.T)"
   ]
  },
  {
   "cell_type": "markdown",
   "metadata": {
    "deletable": false,
    "editable": false,
    "nbgrader": {
     "cell_type": "markdown",
     "checksum": "ccbed6e834aa4c0f0566dbd24b596c61",
     "grade": false,
     "grade_id": "cell-f848df0f48a6ce8b",
     "locked": true,
     "schema_version": 3,
     "solution": false,
     "task": false
    }
   },
   "source": [
    "The $i$:th entry of vector $\\mathbf{x}$ is denoted as $x_{i}$, e.g. first element of vector $\\mathbf{x}$ is $x_{1}$.\n",
    "\n",
    "**Note!** Indexing in Python starts from zero!\n",
    "\n"
   ]
  },
  {
   "cell_type": "code",
   "execution_count": 6,
   "metadata": {
    "deletable": false,
    "editable": false,
    "nbgrader": {
     "cell_type": "code",
     "checksum": "7260034b8c024a7054de66fd0d29ecde",
     "grade": false,
     "grade_id": "cell-77b2682b37c55c91",
     "locked": true,
     "schema_version": 3,
     "solution": false,
     "task": false
    }
   },
   "outputs": [
    {
     "name": "stdout",
     "output_type": "stream",
     "text": [
      "First element of vector x = 1\n"
     ]
    }
   ],
   "source": [
    "# print first element of vector x\n",
    "print(\"First element of vector x =\", x[0])"
   ]
  },
  {
   "cell_type": "markdown",
   "metadata": {
    "deletable": false,
    "editable": false,
    "nbgrader": {
     "cell_type": "markdown",
     "checksum": "540439fe087e1ae54afb6e42004366a0",
     "grade": false,
     "grade_id": "cell-870cd05d18754ecf",
     "locked": true,
     "schema_version": 3,
     "solution": false,
     "task": false
    }
   },
   "source": [
    "**<center><font size=\"4\">Dot Product of two vectors</font></center>**\n",
    "\n",
    "The [dot product](https://en.wikipedia.org/wiki/Dot_product) between two vectors, i.e., one-dimensional NumPy arrays, of the same length is defined as\n",
    "\n",
    "\n",
    "\\begin{equation}\n",
    "\\mathbf{x}^{T}\\mathbf{y} =\n",
    "\\big({x}_{1},{x}_{2},\\ldots,{x}_{m}\\big)  \\cdot \\begin{pmatrix}{y}_{1} \\\\ {y}_{2} \\\\ \\vdots \\\\ {y}_{m} \\end{pmatrix} = \n",
    "{x}_{1}{y}_{1}+{x}_{2}{y}_{2}+\\ldots+{x}_{m}{y}_{m}\n",
    "\\end{equation} \n",
    "\n",
    "Geometrically, it is the product of the Euclidean distances of the two vectors and the cosine of the angle between them. "
   ]
  },
  {
   "cell_type": "code",
   "execution_count": 119,
   "metadata": {
    "deletable": false,
    "editable": false,
    "nbgrader": {
     "cell_type": "code",
     "checksum": "9665cc115e378b1533bb45b9b4533d49",
     "grade": false,
     "grade_id": "cell-bae14578f919734f",
     "locked": true,
     "schema_version": 3,
     "solution": false,
     "task": false
    }
   },
   "outputs": [
    {
     "name": "stdout",
     "output_type": "stream",
     "text": [
      "[0 1 2] [3 4 5]\n"
     ]
    },
    {
     "data": {
      "text/plain": [
       "14"
      ]
     },
     "execution_count": 119,
     "metadata": {},
     "output_type": "execute_result"
    }
   ],
   "source": [
    "# create two numpy arrays\n",
    "x = np.arange(3)\n",
    "y = np.arange(3,6)\n",
    "\n",
    "# display the values of two arrays\n",
    "print(x,y)\n",
    "\n",
    "# dot product 0*3+1*4+2*5\n",
    "x.dot(y) "
   ]
  },
  {
   "cell_type": "markdown",
   "metadata": {
    "deletable": false,
    "editable": false,
    "nbgrader": {
     "cell_type": "markdown",
     "checksum": "955e84abe566e6d185dd79cf274f06ed",
     "grade": false,
     "grade_id": "cell-19aa07b4d0f111e1",
     "locked": true,
     "schema_version": 3,
     "solution": false,
     "task": false
    }
   },
   "source": [
    "**<center><font size=\"4\">Outer product of two vectors</font></center>**\n",
    "\n",
    "The [outer product](https://en.wikipedia.org/wiki/Outer_product) between two vectors, i.e., one-dimensional NumPy arrays, of the same length is defined as\n",
    "\n",
    "\n",
    "\\begin{equation}\n",
    "\\mathbf{x}\\mathbf{y}^{T} =\n",
    "\\begin{pmatrix}{x}_{1} \\\\ {x}_{2} \\\\ \\vdots \\\\ {x}_{m} \\end{pmatrix}  \\cdot \\big({y}_{1},{y}_{2},\\ldots,{y}_{m}\\big) =\n",
    "\\begin{pmatrix}\n",
    "  x_1y_1& x_1y_2& \\ldots & x_1y_m \\\\\n",
    "  x_2y_1& x_2y_2& \\ldots & x_2y_m \\\\\n",
    "  \\vdots & \\vdots & \\ddots & \\vdots \\\\\n",
    " x_my_1& x_my_2& \\ldots & x_my_m\n",
    "\\end{pmatrix} \n",
    "\\end{equation} \n",
    "\n",
    "\n",
    "As you can see, the result of the outer product is a matrix, whereas the output of the dot product is a scalar. "
   ]
  },
  {
   "cell_type": "code",
   "execution_count": 120,
   "metadata": {
    "deletable": false,
    "editable": false,
    "nbgrader": {
     "cell_type": "code",
     "checksum": "9b6314a6c94a1e62ab80dced64ab21d9",
     "grade": false,
     "grade_id": "cell-2a898aec6b7956a5",
     "locked": true,
     "schema_version": 3,
     "solution": false,
     "task": false
    }
   },
   "outputs": [
    {
     "name": "stdout",
     "output_type": "stream",
     "text": [
      "[0 1 2] [3 4 5]\n"
     ]
    },
    {
     "data": {
      "text/plain": [
       "array([[ 0,  0,  0],\n",
       "       [ 3,  4,  5],\n",
       "       [ 6,  8, 10]])"
      ]
     },
     "execution_count": 120,
     "metadata": {},
     "output_type": "execute_result"
    }
   ],
   "source": [
    "# create two numpy arrays\n",
    "x = np.arange(3)\n",
    "y = np.arange(3,6)\n",
    "\n",
    "# display the values of two arrays\n",
    "print(x,y)\n",
    "# outer product\n",
    "np.outer(x,y)"
   ]
  },
  {
   "cell_type": "markdown",
   "metadata": {
    "deletable": false,
    "editable": false,
    "nbgrader": {
     "cell_type": "markdown",
     "checksum": "910b0388d3381143ecdc077ccf9cec41",
     "grade": false,
     "grade_id": "cell-89d7bcef6d86ff35",
     "locked": true,
     "schema_version": 3,
     "solution": false,
     "task": false
    }
   },
   "source": [
    "**<center><font size=\"4\">Matrices</font></center>**"
   ]
  },
  {
   "cell_type": "markdown",
   "metadata": {
    "deletable": false,
    "editable": false,
    "nbgrader": {
     "cell_type": "markdown",
     "checksum": "07ab402bad7cab0dfe1e428202ff41ce",
     "grade": false,
     "grade_id": "cell-642af24d6682c750",
     "locked": true,
     "schema_version": 3,
     "solution": false,
     "task": false
    }
   },
   "source": [
    "In many applications, it is natural to represent data as a [matrix](https://en.wikipedia.org/wiki/Matrix_(mathematics)), which is the special case of a two-dimensional NumPy array. \n",
    "\n",
    "We will discuss how to represent our data as a matrix for further analyses in the next notebook. \n",
    "\n",
    "Matrices are denoted in bold capital letters, e.g. matrix $\\mathbf{X}$ with $m$ rows and $n$ columns or $m \\times n$ matrix.\n",
    "\n",
    "\n",
    "$\\mathbf{X} = \n",
    "           \\begin{pmatrix}\n",
    "              x_1^{(1)} & x_2^{(1)} & \\ldots & x_n^{(1)} \\\\\n",
    "              x_1^{(2)} & x_2^{(2)} & \\ldots & x_n^{(2)} \\\\\n",
    "              \\vdots & \\vdots & \\ddots & \\vdots \\\\\n",
    "              x_1^{(m)} & x_2^{(m)} & \\ldots & x_n^{(m)}\n",
    "           \\end{pmatrix} $\n",
    "\n",
    "\n",
    "Below, you can see how to create a matrix $\\mathbf{X}$ with $m=3$ and $n=4$, containing the range of numbers $0,1,\\ldots,11$. "
   ]
  },
  {
   "cell_type": "code",
   "execution_count": 121,
   "metadata": {
    "deletable": false,
    "editable": false,
    "nbgrader": {
     "cell_type": "code",
     "checksum": "2793e77593a02f0c00b3dbc8394e1d1f",
     "grade": false,
     "grade_id": "cell-58996abfa0c155ba",
     "locked": true,
     "schema_version": 3,
     "solution": false,
     "task": false
    }
   },
   "outputs": [
    {
     "name": "stdout",
     "output_type": "stream",
     "text": [
      "[[ 0  1  2  3]\n",
      " [ 4  5  6  7]\n",
      " [ 8  9 10 11]]\n"
     ]
    }
   ],
   "source": [
    "X = np.arange(12).reshape(3,4)\n",
    "print(X)"
   ]
  },
  {
   "cell_type": "markdown",
   "metadata": {
    "deletable": false,
    "editable": false,
    "nbgrader": {
     "cell_type": "markdown",
     "checksum": "a3427a3a77aab3b4f223ef0669d7096f",
     "grade": false,
     "grade_id": "cell-086abe2a8412cdd6",
     "locked": true,
     "schema_version": 3,
     "solution": false,
     "task": false
    }
   },
   "source": [
    "**<center><font size=\"4\">Transpose of vectors and matrices</font></center>**\n",
    "\n",
    "The transpose of a matrix and a vector are denoted $\\mathbf{X}^{T}$ or $\\mathbf{x}^{T}$ respectively."
   ]
  },
  {
   "cell_type": "code",
   "execution_count": 122,
   "metadata": {
    "deletable": false,
    "editable": false,
    "nbgrader": {
     "cell_type": "code",
     "checksum": "48a376cfdb1183c1fe39949970a4523d",
     "grade": false,
     "grade_id": "cell-0ad519e9b08fdc94",
     "locked": true,
     "schema_version": 3,
     "solution": false,
     "task": false
    }
   },
   "outputs": [
    {
     "name": "stdout",
     "output_type": "stream",
     "text": [
      "[[ 0  4  8]\n",
      " [ 1  5  9]\n",
      " [ 2  6 10]\n",
      " [ 3  7 11]] \n",
      "\n"
     ]
    }
   ],
   "source": [
    "#  transpose of a matrix\n",
    "print(X.T, \"\\n\") # \"\\n\" prints empty line"
   ]
  },
  {
   "cell_type": "markdown",
   "metadata": {
    "deletable": false,
    "editable": false,
    "nbgrader": {
     "cell_type": "markdown",
     "checksum": "aac8f25b1269f426205e770d79fb7616",
     "grade": false,
     "grade_id": "cell-22b272519a63549d",
     "locked": true,
     "schema_version": 3,
     "solution": false,
     "task": false
    }
   },
   "source": [
    "Note, that transposing a 1D array returns an unchanged view of the original array."
   ]
  },
  {
   "cell_type": "code",
   "execution_count": 123,
   "metadata": {
    "deletable": false,
    "editable": false,
    "nbgrader": {
     "cell_type": "code",
     "checksum": "f1eb688bfae8182da19b7287a4777487",
     "grade": false,
     "grade_id": "cell-fa7951781781df1c",
     "locked": true,
     "schema_version": 3,
     "solution": false,
     "task": false
    }
   },
   "outputs": [
    {
     "data": {
      "text/plain": [
       "(array([0, 1, 2]), array([0, 1, 2]))"
      ]
     },
     "execution_count": 123,
     "metadata": {},
     "output_type": "execute_result"
    }
   ],
   "source": [
    "# 1D numpy array, shape=(n,)\n",
    "x = np.arange(3)\n",
    "x, x.T"
   ]
  },
  {
   "cell_type": "code",
   "execution_count": 124,
   "metadata": {
    "deletable": false,
    "editable": false,
    "nbgrader": {
     "cell_type": "code",
     "checksum": "4eab81b6eb0f39c1832c5f49c0e555d3",
     "grade": false,
     "grade_id": "cell-1ab1142024e95d71",
     "locked": true,
     "schema_version": 3,
     "solution": false,
     "task": false
    }
   },
   "outputs": [
    {
     "data": {
      "text/plain": [
       "(array([[0],\n",
       "        [1],\n",
       "        [2]]),\n",
       " array([[0, 1, 2]]))"
      ]
     },
     "execution_count": 124,
     "metadata": {},
     "output_type": "execute_result"
    }
   ],
   "source": [
    "# 2D numpy array, shape=(n,1)\n",
    "x = np.arange(3).reshape(3,1)\n",
    "x, x.T"
   ]
  },
  {
   "cell_type": "markdown",
   "metadata": {
    "deletable": false,
    "editable": false,
    "nbgrader": {
     "cell_type": "markdown",
     "checksum": "e4be613a09d520cd80d9e1c0b6d880c1",
     "grade": false,
     "grade_id": "cell-ac82f5dee4f63fc9",
     "locked": true,
     "schema_version": 3,
     "solution": false,
     "task": false
    }
   },
   "source": [
    "**<center><font size=\"4\">Dimension (vector space)</font></center>**\n",
    "\n",
    "Often you will see notations such as $\\mathbf{x} \\in \\mathbb{R}^n$ or $\\mathbf{X} \\in \\mathbb{R}^{m \\times n}$, where $\\mathbb{R}$  are [real numbers](https://en.wikipedia.org/wiki/Real_number) and $\\mathbb{R}^n$ is a [coordinate space](https://en.wikipedia.org/wiki/Real_coordinate_space) consisting of length-$n$ lists of real numbers.\\\n",
    "For example,  $\\mathbb{R}^2$ is a plane and $\\mathbf{x} \\in \\mathbb{R}^2$ means that vector $\\mathbf{x}$ is in vector space  $\\mathbb{R}^2$ or in the plane. Vector $\\mathbf{x} \\in \\mathbb{R}^2$  is a length-$2$ list $\\mathbf{x} = ({x}_{1}, {x}_{2})$, where ${x}_{1}, {x}_{2}$ are real numbers.\n",
    "\n",
    "A vector $\\mathbf{x} \\in \\mathbb{R}^2$ consist of two elements and a matrix $\\mathbf{X} \\in \\mathbb{R}^{3 \\times 4}$ consists of $3 \\times 4$ elements.\n",
    "\n",
    "Generally, we say that the matrix $\\mathbf{X}$ with $m$ rows and $n$ columns \n",
    "\n",
    "\\begin{equation}\n",
    "\\mathbf{X}  = \\begin{pmatrix} x_{1,1} & x_{1,2} & \\ldots & x_{1,n} \\\\ \n",
    "x_{2,1} & x_{2,2}& \\ldots & x_{2,n} \\\\ \n",
    "\\vdots & \\vdots & \\vdots & \\vdots \\\\ \n",
    "x_{m,1} & x_{m,2} & \\ldots & x_{m,n} \\end{pmatrix}\\in \\mathbb{R}^{m \\times n}\n",
    "\\end{equation} "
   ]
  },
  {
   "cell_type": "markdown",
   "metadata": {
    "deletable": false,
    "editable": false,
    "nbgrader": {
     "cell_type": "markdown",
     "checksum": "4298c84a4414d0e80684bd5efe671d6f",
     "grade": false,
     "grade_id": "cell-1a399dc45965cd4e",
     "locked": true,
     "schema_version": 3,
     "solution": false,
     "task": false
    }
   },
   "source": [
    "**<center><font size=\"4\"> Matrix multiplication</font></center>**\n",
    "\n",
    "Now we will use numpy arrays to create a matrix $\\mathbf{X}$ with $m$ rows and $n$ columns \n",
    "\n",
    "\\begin{equation}\n",
    "\\mathbf{X}  = \\begin{pmatrix} x_{1,1} & x_{1,2} & \\ldots & x_{1,n} \\\\ \n",
    "x_{2,1} & x_{2,2}& \\ldots & x_{2,n} \\\\ \n",
    "\\vdots & \\vdots & \\vdots & \\vdots \\\\ \n",
    "x_{m,1} & x_{m,2} & \\ldots & x_{m,n} \\end{pmatrix}\\in \\mathbb{R}^{m \\times n}\n",
    "\\end{equation} \n",
    "\n",
    "and a matrix $\\mathbf{Y}$ with $n$ rows and $m$ columns  \n",
    "\n",
    "\\begin{equation}\n",
    "\\mathbf{Y}  = \\begin{pmatrix} y_{1,1} & y_{1,2} & \\ldots & y_{1,m} \\\\ \n",
    "y_{2,1} & y_{2,2}& \\ldots & y_{2,m} \\\\ \n",
    "\\vdots & \\vdots & \\vdots & \\vdots \\\\ \n",
    "y_{n,1} & y_{n,2} & \\ldots & y_{n,m} \\end{pmatrix}\\in \\mathbb{R}^{n \\times m},\n",
    "\\end{equation}  \n",
    "\n",
    "\n",
    "and perform matrix multiplication to compute the product $\\mathbf{X}\\mathbf{Y}$. "
   ]
  },
  {
   "cell_type": "markdown",
   "metadata": {
    "deletable": false,
    "editable": false,
    "nbgrader": {
     "cell_type": "markdown",
     "checksum": "f2c9d91156190aa54a24916b63cba28f",
     "grade": false,
     "grade_id": "cell-487e42318ac0ab09",
     "locked": true,
     "schema_version": 3,
     "solution": false,
     "task": false
    }
   },
   "source": [
    "[Matrix multiplication](https://en.wikipedia.org/wiki/Matrix_multiplication) is a binary operation that produces a matrix from two matrices. For matrix multiplication, the number of columns in the first matrix must be equal to the number of rows in the second matrix. The result matrix, known as the matrix product, has the number of rows of the first and the number of columns of the second matrix.\n",
    "\n",
    "In Python, matrix multiplication can be performed using NumPy with the `@` operator, which is equivalent to the function `numpy.matmul()`."
   ]
  },
  {
   "cell_type": "code",
   "execution_count": 9,
   "metadata": {
    "deletable": false,
    "editable": false,
    "nbgrader": {
     "cell_type": "code",
     "checksum": "10f997c62173acdb704774a57e6decb2",
     "grade": false,
     "grade_id": "cell-417bdb994c021b99",
     "locked": true,
     "schema_version": 3,
     "solution": false,
     "task": false
    }
   },
   "outputs": [
    {
     "name": "stdout",
     "output_type": "stream",
     "text": [
      "the matrix X has 4 rows and 3 columns \n",
      "\n",
      "the matrix Y has 3 rows and 4 columns \n",
      "\n",
      "the product XY=X@Y is XY = \n",
      " [[ 20  23  26  29]\n",
      " [ 56  68  80  92]\n",
      " [ 92 113 134 155]\n",
      " [128 158 188 218]]\n",
      "\n",
      " the matrix XY has 4 rows and 4 columns \n",
      "\n"
     ]
    }
   ],
   "source": [
    "# create an array of length m*n\n",
    "m = 4\n",
    "n = 3\n",
    "array = np.arange(m*n)\n",
    "\n",
    "# create matrix X represented as a numpy array of shape (m,n)\n",
    "X = array.reshape(m,n)\n",
    "dimension=np.shape(X)      # determine the shape of matrix X\n",
    "rows = dimension[0]        # first element of \"dimension\" is the number of rows \n",
    "cols = dimension[1]        # second element of \"dimension\" is the number of cols\n",
    "print(\"the matrix X has\", rows, \"rows and\", cols, \"columns \\n\") \n",
    "\n",
    "# create matrix Y represented as a numpy array of shape (n,m)\n",
    "Y = array.reshape(n,m)\n",
    "dimension=np.shape(Y)      # determine the shape of matrix Y\n",
    "rows = dimension[0]        # first element of \"dimension\" is the number of rows \n",
    "cols = dimension[1]        # second element of \"dimension\" is the number of cols\n",
    "print(\"the matrix Y has\", rows, \"rows and\", cols, \"columns \\n\") \n",
    "\n",
    "# matrix multiplication of X and Y\n",
    "XY = X @ Y\n",
    "# print the result of matrix multiplication \n",
    "print(\"the product XY=X@Y is XY = \\n\", XY) \n",
    "# print the shape of the XY matrix\n",
    "print(\"\\n the matrix XY has\", XY.shape[0], \"rows and\", XY.shape[1], \"columns \\n\") "
   ]
  },
  {
   "cell_type": "code",
   "execution_count": 10,
   "metadata": {},
   "outputs": [
    {
     "name": "stdout",
     "output_type": "stream",
     "text": [
      "[[ 0  1  2]\n",
      " [ 3  4  5]\n",
      " [ 6  7  8]\n",
      " [ 9 10 11]]\n",
      "[[ 0  1  2  3]\n",
      " [ 4  5  6  7]\n",
      " [ 8  9 10 11]]\n"
     ]
    }
   ],
   "source": [
    "print(X)\n",
    "print(Y)"
   ]
  },
  {
   "cell_type": "markdown",
   "metadata": {
    "deletable": false,
    "editable": false,
    "nbgrader": {
     "cell_type": "markdown",
     "checksum": "bf86dc2110813d1d4cc364cf769d26b0",
     "grade": false,
     "grade_id": "cell-bd9a3adfe2425467",
     "locked": true,
     "schema_version": 3,
     "solution": false,
     "task": false
    }
   },
   "source": [
    "**To summarize**:\n",
    "\n",
    "(1) For matrix multiplication, the number of columns in the first matrix must be equal to the number of rows in the second matrix. The result matrix has the number of rows of the first and the number of columns of the second matrix \n",
    "\n",
    "(2) Order of matrix multiplication is important:  np.matmul(A,B) != np.matmul(B,A) \n",
    "\n",
    "(3) A*B is element-wise multiplication in Python, and not the matrix multiplication."
   ]
  },
  {
   "cell_type": "code",
   "execution_count": 126,
   "metadata": {
    "deletable": false,
    "editable": false,
    "nbgrader": {
     "cell_type": "code",
     "checksum": "78976fa8659a31f9866a1d252c1fa234",
     "grade": false,
     "grade_id": "cell-f9b50e65fb12764f",
     "locked": true,
     "schema_version": 3,
     "solution": false,
     "task": false
    },
    "scrolled": true
   },
   "outputs": [
    {
     "name": "stdout",
     "output_type": "stream",
     "text": [
      "\n",
      "Matrix multiplication X@Y:\n",
      "\n",
      " [[ 20  23  26  29]\n",
      " [ 56  68  80  92]\n",
      " [ 92 113 134 155]\n",
      " [128 158 188 218]]\n",
      "\n",
      "Matrix multiplication Y@X:\n",
      "\n",
      " [[ 42  48  54]\n",
      " [114 136 158]\n",
      " [186 224 262]]\n",
      "\n",
      "Matrix Z:\n",
      "\n",
      " [[0 1 2]\n",
      " [3 4 5]\n",
      " [6 7 8]]\n",
      "\n",
      "Square - element-wise Z*Z:\n",
      "\n",
      " [[ 0  1  4]\n",
      " [ 9 16 25]\n",
      " [36 49 64]]\n",
      "\n",
      "Square - matrix multiplication Z@Z:\n",
      "\n",
      " [[ 15  18  21]\n",
      " [ 42  54  66]\n",
      " [ 69  90 111]]\n"
     ]
    }
   ],
   "source": [
    "# For matrix multiplication A.dot(B) or A@B can be used\n",
    "print(\"\\nMatrix multiplication X@Y:\\n\\n\", X @ Y)\n",
    "\n",
    "# Order is important in matrix multiplication - A@B != B@A\n",
    "print(\"\\nMatrix multiplication Y@X:\\n\\n\", Y @ X)\n",
    "\n",
    "# Square of the matrix element-wise\n",
    "Z = np.arange(9).reshape(3,3)\n",
    "print(\"\\nMatrix Z:\\n\\n\", Z)\n",
    "print(\"\\nSquare - element-wise Z*Z:\\n\\n\", Z**2)\n",
    "\n",
    "# Square of the matrix by matrix multiplication\n",
    "print(\"\\nSquare - matrix multiplication Z@Z:\\n\\n\", Z @ Z)"
   ]
  },
  {
   "cell_type": "markdown",
   "metadata": {
    "deletable": false,
    "editable": false,
    "nbgrader": {
     "cell_type": "markdown",
     "checksum": "7c31d633e18e7389f50864591e5f9903",
     "grade": false,
     "grade_id": "cell-e368d22b320a7612",
     "locked": true,
     "schema_version": 3,
     "solution": false,
     "task": false
    }
   },
   "source": [
    "**<center><font size=\"4\">L1-norm of a vector or matrix</font></center>**\n",
    "\n",
    "Norms of vectors are instrumental when we need to measure the similarity between data points represented as vectors.\n",
    "\n",
    "The L1-norm of a vector $\\mathbf{x}$ is defined as the sum of the absolute values of its elements, and is denoted by\n",
    "\n",
    "\\begin{equation}\n",
    "{||\\mathbf{x}||}_{1}= |{x_1}|+...+|{x_n}|\n",
    "\\end{equation}\n",
    "\n",
    "\n",
    "\n",
    "**<center><font size=\"4\">L2-norm of a vector or matrix</font></center>**\n",
    "\n",
    "The L2-norm of a vector or matrix is defined as the square root of sum of the squared components of a vector or matrix, which corresponds to the intuitive notion of distance. It is denoted by\n",
    "\n",
    "\\begin{equation}\n",
    "\\|\\mathbf{x}\\|_{2}= \\sqrt{{x_1}^{2}+...+{x_n}^{2}},\n",
    "\\end{equation}\n",
    " \n",
    "although the subscript is often omitted since the L2-norm is the standard norm in $\\mathbb{R}^n$. It is often useful to calculate the squared L2-norm \n",
    " \n",
    "\\begin{equation}\n",
    "\\|\\mathbf{x}\\|^{2}= {x_1}^{2}+...+{x_n}^{2},\n",
    "\\end{equation}\n",
    " \n",
    "which is equivalent to the inner (dot) product of the vector with itself.\n",
    "\n",
    "In the picture below, you can see the L1 and L2 norms between two points in the Euclidean plane:\n",
    "\n",
    "<img width=400 src=\"../../../coursedata/0_Intro/norm.png\"/>\n",
    "\n",
    "**<center><font size=\"4\">Summation</font></center>**\n",
    "\n",
    "The sum of all elements (from 1 to $n$) of an indexed collection $(x_1, x_2, \\ldots, x_n)$ (e.g., a vector $\\mathbf{x}$) is denoted by\n",
    "\n",
    "\\begin{equation}\n",
    "\\sum_{i=1}^{n}{x}_{i} = {x_1}+...+{x_n}\n",
    "\\end{equation}\n",
    "\n",
    "For example, we can re-write vector norm formula as \n",
    "\n",
    "\\begin{equation}\n",
    "\\| \\mathbf{x} \\|^{2}= \\sum_{i=1}^{n}{x_i}^{2} = {x_1}^{2}+...+{x_n}^{2}\n",
    "\\end{equation}\n",
    "\n",
    "\n",
    "**<center><font size=\"4\">Product</font></center>**\n",
    "\n",
    "Product notation $ \\prod$ is used to indicate repeated multiplication.\n",
    "\n",
    "For example,\n",
    "\n",
    "\\begin{equation}\n",
    "\\prod_{k=3}^7 k = 3·4·5·6·7,\n",
    "\\end{equation} or\n",
    "\n",
    "\\begin{equation}\n",
    "\\prod_{i=1}^n {x}_{i} = {x_1}· ... ·{x_n}.\n",
    "\\end{equation}\n",
    "\n"
   ]
  },
  {
   "cell_type": "markdown",
   "metadata": {
    "deletable": false,
    "editable": false,
    "nbgrader": {
     "cell_type": "markdown",
     "checksum": "a02079b2d32642235e6ba8c60639da09",
     "grade": false,
     "grade_id": "cell-14a722574b2e88bc",
     "locked": true,
     "schema_version": 3,
     "solution": false,
     "task": false
    }
   },
   "source": [
    "<a id='STvectors'></a>\n",
    "<div class=\" alert alert-warning\">\n",
    "   <font size=\"4\"> <b>Student task.</b> Vector and Matrix operations.</font>\n",
    "    \n",
    "Consider following vectors:\n",
    "\n",
    "\\begin{equation}   \n",
    "\\mathbf{x} = \\begin{pmatrix} x_{1} \\\\ x_{2} \\\\ \\vdots \\\\ x_{n} \\end{pmatrix} \\ \n",
    "\\mathbf{w} = \\begin{pmatrix} w_{1} \\\\ w_{2} \\\\ \\vdots \\\\ w_{n} \\end{pmatrix} \n",
    "\\end{equation}    \n",
    "\n",
    "    \n",
    "Your task is to perform following calculations:\n",
    "\n",
    "1.  sum all elements of vector $\\mathbf{x}$:  $\\sum_{i=1}^{n}{x}_{i}$ and store result in variable `vector_sum` \n",
    "2.  square of L2-norm of vector $\\mathbf{x}$: ${||\\mathbf{x}||_2}^{2}$ and store result in `vector_norm ` \n",
    "3.  compute dot-product of two vectors $\\mathbf{w}$ and $\\mathbf{x}$: $\\mathbf{w}^{T}\\mathbf{x}$ and store in variable  `vector_dotprod`\n",
    "4.  compute outer product of two vectors $\\mathbf{w}$ and $\\mathbf{x}$: $\\mathbf{w}\\mathbf{x}^{T}$ and store in variable `vector_outerprod`\n",
    "5. compute multiplication  of `vector_outerprod` and `A` (given below) and store in `mat_mult`\n",
    "    \n",
    "</div>"
   ]
  },
  {
   "cell_type": "code",
   "execution_count": 38,
   "metadata": {
    "deletable": false,
    "nbgrader": {
     "cell_type": "code",
     "checksum": "ea8f8e8427c73ba3ac4c5f9cc6eb3e0e",
     "grade": false,
     "grade_id": "cell-43f0992d7f45ae76",
     "locked": false,
     "schema_version": 3,
     "solution": true,
     "task": false
    }
   },
   "outputs": [
    {
     "name": "stdout",
     "output_type": "stream",
     "text": [
      "x:\n",
      " [0 1 2 3 4] \n",
      " vector_sum:\n",
      " 10 \n",
      " vector_norm:\n",
      " 30 \n",
      "vector_dotprod:\n",
      " 4.834752204393583 \n",
      " vector_outerprod:\n",
      " [[0.         0.37454012 0.74908024 1.12362036 1.49816048]\n",
      " [0.         0.95071431 1.90142861 2.85214292 3.80285723]\n",
      " [0.         0.73199394 1.46398788 2.19598183 2.92797577]\n",
      " [0.         0.59865848 1.19731697 1.79597545 2.39463394]\n",
      " [0.         0.15601864 0.31203728 0.46805592 0.62407456]] \n",
      " [[ 33.7086107   37.45401188  41.19941307]\n",
      " [ 85.56428758  95.07143064 104.57857371]\n",
      " [ 65.87945476  73.19939418  80.5193336 ]\n",
      " [ 53.87926358  59.86584842  65.85243326]\n",
      " [ 14.04167764  15.60186404  17.16205045]]\n"
     ]
    }
   ],
   "source": [
    "np.random.seed(42)\n",
    "\n",
    "x = np.arange(5)\n",
    "w = np.random.rand(5)\n",
    "A = np.arange(15).reshape(5,3)\n",
    "\n",
    "### STUDENT TASK ###\n",
    "vector_sum = x.sum()\n",
    "vector_norm = x.dot(x) \n",
    "vector_dotprod = w.T.dot(x)\n",
    "vector_outerprod = np.outer(w.T,x)\n",
    "mat_mult = vector_outerprod@A\n",
    "\n",
    "print(\"x:\\n\",x,\"\\n vector_sum:\\n\",vector_sum,\"\\n vector_norm:\\n\",vector_norm,\"\\nvector_dotprod:\\n\",vector_dotprod,\"\\n vector_outerprod:\\n\",vector_outerprod,\"\\n\",mat_mult)\n"
   ]
  },
  {
   "cell_type": "code",
   "execution_count": 30,
   "metadata": {},
   "outputs": [
    {
     "name": "stdout",
     "output_type": "stream",
     "text": [
      "x:\n",
      " [0 1 2 3 4] \n",
      " vector_sum:\n",
      " 10 \n",
      " vector_norm:\n",
      " 30 \n",
      "vector_dotprod:\n",
      " 4.834752204393583 \n",
      " vector_outerprod:\n",
      " [[0.         0.37454012 0.74908024 1.12362036 1.49816048]\n",
      " [0.         0.95071431 1.90142861 2.85214292 3.80285723]\n",
      " [0.         0.73199394 1.46398788 2.19598183 2.92797577]\n",
      " [0.         0.59865848 1.19731697 1.79597545 2.39463394]\n",
      " [0.         0.15601864 0.31203728 0.46805592 0.62407456]] \n",
      " [[ 33.7086107   37.45401188  41.19941307]\n",
      " [ 85.56428758  95.07143064 104.57857371]\n",
      " [ 65.87945476  73.19939418  80.5193336 ]\n",
      " [ 53.87926358  59.86584842  65.85243326]\n",
      " [ 14.04167764  15.60186404  17.16205045]]\n"
     ]
    }
   ],
   "source": [
    "# %load solutions/student-task-5.py\n",
    "vector_sum = x.sum()\n",
    "vector_norm = sum(x**2)\n",
    "vector_dotprod = w.dot(x)\n",
    "vector_outerprod = np.outer(w,x)\n",
    "mat_mult = vector_outerprod@A\n",
    "print(\"x:\\n\",x,\"\\n vector_sum:\\n\",vector_sum,\"\\n vector_norm:\\n\",vector_norm,\"\\nvector_dotprod:\\n\",vector_dotprod,\"\\n vector_outerprod:\\n\",vector_outerprod,\"\\n\",mat_mult)\n"
   ]
  },
  {
   "cell_type": "markdown",
   "metadata": {
    "deletable": false,
    "editable": false,
    "nbgrader": {
     "cell_type": "markdown",
     "checksum": "2790963293ac9937c9f5a88eb11e5e77",
     "grade": false,
     "grade_id": "cell-3806d0942694f8ad",
     "locked": true,
     "schema_version": 3,
     "solution": false,
     "task": false
    }
   },
   "source": [
    "<a id='STmse'></a>\n",
    "<div class=\" alert alert-warning\">\n",
    "   <font size=\"4\"> <b>Student task.</b> Squared difference.</font>\n",
    "    \n",
    "Consider vectors:\n",
    "\n",
    "\\begin{equation}   \n",
    "\\mathbf{y} = \\begin{pmatrix} y_{1} \\\\ y_{2} \\\\ \\vdots \\\\ y_{m} \\end{pmatrix} \\ \n",
    "\\mathbf{\\hat y} = \\begin{pmatrix} {\\hat y}_{1} \\\\ {\\hat y}_{2} \\\\ \\vdots \\\\ {\\hat y}_{m} \\end{pmatrix} \n",
    "\\end{equation}    \n",
    "\n",
    "<br>   \n",
    "Your task is to implement following equation with numpy arrays:\n",
    "    \n",
    "\\begin{equation}\n",
    "MSE = \\frac{1}{m}\\sum_{i=1}^{m}({y}_{i} - {\\hat y}_{i})^2\n",
    "\\end{equation}\n",
    "        \n",
    "</div>"
   ]
  },
  {
   "cell_type": "code",
   "execution_count": 44,
   "metadata": {
    "deletable": false,
    "nbgrader": {
     "cell_type": "code",
     "checksum": "dc8ce7f374c23000e116a8b2e7f934df",
     "grade": false,
     "grade_id": "cell-e5b0b2dc0420131f",
     "locked": false,
     "schema_version": 3,
     "solution": true,
     "task": false
    }
   },
   "outputs": [
    {
     "name": "stdout",
     "output_type": "stream",
     "text": [
      "0.2334652366133536\n"
     ]
    }
   ],
   "source": [
    "np.random.seed(42)\n",
    "\n",
    "y = np.random.rand(5)\n",
    "y_hat = np.random.rand(5)\n",
    "\n",
    "### STUDENT TASK ###\n",
    "sqr=(y-y_hat)**2\n",
    "MSE = sqr.mean()\n",
    "print(MSE)\n"
   ]
  },
  {
   "cell_type": "code",
   "execution_count": 42,
   "metadata": {},
   "outputs": [
    {
     "name": "stdout",
     "output_type": "stream",
     "text": [
      "0.2334652366133536\n"
     ]
    }
   ],
   "source": [
    "# %load solutions/student-task-6.py\n",
    "MSE = np.mean((y - y_hat)**2)\n",
    "print(MSE)"
   ]
  },
  {
   "cell_type": "markdown",
   "metadata": {
    "deletable": false,
    "editable": false,
    "nbgrader": {
     "cell_type": "markdown",
     "checksum": "a3fa66e7c20833d25e597a83920ab843",
     "grade": false,
     "grade_id": "cell-31a233d66e3f8f57",
     "locked": true,
     "schema_version": 3,
     "solution": false,
     "task": false
    }
   },
   "source": [
    "## Common Python errors (see more in [docs](https://docs.python.org/3/library/exceptions.html))\n",
    "\n",
    "### SyntaxError"
   ]
  },
  {
   "cell_type": "code",
   "execution_count": null,
   "metadata": {
    "deletable": false,
    "editable": false,
    "nbgrader": {
     "cell_type": "code",
     "checksum": "264583d6980ead3631288c7822d0dbd2",
     "grade": false,
     "grade_id": "cell-95c81562121af3f9",
     "locked": true,
     "schema_version": 3,
     "solution": false,
     "task": false
    }
   },
   "outputs": [],
   "source": [
    "# print(\"cat\") \n",
    "print \"cat\"  "
   ]
  },
  {
   "cell_type": "code",
   "execution_count": null,
   "metadata": {
    "deletable": false,
    "editable": false,
    "nbgrader": {
     "cell_type": "code",
     "checksum": "7425968a6ec3c0ba9d6f16248945bbd4",
     "grade": false,
     "grade_id": "cell-33d787d279cfdc47",
     "locked": true,
     "schema_version": 3,
     "solution": false,
     "task": false
    }
   },
   "outputs": [],
   "source": [
    "# if 10>9:\n",
    "#  print(\"cat\")\n",
    "\n",
    "if 10>9\n",
    " print(\"cat\")"
   ]
  },
  {
   "cell_type": "markdown",
   "metadata": {
    "deletable": false,
    "editable": false,
    "nbgrader": {
     "cell_type": "markdown",
     "checksum": "3256153aa08c4af420a2f10ca0ee51cd",
     "grade": false,
     "grade_id": "cell-dc9f1db4a55a72f0",
     "locked": true,
     "schema_version": 3,
     "solution": false,
     "task": false
    }
   },
   "source": [
    "### IndentationError"
   ]
  },
  {
   "cell_type": "code",
   "execution_count": null,
   "metadata": {
    "deletable": false,
    "editable": false,
    "nbgrader": {
     "cell_type": "code",
     "checksum": "dd53f8a23350594e495c4e45d80b849d",
     "grade": false,
     "grade_id": "cell-3ca3b773fc7082fa",
     "locked": true,
     "schema_version": 3,
     "solution": false,
     "task": false
    }
   },
   "outputs": [],
   "source": [
    "# if 10>9:\n",
    "#     print(\"cat\")\n",
    "#     print(\"dog\")\n",
    "\n",
    "if 10>9:\n",
    "    print(\"cat\")\n",
    " print(\"dog\")"
   ]
  },
  {
   "cell_type": "markdown",
   "metadata": {
    "deletable": false,
    "editable": false,
    "nbgrader": {
     "cell_type": "markdown",
     "checksum": "3d9cb2038ca1bb62068b4aa2a60a3281",
     "grade": false,
     "grade_id": "cell-350253d61b0dc88b",
     "locked": true,
     "schema_version": 3,
     "solution": false,
     "task": false
    }
   },
   "source": [
    "### NameError"
   ]
  },
  {
   "cell_type": "code",
   "execution_count": null,
   "metadata": {
    "deletable": false,
    "editable": false,
    "nbgrader": {
     "cell_type": "code",
     "checksum": "d3d1a364524e2f22842c07df0d7655cc",
     "grade": false,
     "grade_id": "cell-fb7be8386bfece7f",
     "locked": true,
     "schema_version": 3,
     "solution": false,
     "task": false
    }
   },
   "outputs": [],
   "source": [
    "mylist = [1,2,3]\n",
    "# mylist\n",
    "mlist"
   ]
  },
  {
   "cell_type": "code",
   "execution_count": null,
   "metadata": {
    "deletable": false,
    "editable": false,
    "nbgrader": {
     "cell_type": "code",
     "checksum": "767a835e2902739e1e0a584c81d381fa",
     "grade": false,
     "grade_id": "cell-61a86d7539ba186e",
     "locked": true,
     "schema_version": 3,
     "solution": false,
     "task": false
    }
   },
   "outputs": [],
   "source": [
    "# import seaborn as sns\n",
    "sns"
   ]
  },
  {
   "cell_type": "markdown",
   "metadata": {
    "deletable": false,
    "editable": false,
    "nbgrader": {
     "cell_type": "markdown",
     "checksum": "2b4171fa36c9a0a0132ad839ed303489",
     "grade": false,
     "grade_id": "cell-c19bd79aabc8670e",
     "locked": true,
     "schema_version": 3,
     "solution": false,
     "task": false
    }
   },
   "source": [
    "### TypeError"
   ]
  },
  {
   "cell_type": "code",
   "execution_count": null,
   "metadata": {
    "deletable": false,
    "editable": false,
    "nbgrader": {
     "cell_type": "code",
     "checksum": "41863d6bd27b17564cac7a86ede64878",
     "grade": false,
     "grade_id": "cell-5e8365362a7dc0e7",
     "locked": true,
     "schema_version": 3,
     "solution": false,
     "task": false
    }
   },
   "outputs": [],
   "source": [
    "# Cannot divide string by number\n",
    "\n",
    "\"cat\"/2"
   ]
  },
  {
   "cell_type": "code",
   "execution_count": null,
   "metadata": {
    "deletable": false,
    "editable": false,
    "nbgrader": {
     "cell_type": "code",
     "checksum": "54e1087342e36d7b8a38499826990626",
     "grade": false,
     "grade_id": "cell-ad1b36225c204260",
     "locked": true,
     "schema_version": 3,
     "solution": false,
     "task": false
    }
   },
   "outputs": [],
   "source": [
    "ind_floats = [0.0, 1.0, 2.0]\n",
    "# ind_int = [0, 1, 2]\n",
    "mylist = [\"cat\", \"dog\", \"rat\"]\n",
    "\n",
    "for i in ind_floats:\n",
    "    print(mylist[i])"
   ]
  },
  {
   "cell_type": "code",
   "execution_count": 46,
   "metadata": {
    "scrolled": true
   },
   "outputs": [
    {
     "name": "stdout",
     "output_type": "stream",
     "text": [
      "cat\n",
      "dog\n",
      "rat\n"
     ]
    }
   ],
   "source": [
    "ind_int = [0, 1, 2]\n",
    "mylist = [\"cat\", \"dog\", \"rat\"]\n",
    "\n",
    "for i in ind_int:\n",
    "    print(mylist[i])"
   ]
  },
  {
   "cell_type": "code",
   "execution_count": null,
   "metadata": {
    "deletable": false,
    "editable": false,
    "nbgrader": {
     "cell_type": "code",
     "checksum": "01555248b30a0cf15c8f79b632bd9850",
     "grade": false,
     "grade_id": "cell-59fd54824860ff27",
     "locked": true,
     "schema_version": 3,
     "solution": false,
     "task": false
    }
   },
   "outputs": [],
   "source": [
    "# for i in range(len(mylist)):\n",
    "#     print(\"cat\")\n",
    "\n",
    "\n",
    "for i in range(mylist):\n",
    "    print(\"cat\")"
   ]
  },
  {
   "cell_type": "code",
   "execution_count": 47,
   "metadata": {},
   "outputs": [
    {
     "name": "stdout",
     "output_type": "stream",
     "text": [
      "cat\n",
      "cat\n",
      "cat\n"
     ]
    }
   ],
   "source": [
    "for i in range(len(mylist)):\n",
    "    print(\"cat\")"
   ]
  },
  {
   "cell_type": "code",
   "execution_count": 48,
   "metadata": {
    "deletable": false,
    "editable": false,
    "nbgrader": {
     "cell_type": "code",
     "checksum": "ca0cabbd0363a7a1ed3daef904b7da48",
     "grade": false,
     "grade_id": "cell-928593a4c191b34f",
     "locked": true,
     "schema_version": 3,
     "solution": false,
     "task": false
    },
    "scrolled": true
   },
   "outputs": [
    {
     "name": "stdout",
     "output_type": "stream",
     "text": [
      "6\n"
     ]
    },
    {
     "ename": "TypeError",
     "evalue": "'int' object is not callable",
     "output_type": "error",
     "traceback": [
      "\u001b[0;31m---------------------------------------------------------------------------\u001b[0m",
      "\u001b[0;31mTypeError\u001b[0m                                 Traceback (most recent call last)",
      "Input \u001b[0;32mIn [48]\u001b[0m, in \u001b[0;36m<cell line: 6>\u001b[0;34m()\u001b[0m\n\u001b[1;32m      4\u001b[0m \u001b[38;5;66;03m# Assigning variable to reserved names\u001b[39;00m\n\u001b[1;32m      5\u001b[0m \u001b[38;5;28msum\u001b[39m \u001b[38;5;241m=\u001b[39m \u001b[38;5;241m10\u001b[39m\n\u001b[0;32m----> 6\u001b[0m \u001b[38;5;28mprint\u001b[39m(\u001b[38;5;28;43msum\u001b[39;49m\u001b[43m(\u001b[49m\u001b[43m[\u001b[49m\u001b[38;5;241;43m1\u001b[39;49m\u001b[43m,\u001b[49m\u001b[38;5;241;43m2\u001b[39;49m\u001b[43m,\u001b[49m\u001b[38;5;241;43m3\u001b[39;49m\u001b[43m]\u001b[49m\u001b[43m)\u001b[49m)\n",
      "\u001b[0;31mTypeError\u001b[0m: 'int' object is not callable"
     ]
    }
   ],
   "source": [
    "# Build-in function sum(), summs elements of list\n",
    "print(sum([1,2,3]))\n",
    "\n",
    "# Assigning variable to reserved names\n",
    "sum = 10\n",
    "print(sum([1,2,3]))\n",
    "\n",
    "# Restart kernel to restore build-in function"
   ]
  },
  {
   "cell_type": "code",
   "execution_count": 2,
   "metadata": {},
   "outputs": [
    {
     "name": "stdout",
     "output_type": "stream",
     "text": [
      "ord\n",
      "3\n"
     ]
    }
   ],
   "source": [
    "word = 'word'\n",
    "word = word[1:len(word)]\n",
    "print(word)\n",
    "print(len(word))"
   ]
  }
 ],
 "metadata": {
  "kernelspec": {
   "display_name": "Python 3 (ipykernel)",
   "language": "python",
   "name": "python3"
  },
  "language_info": {
   "codemirror_mode": {
    "name": "ipython",
    "version": 3
   },
   "file_extension": ".py",
   "mimetype": "text/x-python",
   "name": "python",
   "nbconvert_exporter": "python",
   "pygments_lexer": "ipython3",
   "version": "3.11.4"
  },
  "nbdime-conflicts": {
   "local_diff": [
    {
     "diff": [
      {
       "diff": [
        {
         "diff": [
          {
           "key": 4,
           "op": "addrange",
           "valuelist": "3"
          },
          {
           "key": 4,
           "length": 1,
           "op": "removerange"
          }
         ],
         "key": 0,
         "op": "patch"
        }
       ],
       "key": "version",
       "op": "patch"
      }
     ],
     "key": "language_info",
     "op": "patch"
    }
   ],
   "remote_diff": [
    {
     "diff": [
      {
       "diff": [
        {
         "diff": [
          {
           "key": 4,
           "op": "addrange",
           "valuelist": "4"
          },
          {
           "key": 4,
           "length": 1,
           "op": "removerange"
          }
         ],
         "key": 0,
         "op": "patch"
        }
       ],
       "key": "version",
       "op": "patch"
      }
     ],
     "key": "language_info",
     "op": "patch"
    }
   ]
  },
  "toc": {
   "base_numbering": 1,
   "nav_menu": {},
   "number_sections": false,
   "sideBar": true,
   "skip_h1_title": false,
   "title_cell": "Table of Contents",
   "title_sidebar": "Contents",
   "toc_cell": false,
   "toc_position": {
    "height": "507.275px",
    "left": "23.975px",
    "top": "145.5px",
    "width": "233.958328px"
   },
   "toc_section_display": true,
   "toc_window_display": true
  },
  "varInspector": {
   "cols": {
    "lenName": 16,
    "lenType": 16,
    "lenVar": 40
   },
   "kernels_config": {
    "python": {
     "delete_cmd_postfix": "",
     "delete_cmd_prefix": "del ",
     "library": "var_list.py",
     "varRefreshCmd": "print(var_dic_list())"
    },
    "r": {
     "delete_cmd_postfix": ") ",
     "delete_cmd_prefix": "rm(",
     "library": "var_list.r",
     "varRefreshCmd": "cat(var_dic_list()) "
    }
   },
   "oldHeight": 194.85,
   "position": {
    "height": "216.85px",
    "left": "1417px",
    "right": "18px",
    "top": "126px",
    "width": "485px"
   },
   "types_to_exclude": [
    "module",
    "function",
    "builtin_function_or_method",
    "instance",
    "_Feature"
   ],
   "varInspector_section_display": "block",
   "window_display": false
  }
 },
 "nbformat": 4,
 "nbformat_minor": 2
}
