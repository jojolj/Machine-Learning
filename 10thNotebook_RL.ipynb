{
 "cells": [
  {
   "cell_type": "markdown",
   "id": "6b0a5b17-0e17-4c1f-ae90-a1d584b5a58d",
   "metadata": {},
   "source": [
    "# Tabular reinforcement learning\n",
    "\n",
    "Tabular RL is the easiest way to understand the main priciples of this approach in machine learning. Tabular RL assumes that there is a dicrete number of states and and actions."
   ]
  },
  {
   "cell_type": "markdown",
   "id": "324a5f25-ccff-464b-97e0-503723b29219",
   "metadata": {},
   "source": [
    "## Gymnasium environment\n",
    "\n",
    "To experiment with the RL methods we need to have suitable simulated environments or real robots. The most popular library is Gymnasium (originally OpenAI Gym):\n",
    "\n",
    " * https://gymnasium.farama.org/\n",
    "\n",
    "Gymnasium can be installed via Anaconda:\n",
    "\n",
    "```bash\n",
    " (dataml200-24) $ conda install conda-forge::gymnasium\n",
    "```\n",
    "\n",
    "The classic “agent-environment loop” pictured below is simplified representation of reinforcement learning that Gymnasium implements.\n",
    "\n",
    "<div><img src=\"pictures/Gymnasium_RL_loop.png\" width=400> </div>"
   ]
  },
  {
   "cell_type": "markdown",
   "id": "b84a2f29-8b8e-4fdb-b3a2-71f9aaad4932",
   "metadata": {},
   "source": [
    "### Example environment: FrozenLake\n",
    "\n",
    "<div>\n",
    "    <img src=\"pictures/Gymnasium_FrozenLake.png\" width=400>\n",
    "</div>\n",
    "\n",
    "More info: https://gymnasium.farama.org/environments/toy_text/frozen_lake/"
   ]
  },
  {
   "cell_type": "markdown",
   "id": "736969cc-d243-45a2-a8f5-6415f140424a",
   "metadata": {},
   "source": [
    "Initialize FrozenLake"
   ]
  },
  {
   "cell_type": "code",
   "execution_count": 49,
   "id": "27b777f4-48cf-4dc8-b360-86ffe52d282c",
   "metadata": {},
   "outputs": [
    {
     "name": "stdout",
     "output_type": "stream",
     "text": [
      "\n",
      "\u001b[41mS\u001b[0mFFF\n",
      "FHFH\n",
      "FFFH\n",
      "HFFG\n",
      "\n",
      "Action space size: 4 and state space size: 16\n",
      "\n",
      "Discrete actions: 0/left 1/down 2/right 3/up:\n"
     ]
    }
   ],
   "source": [
    "import gymnasium as gym\n",
    "\n",
    "env = gym.make('FrozenLake-v1', desc=None, map_name=\"4x4\", is_slippery=True, render_mode=\"ansi\")\n",
    "env.reset()\n",
    "print(env.render())\n",
    "\n",
    "print(f'Action space size: {env.action_space.n} and state space size: {env.observation_space.n}')\n",
    "print()\n",
    "print('Discrete actions: 0/left 1/down 2/right 3/up:')"
   ]
  },
  {
   "cell_type": "markdown",
   "id": "eb4a1edc-9cc9-455c-8013-c627a5194563",
   "metadata": {},
   "source": [
    "Let's run one episode of fixed actions in deterministic (non-slippery) and non-deterministic (slippery) versions of the environment."
   ]
  },
  {
   "cell_type": "code",
   "execution_count": 53,
   "id": "caa21f8e-94cf-4842-8091-8eeda26e315a",
   "metadata": {},
   "outputs": [
    {
     "name": "stdout",
     "output_type": "stream",
     "text": [
      "S_0=0\n",
      "\n",
      "\u001b[41mS\u001b[0mFFF\n",
      "FHFH\n",
      "FFFH\n",
      "HFFG\n",
      "\n",
      "S_1=4, r_1=0.0, terminated=False\n",
      "  (Right)\n",
      "SFFF\n",
      "\u001b[41mF\u001b[0mHFH\n",
      "FFFH\n",
      "HFFG\n",
      "\n",
      "S_2=8, r_2=0.0, terminated=False\n",
      "  (Right)\n",
      "SFFF\n",
      "FHFH\n",
      "\u001b[41mF\u001b[0mFFH\n",
      "HFFG\n",
      "\n",
      "S_3=9, r_3=0.0, terminated=False\n",
      "  (Down)\n",
      "SFFF\n",
      "FHFH\n",
      "F\u001b[41mF\u001b[0mFH\n",
      "HFFG\n",
      "\n",
      "S_4=10, r_4=0.0, terminated=False\n",
      "  (Down)\n",
      "SFFF\n",
      "FHFH\n",
      "FF\u001b[41mF\u001b[0mH\n",
      "HFFG\n",
      "\n",
      "S_5=9, r_5=0.0, terminated=False\n",
      "  (Down)\n",
      "SFFF\n",
      "FHFH\n",
      "F\u001b[41mF\u001b[0mFH\n",
      "HFFG\n",
      "\n",
      "S_6=10, r_6=0.0, terminated=False\n",
      "  (Right)\n",
      "SFFF\n",
      "FHFH\n",
      "FF\u001b[41mF\u001b[0mH\n",
      "HFFG\n",
      "\n"
     ]
    }
   ],
   "source": [
    "actions = [2,2,1,1,1,2]\n",
    "\n",
    "observation, info = env.reset()\n",
    "print(f'S_0={observation}')\n",
    "print(env.render())\n",
    "\n",
    "for num,a in enumerate(actions):\n",
    "    observation, reward, terminated, truncated, info = env.step(a)\n",
    "    print(f'S_{num+1}={observation}, r_{num+1}={reward}, terminated={terminated}')\n",
    "    print(env.render())\n",
    "\n",
    "    if terminated:\n",
    "        break"
   ]
  },
  {
   "cell_type": "markdown",
   "id": "c01078f1-a7dd-4b96-afd7-4736ed538cde",
   "metadata": {},
   "source": [
    "## Discrete policy $\\pi[s]$"
   ]
  },
  {
   "cell_type": "markdown",
   "id": "accb78e6-6412-48ee-badd-4bfd37530029",
   "metadata": {},
   "source": [
    "Policy can be represented by a vector that defines the selected action for each state. The manually selected fixed route can be encoded by using random actions for unknown states."
   ]
  },
  {
   "cell_type": "code",
   "execution_count": 38,
   "id": "684b04df-2c4d-44ee-a8bb-65337e0c007d",
   "metadata": {},
   "outputs": [
    {
     "name": "stdout",
     "output_type": "stream",
     "text": [
      "[2 2 1 0 0 0 1 0 0 0 1 0 0 0 2 0]\n"
     ]
    }
   ],
   "source": [
    "import numpy as np\n",
    "\n",
    "pi = np.zeros((env.observation_space.n)).astype(int)\n",
    "pi[0] = 2\n",
    "pi[1] = 2\n",
    "pi[2] = 1\n",
    "pi[6] = 1\n",
    "pi[10] = 1\n",
    "pi[14] = 2\n",
    "print(pi)"
   ]
  },
  {
   "cell_type": "markdown",
   "id": "c717dc9f-136c-4428-b508-4315022cb827",
   "metadata": {},
   "source": [
    "### State-value function $v(s)$\n",
    "\n",
    "Value function provides the total return obtained by starting a state $s$ and following given policy. More precisely defined as $v_\\pi (s)$."
   ]
  },
  {
   "cell_type": "markdown",
   "id": "23c9f1c5-802d-49b6-900d-2b2e2f7aa6d1",
   "metadata": {},
   "source": [
    "Compute value function $v_\\pi(s)$ for deterministic environment. You may re-run and always obtain the same value."
   ]
  },
  {
   "cell_type": "code",
   "execution_count": 55,
   "id": "3d7f3b03-ff6d-401f-9ea2-25da484cfd4a",
   "metadata": {},
   "outputs": [
    {
     "name": "stdout",
     "output_type": "stream",
     "text": [
      "0.0\n"
     ]
    }
   ],
   "source": [
    "env = gym.make('FrozenLake-v1', desc=None, map_name=\"4x4\", is_slippery=True, render_mode=\"ansi\")\n",
    "s, info = env.reset()\n",
    "\n",
    "gamma = 0.9\n",
    "\n",
    "G = 0\n",
    "discount = 1\n",
    "while True:\n",
    "    a = pi[s]\n",
    "    s, reward, terminated, truncated, info = env.step(a)\n",
    "    G = G+discount*reward\n",
    "    discount = gamma*discount\n",
    "    if terminated:\n",
    "        break\n",
    "print(G)"
   ]
  },
  {
   "cell_type": "markdown",
   "id": "e0799640-1e16-48d3-847e-6baf1d4d14ff",
   "metadata": {},
   "source": [
    "Compute value function $v_\\pi(s)$ for deterministic environment. We need to repeat the episode multiple times and use the average return as the expected return. How many episodes are needed to stabilize the estimate (surely depends on the environment)?"
   ]
  },
  {
   "cell_type": "code",
   "execution_count": 61,
   "id": "2598c5bf-67e1-45dc-b684-5b83689f4296",
   "metadata": {},
   "outputs": [
    {
     "name": "stdout",
     "output_type": "stream",
     "text": [
      "With 68% probability (1-std) return is within 0.590490 +- 0.000000\n"
     ]
    }
   ],
   "source": [
    "env = gym.make('FrozenLake-v1', desc=None, map_name=\"4x4\", is_slippery=False, render_mode=\"ansi\")\n",
    "\n",
    "N = 500\n",
    "gamma = 0.9\n",
    "\n",
    "G_n = [] \n",
    "for epi in range(N):\n",
    "    s, info = env.reset()\n",
    "    G = 0\n",
    "    discount = 1\n",
    "    while True:\n",
    "        a = pi[s]\n",
    "        s, reward, terminated, truncated, info = env.step(a)\n",
    "        G = G+discount*reward\n",
    "        discount = gamma*discount\n",
    "        if terminated:\n",
    "            G_n.append(G)\n",
    "            break\n",
    "v_expected = np.mean(G_n)\n",
    "v_std = np.std(G_n)\n",
    "print(f'With 68% probability (1-std) return is within {v_expected:.6f} +- {v_std:.6f}')"
   ]
  },
  {
   "cell_type": "markdown",
   "id": "7a465013-de11-4417-80ca-b0919a25fba9",
   "metadata": {},
   "source": [
    "### Policy evaluation\n",
    "\n",
    "Let's implement a function for evaluating a policy."
   ]
  },
  {
   "cell_type": "code",
   "execution_count": 63,
   "id": "4280ac8b-c63b-4027-b863-96831fd2ab85",
   "metadata": {},
   "outputs": [],
   "source": [
    "def eval_policy(env_, pi_, gamma_, t_max_, episodes_, egreedy_ = False):\n",
    "\n",
    "    epsilon = 0.1\n",
    "    interactions = 0\n",
    "    \n",
    "    v_pi_rep = np.empty(episodes_)\n",
    "    for e in range(episodes_):\n",
    "        s_t, info = env.reset()\n",
    "        v_pi = 0\n",
    "        for t in range(t_max_):\n",
    "            interactions += 1\n",
    "            if egreedy_:\n",
    "                if np.random.random(1) < epsilon:\n",
    "                    a_t = np.random.randint(env_.action_space.n)\n",
    "                else:\n",
    "                    a_t = pi_[s_t]\n",
    "            else:\n",
    "                a_t = pi_[s_t]\n",
    "            s_t, r_t, done, truncated, info = env_.step(a_t) \n",
    "            v_pi += gamma_**t*r_t\n",
    "            if done:\n",
    "                break\n",
    "        v_pi_rep[e] = v_pi\n",
    "        env.close()\n",
    "    return np.mean(v_pi_rep), np.min(v_pi_rep), np.max(v_pi_rep), np.std(v_pi_rep), interactions"
   ]
  },
  {
   "cell_type": "markdown",
   "id": "f2e239fa-55c8-4036-a0fc-e7995ed6ba15",
   "metadata": {},
   "source": [
    "## State-action-value function (Q-function $Q(s,a)$)"
   ]
  },
  {
   "cell_type": "markdown",
   "id": "2394b600-bb5f-44b9-85d3-3f2fca5a05cc",
   "metadata": {},
   "source": [
    "Evaluation of random Q-table"
   ]
  },
  {
   "cell_type": "code",
   "execution_count": 68,
   "id": "0f7389d7-e384-4ca7-bbed-7b165192c783",
   "metadata": {},
   "outputs": [
    {
     "name": "stdout",
     "output_type": "stream",
     "text": [
      "[[0.46827137 0.42600052 0.97375987 0.72776734]\n",
      " [0.68657837 0.08902336 0.45836423 0.25242492]\n",
      " [0.37283888 0.59847039 0.13425622 0.687522  ]\n",
      " [0.35442084 0.96066743 0.74020568 0.26504652]\n",
      " [0.95882295 0.28987344 0.04469978 0.12522694]\n",
      " [0.33371954 0.69822902 0.90352256 0.16355615]\n",
      " [0.55136508 0.82503803 0.10127576 0.0034245 ]\n",
      " [0.96030231 0.44664557 0.03351829 0.28500698]\n",
      " [0.61894613 0.04063934 0.52731864 0.76892289]\n",
      " [0.52594389 0.38460545 0.19085912 0.05223298]\n",
      " [0.46384151 0.84982282 0.80090076 0.17914018]\n",
      " [0.57512406 0.87441546 0.81556644 0.20483566]\n",
      " [0.1366979  0.23122676 0.59244658 0.18431259]\n",
      " [0.00497917 0.18755424 0.17049416 0.58502932]\n",
      " [0.64620555 0.35536753 0.87244889 0.79739934]\n",
      " [0.05650587 0.22073512 0.91254141 0.34872843]]\n",
      "[2 0 3 1 0 2 1 0 3 0 1 1 2 3 2 2]\n",
      "Random Q-table value function mean 0.0120, min 0.0000 max 0.5905 and std 0.0634\n"
     ]
    }
   ],
   "source": [
    "env = gym.make('FrozenLake-v1', desc=None, map_name=\"4x4\", is_slippery=True, render_mode=\"ansi\")\n",
    "\n",
    "Q = np.random.uniform(low=0.0, high=1.0, size=(env.observation_space.n, env.action_space.n))\n",
    "print(Q)\n",
    "pi_Q = np.argmax(Q,axis=1)\n",
    "print(pi_Q)\n",
    "val_mean, val_min, val_max, val_std, interactions = eval_policy(env, pi_Q, 0.9, 1000, 1000)\n",
    "print(f'Random Q-table value function mean {val_mean:.4f}, min {val_min:.4f} max {val_max:.4f} and std {val_std:.4f}')"
   ]
  },
  {
   "cell_type": "markdown",
   "id": "091c7edd-6c62-4422-b013-e0474ab31a6d",
   "metadata": {},
   "source": [
    "Evaluation of our manually made Q table"
   ]
  },
  {
   "cell_type": "code",
   "execution_count": 69,
   "id": "677ffa80-9c0e-4509-921b-23872c110883",
   "metadata": {},
   "outputs": [
    {
     "name": "stdout",
     "output_type": "stream",
     "text": [
      "[[0. 0. 1. 0.]\n",
      " [0. 0. 1. 0.]\n",
      " [0. 1. 0. 0.]\n",
      " [0. 0. 0. 0.]\n",
      " [0. 0. 0. 0.]\n",
      " [0. 0. 0. 0.]\n",
      " [0. 1. 0. 0.]\n",
      " [0. 0. 0. 0.]\n",
      " [0. 0. 0. 0.]\n",
      " [0. 0. 0. 0.]\n",
      " [0. 1. 0. 0.]\n",
      " [0. 0. 0. 0.]\n",
      " [0. 0. 0. 0.]\n",
      " [0. 0. 0. 0.]\n",
      " [0. 0. 1. 0.]\n",
      " [0. 0. 0. 0.]]\n",
      "[2 2 1 0 0 0 1 0 0 0 1 0 0 0 2 0]\n",
      "Random Q-table value function mean 0.0042, min 0.0000 max 0.5905 and std 0.0441\n"
     ]
    }
   ],
   "source": [
    "Q = np.zeros((env.observation_space.n, env.action_space.n))\n",
    "Q[0,2] = 1\n",
    "Q[1,2] = 1\n",
    "Q[2,1] = 1\n",
    "Q[6,1] = 1\n",
    "Q[10,1] = 1\n",
    "Q[14,2] = 1\n",
    "\n",
    "print(Q)\n",
    "pi_Q = np.argmax(Q,axis=1)\n",
    "print(pi_Q)\n",
    "val_mean, val_min, val_max, val_std, interactions = eval_policy(env,pi_Q,0.9, 1000, 1000, False)\n",
    "print(f'Random Q-table value function mean {val_mean:.4f}, min {val_min:.4f} max {val_max:.4f} and std {val_std:.4f}')"
   ]
  },
  {
   "cell_type": "markdown",
   "id": "4f9479f7-b570-41f5-9396-da1b3c4e41d6",
   "metadata": {},
   "source": [
    "Select the environment to be tested"
   ]
  },
  {
   "cell_type": "code",
   "execution_count": 70,
   "id": "e48366c0-7292-401d-a27c-3575eb8b9252",
   "metadata": {},
   "outputs": [
    {
     "name": "stdout",
     "output_type": "stream",
     "text": [
      "\n",
      "\u001b[41mS\u001b[0mFFF\n",
      "FHFH\n",
      "FFFH\n",
      "HFFG\n",
      "\n"
     ]
    }
   ],
   "source": [
    "env = gym.make('FrozenLake-v1', desc=None, map_name=\"4x4\", is_slippery=True, render_mode=\"ansi\")\n",
    "env.reset()\n",
    "print(env.render())"
   ]
  },
  {
   "cell_type": "markdown",
   "id": "8db1a734-4917-40e9-bfb7-a33b101e3d4c",
   "metadata": {},
   "source": [
    "## Learning optimal policy $\\pi^\\star$\n",
    "\n",
    "We want to find the optimal state-action-value function $Q^\\star$ which can be used to select the optimal actions by $a = \\arg\\max_a Q^\\star (s,a)$ for any $s$."
   ]
  },
  {
   "cell_type": "markdown",
   "id": "2d79e322-aa88-4ca2-b87f-ab26143713e9",
   "metadata": {},
   "source": [
    "### Brute force (random search)"
   ]
  },
  {
   "cell_type": "code",
   "execution_count": 72,
   "id": "79eb31fd-e9f7-4918-9aad-f8b357adc3f8",
   "metadata": {},
   "outputs": [
    {
     "name": "stdout",
     "output_type": "stream",
     "text": [
      "0.005788082244034486\n",
      "0.014595639482576616\n",
      "0.012573961762774687\n",
      "0.013855564008491625\n",
      "0.01535637247897897\n",
      "0.01948520725362947\n",
      "0.021998253649157456\n"
     ]
    }
   ],
   "source": [
    "rand_iters = 100\n",
    "interactions_tot = [] #np.empty(rand_iters)\n",
    "vals = [] #np.empty(rand_iters)\n",
    "best_mean = -1000\n",
    "\n",
    "plot_ind = 0\n",
    "interactions_acc = 0\n",
    "\n",
    "for ind, it in enumerate(range(rand_iters)):\n",
    "    Q = np.random.uniform(low=0.0, high=1.0, size=(env.observation_space.n, env.action_space.n))\n",
    "    pi_Q = np.argmax(Q,axis=1)\n",
    "    val_mean, val_min, val_max, val_std, interactions = eval_policy(env,pi_Q,0.9, 1000, 1000, False)\n",
    "    interactions_acc += interactions\n",
    "\n",
    "    if val_mean > best_mean:\n",
    "        best_mean = val_mean\n",
    "        best_Q = Q\n",
    "\n",
    "    if np.random.random(1) < 0.1 or plot_ind == 0:\n",
    "        pi_Q = np.argmax(best_Q,axis=1)\n",
    "        val_mean, val_min, val_max, val_std, interactions = eval_policy(env,pi_Q,0.9, 1000, 1000, False)\n",
    "        vals.append(val_mean) # vals[plot_ind] = val_mean\n",
    "        print(val_mean)\n",
    "        interactions_tot.append(interactions_acc)\n",
    "        #interactions_tot[plot_ind] = interactions_acc\n",
    "        plot_ind += 1"
   ]
  },
  {
   "cell_type": "markdown",
   "id": "3fecafb0-5b69-4e38-86a2-af62c1c735d2",
   "metadata": {},
   "source": [
    "We should compute the number of interactions to be evaluate which method is most sample efficient in learning."
   ]
  },
  {
   "cell_type": "code",
   "execution_count": 73,
   "id": "1096595a-376a-4cef-907d-3fa094ebf136",
   "metadata": {},
   "outputs": [
    {
     "data": {
      "image/png": "[encoded data removed]",
      "text/plain": [
       "<Figure size 640x480 with 1 Axes>"
      ]
     },
     "metadata": {},
     "output_type": "display_data"
    }
   ],
   "source": [
    "import matplotlib.pyplot as plt\n",
    "\n",
    "interactions_rand = interactions_tot\n",
    "vals_rand = vals\n",
    "Q_rand = Q\n",
    "\n",
    "plt.plot(interactions_rand,vals_rand)\n",
    "plt.xlabel('Interactions')\n",
    "plt.ylabel('Expected return')\n",
    "plt.show()"
   ]
  },
  {
   "cell_type": "markdown",
   "id": "8c26d0c8-33a8-4517-be50-8519468348f8",
   "metadata": {},
   "source": [
    "## SARSA (on-policy TD controller)\n",
    "\n",
    "<div><img src=\"pictures/SuttonBook_SARSA.png\" width=600></div>\n"
   ]
  },
  {
   "cell_type": "markdown",
   "id": "7828b5ae-78a5-4a62-9eb0-6a3266b73ee0",
   "metadata": {},
   "source": [
    "Test SARSA on the same environment as the previous brute force."
   ]
  },
  {
   "cell_type": "code",
   "execution_count": 74,
   "id": "af89da99-dc6a-4136-9b2e-4d939fd48272",
   "metadata": {},
   "outputs": [
    {
     "name": "stdout",
     "output_type": "stream",
     "text": [
      "0.0\n",
      "0.0\n",
      "0.0\n",
      "0.0\n",
      "0.0\n",
      "0.06687673346047086\n",
      "0.06825909296046598\n",
      "0.06501991082760658\n",
      "0.04023915478512014\n",
      "0.06488023998206592\n",
      "0.04806159914134513\n",
      "0.05042816673253504\n",
      "0.07008789748721432\n",
      "0.060830901949737635\n",
      "0.04119082549636967\n",
      "0.05544609543288243\n",
      "0.05769717391031305\n",
      "0.0649726971234505\n",
      "0.06681552836180948\n",
      "0.058603940382606294\n"
     ]
    }
   ],
   "source": [
    "iters = 40000\n",
    "interactions_tot = []\n",
    "vals = []\n",
    "Q = np.zeros((env.observation_space.n, env.action_space.n))\n",
    "epsilon = 0.1\n",
    "gamma = 0.9\n",
    "alpha = 0.1\n",
    "plot_ind = 0\n",
    "\n",
    "interactions = 0\n",
    "\n",
    "for ind, it in enumerate(range(iters)):\n",
    "    s_t, info = env.reset()\n",
    "    if np.random.random(1) < epsilon:\n",
    "        a_t = np.random.randint(env.action_space.n)\n",
    "    else:\n",
    "        a_t = np.argmax(Q[s_t,:])\n",
    "    while True:\n",
    "        s_t_new, r_t, done, truncated, info = env.step(a_t) \n",
    "        interactions += 1\n",
    "        \n",
    "        if np.random.random(1) < epsilon:\n",
    "            a_t_new = np.random.randint(env.action_space.n)\n",
    "        else:\n",
    "            a_t_new = np.argmax(Q[s_t_new,:])\n",
    "\n",
    "        Q[s_t,a_t] = Q[s_t,a_t]+alpha*(r_t+gamma*Q[s_t_new,a_t_new]-Q[s_t,a_t])\n",
    "        s_t = s_t_new\n",
    "        a_t = a_t_new\n",
    "\n",
    "        if done:\n",
    "            break\n",
    "    if np.random.random(1) < 0.0005 or plot_ind == 0:\n",
    "        pi_Q = np.argmax(Q,axis=1)\n",
    "        val_mean, val_min, val_max, val_std, _ = eval_policy(env,pi_Q,0.9, 1000, 1000, False)\n",
    "        vals.append(val_mean)\n",
    "        print(val_mean)\n",
    "        interactions_tot.append(interactions)\n",
    "        plot_ind += 1\n",
    "env.close()    "
   ]
  },
  {
   "cell_type": "markdown",
   "id": "2149312a-af61-4dca-8d46-d5890b17445c",
   "metadata": {},
   "source": [
    "Compare performance of SARSA vs Brute force"
   ]
  },
  {
   "cell_type": "code",
   "execution_count": 75,
   "id": "974846b3-3250-4b3b-b6f2-2e39c0d7a24e",
   "metadata": {},
   "outputs": [
    {
     "data": {
      "image/png": "[encoded data removed]",
      "text/plain": [
       "<Figure size 640x480 with 1 Axes>"
      ]
     },
     "metadata": {},
     "output_type": "display_data"
    }
   ],
   "source": [
    "interactions_sarsa = interactions_tot\n",
    "vals_sarsa = vals\n",
    "Q_sarsa = Q\n",
    "plt.plot(interactions_rand,vals_rand,label='brute')\n",
    "plt.plot(interactions_sarsa,vals_sarsa,label='SARSA')\n",
    "plt.xlabel('Interactions')\n",
    "plt.ylabel('Expected return')\n",
    "plt.legend()\n",
    "plt.show()"
   ]
  },
  {
   "cell_type": "markdown",
   "id": "7702f7bc-7159-402b-9813-2ce9a1bf13aa",
   "metadata": {},
   "source": [
    "## Q-learning (off-policy TD learning)\n",
    "\n",
    "Instead of selecting actions according to its sampling policy, Q-learning directly uses the optimal policy rule.\n",
    "\n",
    "<div><img src=\"pictures/SuttonBook_Q-learning.png\" width=600></div>"
   ]
  },
  {
   "cell_type": "code",
   "execution_count": null,
   "id": "9c19627a-8078-4057-9e45-cb5b7cbe43f4",
   "metadata": {},
   "outputs": [],
   "source": [
    "Run Q-learning (note similarity to SARSA)"
   ]
  },
  {
   "cell_type": "code",
   "execution_count": 76,
   "id": "e0d17528-317c-44fb-8a06-18b9649d9c54",
   "metadata": {},
   "outputs": [
    {
     "name": "stdout",
     "output_type": "stream",
     "text": [
      "0.0\n",
      "0.0\n",
      "0.046304948001516265\n",
      "0.055165751309890806\n",
      "0.06609165228350293\n",
      "0.05804902079702395\n",
      "0.047792710787057865\n",
      "0.07086778093657983\n",
      "0.0706613707740726\n",
      "0.02634589699624754\n",
      "0.051063753607357314\n",
      "0.0551829974600928\n",
      "0.0487891793509417\n",
      "0.07198593768089181\n",
      "0.04045575289226113\n",
      "0.06540324349553893\n",
      "0.0582948240710524\n",
      "0.06750508982499645\n",
      "0.06343105562349341\n",
      "0.0598990418137827\n",
      "0.058087617057556384\n",
      "0.04204798301226321\n",
      "0.05617567288419129\n",
      "0.025023915773439858\n"
     ]
    }
   ],
   "source": [
    "iters = 40000\n",
    "interactions_tot = []\n",
    "vals = []\n",
    "Q = np.zeros((env.observation_space.n, env.action_space.n))\n",
    "epsilon = 0.1\n",
    "gamma = 0.9\n",
    "alpha = 0.1\n",
    "plot_ind = 0\n",
    "\n",
    "interactions = 0\n",
    "\n",
    "for ind, it in enumerate(range(iters)):\n",
    "    s_t, info = env.reset()\n",
    "    while True:\n",
    "        if np.random.random(1) < epsilon:\n",
    "            a_t = np.random.randint(env.action_space.n)\n",
    "        else:\n",
    "            a_t = np.argmax(Q[s_t_new,:])\n",
    "\n",
    "        s_t_new, r_t, done, truncated, info = env.step(a_t) \n",
    "        interactions += 1\n",
    "        \n",
    "\n",
    "        Q[s_t,a_t] = Q[s_t,a_t]+alpha*(r_t+gamma*np.max(Q[s_t_new,:])-Q[s_t,a_t])\n",
    "        s_t = s_t_new\n",
    "\n",
    "        if done:\n",
    "            break\n",
    "    if np.random.random(1) < 0.0005 or plot_ind == 0:\n",
    "        pi_Q = np.argmax(Q,axis=1)\n",
    "        val_mean, val_min, val_max, val_std, _ = eval_policy(env,pi_Q,0.9, 1000, 1000, False)\n",
    "        vals.append(val_mean)\n",
    "        print(val_mean)\n",
    "        interactions_tot.append(interactions)\n",
    "        plot_ind += 1\n",
    "env.close()    "
   ]
  },
  {
   "cell_type": "markdown",
   "id": "82a53aa5-69da-4bb2-a23d-fbef7a122d23",
   "metadata": {},
   "source": [
    "Again compare all three learning methods."
   ]
  },
  {
   "cell_type": "code",
   "execution_count": 77,
   "id": "51b9cf99-e2b8-4412-8010-385478d7afad",
   "metadata": {},
   "outputs": [
    {
     "data": {
      "image/png": "[encoded data removed]",
      "text/plain": [
       "<Figure size 640x480 with 1 Axes>"
      ]
     },
     "metadata": {},
     "output_type": "display_data"
    }
   ],
   "source": [
    "interactions_qlearn = interactions_tot\n",
    "vals_qlearn = vals\n",
    "Q_learn = Q\n",
    "plt.plot(interactions_rand,vals_rand,label='brute')\n",
    "plt.plot(interactions_sarsa,vals_sarsa,label='SARSA')\n",
    "plt.plot(interactions_qlearn,vals_qlearn,label='Q-learning')\n",
    "plt.xlabel('Interactions')\n",
    "plt.ylabel('Expected return')\n",
    "plt.legend()\n",
    "plt.show()"
   ]
  },
  {
   "cell_type": "markdown",
   "id": "1193dcce-c643-4683-b0a9-aa66bbc478ae",
   "metadata": {},
   "source": [
    "### On-policy vs. off-policy"
   ]
  },
  {
   "cell_type": "markdown",
   "id": "62d89f88-4a09-4c6e-905a-11d33aa0cbf7",
   "metadata": {},
   "source": [
    "#### Example: CliffWalking\n",
    "\n",
    "<div>\n",
    "    <img src=\"pictures/Gymnasium_CliffWalking.png\" width=600>\n",
    "</div>\n",
    "\n"
   ]
  },
  {
   "cell_type": "code",
   "execution_count": 78,
   "id": "c048bc32-5302-4288-a7e3-831dc2e7d42a",
   "metadata": {},
   "outputs": [
    {
     "name": "stdout",
     "output_type": "stream",
     "text": [
      "o  o  o  o  o  o  o  o  o  o  o  o\n",
      "o  o  o  o  o  o  o  o  o  o  o  o\n",
      "o  o  o  o  o  o  o  o  o  o  o  o\n",
      "x  C  C  C  C  C  C  C  C  C  C  T\n",
      "\n",
      "\n"
     ]
    }
   ],
   "source": [
    "env = gym.make('CliffWalking-v0', render_mode=\"ansi\")\n",
    "#env = gym.make('FrozenLake-v1', desc=None, map_name=\"4x4\", is_slippery=True, render_mode=\"ansi\")\n",
    "env.reset()\n",
    "print(env.render())"
   ]
  },
  {
   "cell_type": "markdown",
   "id": "67c692c2-eee6-45f1-ab37-43e001346601",
   "metadata": {},
   "source": [
    "**Brute force**"
   ]
  },
  {
   "cell_type": "code",
   "execution_count": 79,
   "id": "928371f6-0335-4957-8ef3-a1521e3b2084",
   "metadata": {},
   "outputs": [
    {
     "name": "stdout",
     "output_type": "stream",
     "text": [
      "-994.8462247926799\n",
      "-994.8462247926799\n",
      "-9.948462247926798\n",
      "-9.948462247926798\n",
      "-9.948462247926798\n",
      "-9.948462247926798\n",
      "-9.948462247926798\n",
      "-9.948462247926798\n",
      "-9.948462247926798\n",
      "-9.948462247926798\n"
     ]
    }
   ],
   "source": [
    "rand_iters = 20\n",
    "interactions_tot = [] #np.empty(rand_iters)\n",
    "vals = [] #np.empty(rand_iters)\n",
    "best_mean = -1000\n",
    "\n",
    "plot_ind = 0\n",
    "interactions_acc = 0\n",
    "\n",
    "for ind, it in enumerate(range(rand_iters)):\n",
    "    Q = np.random.uniform(low=0.0, high=1.0, size=(env.observation_space.n, env.action_space.n))\n",
    "    pi_Q = np.argmax(Q,axis=1)\n",
    "    val_mean, val_min, val_max, val_std, interactions = eval_policy(env,pi_Q,0.9, 50, 100, False)\n",
    "    interactions_acc += interactions\n",
    "\n",
    "    if val_mean > best_mean:\n",
    "        best_mean = val_mean\n",
    "        best_Q = Q\n",
    "\n",
    "    if np.random.random(1) < 0.5 or plot_ind == 0:\n",
    "        pi_Q = np.argmax(best_Q,axis=1)\n",
    "        val_mean, val_min, val_max, val_std, interactions = eval_policy(env,pi_Q,0.9, 50, 100, False)\n",
    "        vals.append(val_mean) # vals[plot_ind] = val_mean\n",
    "        print(val_mean)\n",
    "        interactions_tot.append(interactions_acc)\n",
    "        #interactions_tot[plot_ind] = interactions_acc\n",
    "        plot_ind += 1"
   ]
  },
  {
   "cell_type": "code",
   "execution_count": 80,
   "id": "7f5e5fba-b441-4013-a93e-76efd1a2b159",
   "metadata": {},
   "outputs": [
    {
     "data": {
      "image/png": "[encoded data removed]",
      "text/plain": [
       "<Figure size 640x480 with 1 Axes>"
      ]
     },
     "metadata": {},
     "output_type": "display_data"
    }
   ],
   "source": [
    "interactions_rand = interactions_tot\n",
    "vals_rand = vals\n",
    "Q_rand = Q\n",
    "\n",
    "plt.plot(interactions_rand,vals_rand)\n",
    "plt.xlabel('Interactions')\n",
    "plt.ylabel('Expected return')\n",
    "plt.yscale('symlog')\n",
    "plt.show()"
   ]
  },
  {
   "cell_type": "markdown",
   "id": "f45e4829-f31e-4bbd-99f4-4efa248f27f6",
   "metadata": {},
   "source": [
    "**SARSA**"
   ]
  },
  {
   "cell_type": "code",
   "execution_count": 81,
   "id": "2e004d85-dfa5-4dae-8271-e7c963f6d2a7",
   "metadata": {},
   "outputs": [
    {
     "name": "stdout",
     "output_type": "stream",
     "text": [
      "-994.8462247926799\n",
      "-9.948462247926798\n",
      "-9.948462247926798\n",
      "-9.948462247926798\n",
      "-8.33228183003334\n",
      "-8.33228183003334\n",
      "-8.33228183003334\n",
      "-8.33228183003334\n",
      "-7.941088679053511\n",
      "-7.941088679053511\n",
      "-8.33228183003334\n",
      "-8.33228183003334\n",
      "-8.33228183003334\n",
      "-8.33228183003334\n",
      "-8.33228183003334\n",
      "-8.33228183003334\n",
      "-7.941088679053511\n",
      "-7.941088679053511\n",
      "-7.941088679053511\n",
      "-8.33228183003334\n",
      "-8.33228183003334\n",
      "-8.33228183003334\n",
      "-8.33228183003334\n",
      "-8.33228183003334\n",
      "-8.33228183003334\n",
      "-8.33228183003334\n",
      "-8.33228183003334\n",
      "-8.33228183003334\n",
      "-8.33228183003334\n",
      "-8.33228183003334\n",
      "-8.33228183003334\n",
      "-8.33228183003334\n",
      "-8.33228183003334\n",
      "-8.33228183003334\n",
      "-8.33228183003334\n"
     ]
    }
   ],
   "source": [
    "iters = 4000\n",
    "interactions_tot = []\n",
    "vals = []\n",
    "Q = np.zeros((env.observation_space.n, env.action_space.n))\n",
    "epsilon = 0.1\n",
    "gamma = 0.9\n",
    "alpha = 0.1\n",
    "plot_ind = 0\n",
    "\n",
    "interactions = 0\n",
    "\n",
    "for ind, it in enumerate(range(iters)):\n",
    "    s_t, info = env.reset()\n",
    "    if np.random.random(1) < epsilon:\n",
    "        a_t = np.random.randint(env.action_space.n)\n",
    "    else:\n",
    "        a_t = np.argmax(Q[s_t,:])\n",
    "    while True:\n",
    "        s_t_new, r_t, done, truncated, info = env.step(a_t) \n",
    "        interactions += 1\n",
    "        \n",
    "        if np.random.random(1) < epsilon:\n",
    "            a_t_new = np.random.randint(env.action_space.n)\n",
    "        else:\n",
    "            a_t_new = np.argmax(Q[s_t_new,:])\n",
    "\n",
    "        Q[s_t,a_t] = Q[s_t,a_t]+alpha*(r_t+gamma*Q[s_t_new,a_t_new]-Q[s_t,a_t])\n",
    "        s_t = s_t_new\n",
    "        a_t = a_t_new\n",
    "\n",
    "        if done:\n",
    "            break\n",
    "    if np.random.random(1) < 0.005 or plot_ind == 0:\n",
    "        pi_Q = np.argmax(Q,axis=1)\n",
    "        val_mean, val_min, val_max, val_std, _ = eval_policy(env,pi_Q,0.9, 50, 100, False)\n",
    "        vals.append(val_mean)\n",
    "        print(val_mean)\n",
    "        interactions_tot.append(interactions)\n",
    "        plot_ind += 1\n",
    "env.close()    "
   ]
  },
  {
   "cell_type": "code",
   "execution_count": 82,
   "id": "7cc39884-e3ed-4406-aa43-65ec3c406a46",
   "metadata": {},
   "outputs": [
    {
     "data": {
      "image/png": "[encoded data removed]",
      "text/plain": [
       "<Figure size 640x480 with 1 Axes>"
      ]
     },
     "metadata": {},
     "output_type": "display_data"
    }
   ],
   "source": [
    "interactions_sarsa = interactions_tot\n",
    "vals_sarsa = vals\n",
    "Q_sarsa = Q\n",
    "plt.plot(interactions_rand,vals_rand,label='brute')\n",
    "plt.plot(interactions_sarsa,vals_sarsa,label='SARSA')\n",
    "plt.xlabel('Interactions')\n",
    "plt.ylabel('Expected return')\n",
    "plt.yscale('symlog')\n",
    "plt.legend()\n",
    "plt.show()"
   ]
  },
  {
   "cell_type": "markdown",
   "id": "73675e65-ba34-4dd2-9ccd-2238a74dbbed",
   "metadata": {},
   "source": [
    "**Q-learning**"
   ]
  },
  {
   "cell_type": "code",
   "execution_count": 83,
   "id": "ad5288f6-1a28-4b5a-b134-5297aa1174db",
   "metadata": {},
   "outputs": [
    {
     "name": "stdout",
     "output_type": "stream",
     "text": [
      "-994.8462247926799\n",
      "-9.948462247926798\n",
      "-9.948462247926798\n",
      "-8.33228183003334\n",
      "-7.4581341716709995\n",
      "-7.4581341716709995\n",
      "-7.4581341716709995\n",
      "-7.4581341716709995\n",
      "-7.4581341716709995\n",
      "-7.4581341716709995\n",
      "-7.4581341716709995\n",
      "-7.4581341716709995\n",
      "-7.4581341716709995\n",
      "-7.4581341716709995\n",
      "-7.4581341716709995\n",
      "-7.4581341716709995\n",
      "-7.4581341716709995\n",
      "-7.4581341716709995\n",
      "-7.4581341716709995\n",
      "-7.4581341716709995\n",
      "-7.4581341716709995\n",
      "-7.4581341716709995\n",
      "-7.4581341716709995\n",
      "-7.4581341716709995\n",
      "-7.4581341716709995\n"
     ]
    }
   ],
   "source": [
    "iters = 4000\n",
    "interactions_tot = []\n",
    "vals = []\n",
    "Q = np.zeros((env.observation_space.n, env.action_space.n))\n",
    "epsilon = 0.1\n",
    "gamma = 0.9\n",
    "alpha = 0.1\n",
    "plot_ind = 0\n",
    "\n",
    "interactions = 0\n",
    "\n",
    "for ind, it in enumerate(range(iters)):\n",
    "    s_t, info = env.reset()\n",
    "    if np.random.random(1) < epsilon:\n",
    "        a_t = np.random.randint(env.action_space.n)\n",
    "    else:\n",
    "        a_t = np.argmax(Q[s_t,:])\n",
    "    while True:\n",
    "        s_t_new, r_t, done, truncated, info = env.step(a_t) \n",
    "        interactions += 1\n",
    "        \n",
    "        if np.random.random(1) < epsilon:\n",
    "            a_t_new = np.random.randint(env.action_space.n)\n",
    "        else:\n",
    "            a_t_new = np.argmax(Q[s_t_new,:])\n",
    "\n",
    "        Q[s_t,a_t] = Q[s_t,a_t]+alpha*(r_t+gamma*np.max(Q[s_t_new,:])-Q[s_t,a_t])\n",
    "        s_t = s_t_new\n",
    "        a_t = a_t_new\n",
    "\n",
    "        if done:\n",
    "            break\n",
    "    if np.random.random(1) < 0.005 or plot_ind == 0:\n",
    "        pi_Q = np.argmax(Q,axis=1)\n",
    "        val_mean, val_min, val_max, val_std, _ = eval_policy(env,pi_Q,0.9, 50, 100, False)\n",
    "        vals.append(val_mean)\n",
    "        print(val_mean)\n",
    "        interactions_tot.append(interactions)\n",
    "        plot_ind += 1\n",
    "env.close()    "
   ]
  },
  {
   "cell_type": "code",
   "execution_count": 84,
   "id": "3594257c-c754-4e4f-bbe6-fb69e9ac85bb",
   "metadata": {},
   "outputs": [
    {
     "data": {
      "image/png": "[encoded data removed]",
      "text/plain": [
       "<Figure size 640x480 with 1 Axes>"
      ]
     },
     "metadata": {},
     "output_type": "display_data"
    }
   ],
   "source": [
    "interactions_qlearn = interactions_tot\n",
    "vals_qlearn = vals\n",
    "Q_learn = Q\n",
    "plt.plot(interactions_rand,vals_rand,label='brute')\n",
    "plt.plot(interactions_sarsa,vals_sarsa,label='SARSA')\n",
    "plt.plot(interactions_qlearn,vals_qlearn,label='Q-learning')\n",
    "plt.xlabel('Interactions')\n",
    "plt.ylabel('Expected return')\n",
    "plt.yscale('symlog')\n",
    "plt.legend()\n",
    "plt.show()"
   ]
  },
  {
   "cell_type": "markdown",
   "id": "d028d488-75cd-4ec9-bf55-15e38a4b57af",
   "metadata": {},
   "source": [
    "The environment is deterministic, but different methods seem to converge to slightly different solutions so let's compare them visually. Comment out one of the pi functions."
   ]
  },
  {
   "cell_type": "code",
   "execution_count": 86,
   "id": "17591429-6b05-429c-95f5-3d79e4fd940f",
   "metadata": {},
   "outputs": [
    {
     "name": "stdout",
     "output_type": "stream",
     "text": [
      "o  o  o  o  o  o  o  o  o  o  o  o\n",
      "o  o  o  o  o  o  o  o  o  o  o  o\n",
      "o  o  o  o  o  o  o  o  o  o  o  o\n",
      "x  C  C  C  C  C  C  C  C  C  C  T\n",
      "\n",
      "\n",
      "o  o  o  o  o  o  o  o  o  o  o  o\n",
      "o  o  o  o  o  o  o  o  o  o  o  o\n",
      "x  o  o  o  o  o  o  o  o  o  o  o\n",
      "o  C  C  C  C  C  C  C  C  C  C  T\n",
      "\n",
      "\n",
      "o  o  o  o  o  o  o  o  o  o  o  o\n",
      "x  o  o  o  o  o  o  o  o  o  o  o\n",
      "o  o  o  o  o  o  o  o  o  o  o  o\n",
      "o  C  C  C  C  C  C  C  C  C  C  T\n",
      "\n",
      "\n",
      "x  o  o  o  o  o  o  o  o  o  o  o\n",
      "o  o  o  o  o  o  o  o  o  o  o  o\n",
      "o  o  o  o  o  o  o  o  o  o  o  o\n",
      "o  C  C  C  C  C  C  C  C  C  C  T\n",
      "\n",
      "\n",
      "o  x  o  o  o  o  o  o  o  o  o  o\n",
      "o  o  o  o  o  o  o  o  o  o  o  o\n",
      "o  o  o  o  o  o  o  o  o  o  o  o\n",
      "o  C  C  C  C  C  C  C  C  C  C  T\n",
      "\n",
      "\n",
      "o  o  x  o  o  o  o  o  o  o  o  o\n",
      "o  o  o  o  o  o  o  o  o  o  o  o\n",
      "o  o  o  o  o  o  o  o  o  o  o  o\n",
      "o  C  C  C  C  C  C  C  C  C  C  T\n",
      "\n",
      "\n",
      "o  o  o  x  o  o  o  o  o  o  o  o\n",
      "o  o  o  o  o  o  o  o  o  o  o  o\n",
      "o  o  o  o  o  o  o  o  o  o  o  o\n",
      "o  C  C  C  C  C  C  C  C  C  C  T\n",
      "\n",
      "\n",
      "o  o  o  o  x  o  o  o  o  o  o  o\n",
      "o  o  o  o  o  o  o  o  o  o  o  o\n",
      "o  o  o  o  o  o  o  o  o  o  o  o\n",
      "o  C  C  C  C  C  C  C  C  C  C  T\n",
      "\n",
      "\n",
      "o  o  o  o  o  x  o  o  o  o  o  o\n",
      "o  o  o  o  o  o  o  o  o  o  o  o\n",
      "o  o  o  o  o  o  o  o  o  o  o  o\n",
      "o  C  C  C  C  C  C  C  C  C  C  T\n",
      "\n",
      "\n",
      "o  o  o  o  o  o  x  o  o  o  o  o\n",
      "o  o  o  o  o  o  o  o  o  o  o  o\n",
      "o  o  o  o  o  o  o  o  o  o  o  o\n",
      "o  C  C  C  C  C  C  C  C  C  C  T\n",
      "\n",
      "\n",
      "o  o  o  o  o  o  o  x  o  o  o  o\n",
      "o  o  o  o  o  o  o  o  o  o  o  o\n",
      "o  o  o  o  o  o  o  o  o  o  o  o\n",
      "o  C  C  C  C  C  C  C  C  C  C  T\n",
      "\n",
      "\n",
      "o  o  o  o  o  o  o  o  x  o  o  o\n",
      "o  o  o  o  o  o  o  o  o  o  o  o\n",
      "o  o  o  o  o  o  o  o  o  o  o  o\n",
      "o  C  C  C  C  C  C  C  C  C  C  T\n",
      "\n",
      "\n",
      "o  o  o  o  o  o  o  o  o  x  o  o\n",
      "o  o  o  o  o  o  o  o  o  o  o  o\n",
      "o  o  o  o  o  o  o  o  o  o  o  o\n",
      "o  C  C  C  C  C  C  C  C  C  C  T\n",
      "\n",
      "\n",
      "o  o  o  o  o  o  o  o  o  o  x  o\n",
      "o  o  o  o  o  o  o  o  o  o  o  o\n",
      "o  o  o  o  o  o  o  o  o  o  o  o\n",
      "o  C  C  C  C  C  C  C  C  C  C  T\n",
      "\n",
      "\n",
      "o  o  o  o  o  o  o  o  o  o  o  x\n",
      "o  o  o  o  o  o  o  o  o  o  o  o\n",
      "o  o  o  o  o  o  o  o  o  o  o  o\n",
      "o  C  C  C  C  C  C  C  C  C  C  T\n",
      "\n",
      "\n",
      "o  o  o  o  o  o  o  o  o  o  o  o\n",
      "o  o  o  o  o  o  o  o  o  o  o  x\n",
      "o  o  o  o  o  o  o  o  o  o  o  o\n",
      "o  C  C  C  C  C  C  C  C  C  C  T\n",
      "\n",
      "\n",
      "o  o  o  o  o  o  o  o  o  o  o  o\n",
      "o  o  o  o  o  o  o  o  o  o  o  o\n",
      "o  o  o  o  o  o  o  o  o  o  o  x\n",
      "o  C  C  C  C  C  C  C  C  C  C  T\n",
      "\n",
      "\n",
      "o  o  o  o  o  o  o  o  o  o  o  o\n",
      "o  o  o  o  o  o  o  o  o  o  o  o\n",
      "o  o  o  o  o  o  o  o  o  o  o  o\n",
      "o  C  C  C  C  C  C  C  C  C  C  x\n",
      "\n",
      "\n",
      "-8.332281830033345\n"
     ]
    }
   ],
   "source": [
    "import time\n",
    "\n",
    "s, info = env.reset()\n",
    "print(env.render())\n",
    "\n",
    "#pi = np.argmax(Q_rand,axis=1)\n",
    "#pi = np.argmax(Q_learn,axis=1)\n",
    "pi = np.argmax(Q_sarsa,axis=1)\n",
    "\n",
    "gamma = 0.9\n",
    "\n",
    "G = 0\n",
    "discount = 1\n",
    "while True:\n",
    "    time.sleep(1)\n",
    "    a = pi[s]\n",
    "    s, reward, terminated, truncated, info = env.step(a)\n",
    "    print(env.render())\n",
    "    G = G+discount*reward\n",
    "    discount = gamma*discount\n",
    "    if terminated:\n",
    "        break\n",
    "print(G)"
   ]
  },
  {
   "cell_type": "markdown",
   "id": "3f4f584c-1bd6-4bcd-92dd-366df2c811e7",
   "metadata": {},
   "source": [
    "## References\n",
    "\n",
    " * R.S. Sutton and A.G. Barto (2021): Reinforcement Learning: An Introduction. 2n ed. URL: http://incompleteideas.net/book/the-book.html \n"
   ]
  }
 ],
 "metadata": {
  "kernelspec": {
   "display_name": "Python 3 (ipykernel)",
   "language": "python",
   "name": "python3"
  },
  "language_info": {
   "codemirror_mode": {
    "name": "ipython",
    "version": 3
   },
   "file_extension": ".py",
   "mimetype": "text/x-python",
   "name": "python",
   "nbconvert_exporter": "python",
   "pygments_lexer": "ipython3",
   "version": "3.11.4"
  }
 },
 "nbformat": 4,
 "nbformat_minor": 5
}
