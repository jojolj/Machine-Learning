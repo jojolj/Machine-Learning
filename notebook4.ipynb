{
 "cells": [
  {
   "cell_type": "markdown",
   "id": "060e6b73-9549-4ee8-bd63-6875c009daaf",
   "metadata": {},
   "source": [
    "# Multi-layer Perceptron (MLP)\n",
    "\n",
    "MLP is the vanilla neural network structure that was actively investigated and developed during the previous wave of neural networks research in 1990's. It is built on a single neuron model called *Perceptron*."
   ]
  },
  {
   "cell_type": "markdown",
   "id": "849e9bcf-43a3-4203-a130-57e666949424",
   "metadata": {},
   "source": [
    "## Single neuron (Perceptron)\n",
    "\n",
    "$$\n",
    "y = logsig\\left(\\sum_j w_jx_j+w_0\\right)\n",
    "$$"
   ]
  },
  {
   "cell_type": "markdown",
   "id": "287a13e9-fdf3-4711-8a24-22f5f3d84b47",
   "metadata": {},
   "source": [
    "Logsig is sigmoidal function that provides the desired non-linearity to the neuron output. The purpose of non-linearity is to discretize the output to $\\left\\{0,1\\right\\}$ needed for two-class classifcation problems."
   ]
  },
  {
   "cell_type": "markdown",
   "id": "813e6f1e-89c3-4c62-a0f4-df650570e133",
   "metadata": {},
   "source": [
    "Study the behavior of logsig"
   ]
  },
  {
   "cell_type": "code",
   "execution_count": null,
   "id": "69cbd340-53ef-4e1d-99a2-b56d9a434035",
   "metadata": {},
   "outputs": [],
   "source": [
    "import matplotlib.pyplot as plt\n",
    "from scipy.special import expit\n",
    "\n",
    "print('scipy.special.expit is the logistic sigmoid function')\n",
    "\n",
    "x = [-10,-5.0,-2.5,0,+2.5,+5.0,+10]\n",
    "y = expit(x)\n",
    "\n",
    "plt.plot(x,y)"
   ]
  },
  {
   "cell_type": "markdown",
   "id": "9632bda6-4e97-44ad-a6ec-77d70acd2181",
   "metadata": {},
   "source": [
    "Multiplier of $x$ makes the change from 0 to 1 more rapid."
   ]
  },
  {
   "cell_type": "code",
   "execution_count": null,
   "id": "a5e04543-c718-4b70-a610-c94a2d07b5a4",
   "metadata": {},
   "outputs": [],
   "source": [
    "import numpy as np\n",
    "\n",
    "x = [-10,-5.0,-2.5,0,+2.5,+5.0,+10]\n",
    "y = expit(10*np.array(x))\n",
    "\n",
    "plt.plot(x,y)"
   ]
  },
  {
   "cell_type": "markdown",
   "id": "59750a9f-180c-44d5-813f-835935312af5",
   "metadata": {},
   "source": [
    "**Example:** Handmade OR neuron"
   ]
  },
  {
   "cell_type": "code",
   "execution_count": null,
   "id": "22ec05c6-3fbd-4bdf-b962-0d67cf213b55",
   "metadata": {},
   "outputs": [],
   "source": [
    "x1 = [0,1,1,0]\n",
    "x2 = [0,0,1,1]\n",
    "y  = [0,1,1,1] # x1 OR x2\n",
    "w1=20\n",
    "w2=20\n",
    "w0=-10\n",
    "\n",
    "plt.plot(x1,x2,'ro')\n",
    "plt.title('x1 OR x2 using manually selected weights')\n",
    "for ind in range(len(y)):\n",
    "    plt.text(x1[ind],x2[ind],f'y={expit(w1*x1[ind]+w2*x2[ind]+w0):.2f}')"
   ]
  },
  {
   "cell_type": "markdown",
   "id": "0aa45403-bded-4237-abe4-cf5e26b4c94e",
   "metadata": {},
   "source": [
    "Inspect the decision boundary"
   ]
  },
  {
   "cell_type": "code",
   "execution_count": null,
   "id": "163395ba-0b5a-421f-bee8-62e57247e9dc",
   "metadata": {},
   "outputs": [],
   "source": [
    "from sklearn.inspection import DecisionBoundaryDisplay\n",
    "\n",
    "feature_1, feature_2 = np.meshgrid(np.linspace(-0.1,1.1), np.linspace(-0.1,1.1))\n",
    "grid = np.vstack([feature_1.ravel(), feature_2.ravel()]).T\n",
    "print('Decision boundary of hand selected weights')\n",
    "y_pred = np.reshape(expit(w1*grid[:,0]+w2*grid[:,1]+w0), feature_1.shape)\n",
    "display = DecisionBoundaryDisplay(xx0=feature_1, xx1=feature_2, response=y_pred)\n",
    "display.plot()\n",
    "plt.xlabel('x1')\n",
    "plt.ylabel('x2')\n",
    "plt.show()"
   ]
  },
  {
   "cell_type": "markdown",
   "id": "9f34dc2f-1111-44f2-992b-a72b9f6493fa",
   "metadata": {},
   "source": [
    "**Example:** GD for the OR data"
   ]
  },
  {
   "cell_type": "code",
   "execution_count": null,
   "id": "d315c6dc-7ddd-4590-b423-aac4d6dee8e1",
   "metadata": {},
   "outputs": [],
   "source": [
    "# Compute MSE heat map for different a and b\n",
    "num_of_epochs = 10000\n",
    "lr = 0.15 # learning rate\n",
    "N = len(x1)\n",
    "w1_t = 0\n",
    "w2_t = 0\n",
    "w0_t = 0\n",
    "\n",
    "for e in range(num_of_epochs):\n",
    "    y_h = expit(w1_t*np.array(x1)+w2_t*np.array(x2)+w0_t)\n",
    "    nablaL_w1 = 1/N*sum(2*(y-y_h)*-y_h*(1-y_h)*x1)\n",
    "    nablaL_w2 = 1/N*sum(2*(y-y_h)*-y_h*(1-y_h)*x2)\n",
    "    nablaL_w0 = 1/N*sum(2*(y-y_h)*-y_h*(1-y_h)*1)\n",
    "    #grad_w1 = np.sum(2*x_tr*(y_tr-y)*y*(-1+y))\n",
    "    #grad_w0 = np.sum(2*(y_tr-y)*y*(-1+y))\n",
    "    w1_t = w1_t-lr*nablaL_w1\n",
    "    w2_t = w2_t-lr*nablaL_w2\n",
    "    w0_t = w0_t-lr*nablaL_w0\n",
    "\n",
    "    if np.mod(e,1000) == 0 or e == 1: # Plot after every 20th epoch\n",
    "        y_pred = expit(w1_t*np.array(x1)+w2_t*np.array(x2)+w0_t)\n",
    "        MSE = np.sum((y-y_pred)**2)/(len(y))\n",
    "        print(f'Epoch {e} MSE is {MSE:.5f}')\n",
    "        #plt.title(f'Epoch={e} w0={w0_t:.2f} w1={w1_t:.2f} MSE={MSE:.2f}')\n",
    "        #plt.plot(x_h,y_h,'co', label=\"hobbit\")\n",
    "        #plt.plot(x_e,y_e,'mo', label=\"elf\")\n",
    "        #x = np.linspace(0.0,+5.0,50)\n",
    "        #plt.plot(x,expit(w1_t*x+w0_t),'b-',label='y=logsig(w1x+w0)')\n",
    "        #plt.plot([0.5, 5.0],[0.5,0.5],'k--',label='y=0 (class boundary)')\n",
    "        #plt.xlabel('height [m]')\n",
    "        #plt.legend()\n",
    "        #plt.show()\n",
    "\n",
    "np.set_printoptions(precision=3,suppress=True)\n",
    "print(f'True values y={y} and predicted values y_pred={y_pred}')\n",
    "np.set_printoptions(precision=3,suppress=True)\n",
    "print(f'w_1 = {w1_t} w_2 = {w2_t} w_0 = {w0_t}')"
   ]
  },
  {
   "cell_type": "code",
   "execution_count": null,
   "id": "0258273c-ca0d-41d9-8b3f-d06f92a7ed51",
   "metadata": {},
   "outputs": [],
   "source": [
    "plt.plot(x1,x2,'ro')\n",
    "plt.title('x1 OR x2 using GD weights')\n",
    "for ind in range(len(y)):\n",
    "    plt.text(x1[ind],x2[ind],f'y={expit(w1_t*x1[ind]+w2_t*x2[ind]+w0_t):.2f}')"
   ]
  },
  {
   "cell_type": "markdown",
   "id": "5ef8dfb6-0eeb-4146-a15b-11f7164345d5",
   "metadata": {},
   "source": [
    "Decision boundary"
   ]
  },
  {
   "cell_type": "code",
   "execution_count": null,
   "id": "9f7dc910-457d-44a7-b23f-1d73ab8bdfb0",
   "metadata": {},
   "outputs": [],
   "source": [
    "feature_1, feature_2 = np.meshgrid(np.linspace(-0.1,1.1), np.linspace(-0.1,1.1))\n",
    "grid = np.vstack([feature_1.ravel(), feature_2.ravel()]).T\n",
    "print('Decision boundary of GD weights')\n",
    "y_pred = np.reshape(expit(w1_t*grid[:,0]+w2_t*grid[:,1]+w0_t), feature_1.shape)\n",
    "display = DecisionBoundaryDisplay(xx0=feature_1, xx1=feature_2, response=y_pred)\n",
    "display.plot()\n",
    "plt.show()"
   ]
  },
  {
   "cell_type": "markdown",
   "id": "52c70c9c-3093-4feb-bdb6-65f49cde9938",
   "metadata": {},
   "source": [
    "## Multi-layer neural network"
   ]
  },
  {
   "cell_type": "markdown",
   "id": "9c191f7d-cc2e-47bd-8a08-38b4babc7867",
   "metadata": {},
   "source": [
    "**Example:** Handmade XOR MLP"
   ]
  },
  {
   "cell_type": "code",
   "execution_count": null,
   "id": "4474e69b-9b9c-4730-a922-1d97194b6f66",
   "metadata": {},
   "outputs": [],
   "source": [
    "x1 = [0,1,1,0]\n",
    "x2 = [0,0,1,1]\n",
    "y  = [0,1,0,1] # x1 XOR x2\n",
    "\n",
    "w11 = -20\n",
    "w12 = 30\n",
    "w10 = -20\n",
    "w21 = 30\n",
    "w22 = -20\n",
    "w20 = -20\n",
    "\n",
    "w1=20\n",
    "w2=20\n",
    "w0=-10\n",
    "\n",
    "plt.plot(x1,x2,'ro')\n",
    "plt.title('x1 XOR x2 for manually selected weights')\n",
    "for ind in range(len(y)):\n",
    "    y1 = expit(w11*x1[ind]+w12*x2[ind]+w10)\n",
    "    y2 = expit(w21*x1[ind]+w22*x2[ind]+w20)\n",
    "    y_h  = expit(w1*y1+w2*y2+w0)\n",
    "    plt.text(x1[ind],x2[ind],f'y={y_h:.2f} (y1={y1:.2f},y2={y2:.2f})')"
   ]
  },
  {
   "cell_type": "markdown",
   "id": "61c3aa6a-d95c-42a1-bf65-1bfefba22db6",
   "metadata": {},
   "source": [
    "Define necessary computational structures"
   ]
  },
  {
   "cell_type": "code",
   "execution_count": null,
   "id": "1cecf5a4-3197-449e-8e43-abe6b8155127",
   "metadata": {},
   "outputs": [],
   "source": [
    "def sigmoid(x):\n",
    "  return 1 / (1 + np.exp(-x))\n",
    "\n",
    "# Forward pass\n",
    "def perceptron(x1,x2,w1,w2,w0):\n",
    "    return sigmoid(w1*x1+w2*x2+w0)\n",
    "\n",
    "\n",
    "def mlp(w11,w12,w10,w21,w22,w20,w1,w2,w0,x1,x2):\n",
    "    y1 = perceptron(x1,x2,w11,w12,w10)\n",
    "    y2 = perceptron(x1,x2,w21,w22,w20)\n",
    "    y  = perceptron(y1,y2,w1,w2,w0)\n",
    "    return y"
   ]
  },
  {
   "cell_type": "code",
   "execution_count": null,
   "id": "11805215-6fe0-42b4-b118-952ed54fc261",
   "metadata": {},
   "outputs": [],
   "source": [
    "feature_1, feature_2 = np.meshgrid(np.linspace(-0.1,1.1), np.linspace(-0.1,1.1))\n",
    "grid = np.vstack([feature_1.ravel(), feature_2.ravel()]).T\n",
    "print('Decision boundary for manually selected weights')\n",
    "y_pred = np.reshape(mlp(w11,w12,w10,w21,w22,w20,w1,w2,w0,grid[:,0],grid[:,1]), feature_1.shape)\n",
    "display = DecisionBoundaryDisplay(xx0=feature_1, xx1=feature_2, response=y_pred)\n",
    "display.plot()\n",
    "plt.show()"
   ]
  },
  {
   "cell_type": "markdown",
   "id": "a1c06668-6455-418d-bd1f-48c6c3330e03",
   "metadata": {},
   "source": [
    "### MLP gradient descent"
   ]
  },
  {
   "cell_type": "markdown",
   "id": "9c8a2fa0-8806-47e4-9d2f-26f597286999",
   "metadata": {},
   "source": [
    "Initialize weights randomly"
   ]
  },
  {
   "cell_type": "code",
   "execution_count": null,
   "id": "d27b7916-0ad8-4abb-869b-c6949c539466",
   "metadata": {},
   "outputs": [],
   "source": [
    "w11_t = np.random.normal(-1,1)\n",
    "w12_t = np.random.normal(-1,1)\n",
    "w10_t = np.random.normal(-1,1)\n",
    "w21_t = np.random.normal(-1,1)\n",
    "w22_t = np.random.normal(-1,1)\n",
    "w20_t = np.random.normal(-1,1)\n",
    "\n",
    "w1_t = np.random.normal(-1,1)\n",
    "w2_t = np.random.normal(-1,1)\n",
    "w0_t = np.random.normal(-1,1)"
   ]
  },
  {
   "cell_type": "code",
   "execution_count": null,
   "id": "9a4fc430-5f6b-4d34-8245-0f34ec1614c2",
   "metadata": {},
   "outputs": [],
   "source": [
    "x1 = np.array(x1)\n",
    "x2 = np.array(x2)\n",
    "y = np.array(y)"
   ]
  },
  {
   "cell_type": "markdown",
   "id": "047ee677-c265-4002-b7e0-e27266fcddf9",
   "metadata": {},
   "source": [
    "Note that you may need to run this several times (why?)"
   ]
  },
  {
   "cell_type": "code",
   "execution_count": null,
   "id": "9763f588-fa1f-45a4-871a-f960ec0fe777",
   "metadata": {},
   "outputs": [],
   "source": [
    "num_of_epochs = 5000\n",
    "lr = 0.05\n",
    "\n",
    "MSE = np.zeros([num_of_epochs,1])\n",
    "\n",
    "# Main training loop\n",
    "for e in range(num_of_epochs):\n",
    "    ## Forward pass\n",
    "\n",
    "    y_1 = perceptron(x1,x2,w11_t,w12_t,w10_t)\n",
    "    y_2 = perceptron(x1,x2,w21_t,w22_t,w20_t)\n",
    "    y_h = perceptron(y_1,y_2,w1_t,w2_t,w0_t)\n",
    "\n",
    "    ## Backward pass\n",
    "\n",
    "    # Loss gradient\n",
    "    nabla_L = 2*(y-y_h)*-1\n",
    "\n",
    "    # Output neuron gradient\n",
    "    nabla_y_h_y1 = nabla_L*y_h*(1-y_h)*w1_t\n",
    "    nabla_y_h_y2 = nabla_L*y_h*(1-y_h)*w2_t\n",
    "\n",
    "    ## Update\n",
    "\n",
    "    # Output weights\n",
    "    w1_t = w1_t - lr*np.sum(nabla_L*y_h*(1-y_h)*y_1)\n",
    "    w2_t = w2_t - lr*np.sum(nabla_L*y_h*(1-y_h)*y_2)\n",
    "    w0_t = w0_t - lr*np.sum(nabla_L*y_h*(1-y_h)*1)\n",
    "\n",
    "    # Hidden layer y_1 weights\n",
    "    w11_t = w11_t - lr*np.sum(nabla_y_h_y1*y_1*(1-y_1)*x1)\n",
    "    w12_t = w12_t - lr*np.sum(nabla_y_h_y1*y_1*(1-y_1)*x2)\n",
    "    w10_t = w10_t - lr*np.sum(nabla_y_h_y1*y_1*(1-y_1)*1)\n",
    "\n",
    "    # Hidden layer y_2 weights\n",
    "    w21_t = w21_t - lr*np.sum(nabla_y_h_y2*y_2*(1-y_2)*x1)\n",
    "    w22_t = w22_t - lr*np.sum(nabla_y_h_y2*y_2*(1-y_2)*x2)\n",
    "    w20_t = w20_t - lr*np.sum(nabla_y_h_y2*y_2*(1-y_2)*1)\n",
    "    MSE[e] = np.sum((y-y_h)**2)\n",
    "\n",
    "# Final evaluation\n",
    "y_1 = perceptron(x1,x2,w11_t,w12_t,w10_t)\n",
    "y_2 = perceptron(x1,x2,w21_t,w22_t,w20_t)\n",
    "y_h = perceptron(y_1,y_2,w1_t,w2_t,w0_t)\n",
    "print(y_h)\n",
    "plt.plot(range(num_of_epochs),MSE)\n",
    "plt.show()"
   ]
  },
  {
   "cell_type": "code",
   "execution_count": null,
   "id": "3cd597f7-e01f-4f49-a110-e9510338ec22",
   "metadata": {},
   "outputs": [],
   "source": [
    "plt.plot(x1,x2,'ro')\n",
    "plt.title('x1 XOR x2 for GD found weights')\n",
    "for ind,foo in enumerate(y):\n",
    "    y1 = expit(w11_t*x1[ind]+w12_t*x2[ind]+w10_t)\n",
    "    y2 = expit(w21_t*x1[ind]+w22_t*x2[ind]+w20_t)\n",
    "    y_h  = expit(w1_t*y1+w2_t*y2+w0_t)\n",
    "    plt.text(x1[ind],x2[ind],f'y_h={y_h:.2f} (y1={y1:.2f},y2={y2:.2f})')"
   ]
  },
  {
   "cell_type": "code",
   "execution_count": null,
   "id": "372cab83-d712-4164-8296-219ed7dba096",
   "metadata": {},
   "outputs": [],
   "source": [
    "feature_1, feature_2 = np.meshgrid(np.linspace(-0.1,1.1), np.linspace(-0.1,1.1))\n",
    "grid = np.vstack([feature_1.ravel(), feature_2.ravel()]).T\n",
    "print('Decision boundary for manually selected weights')\n",
    "y_pred = np.reshape(mlp(w11_t,w12_t,w10_t,w21_t,w22_t,w20_t,w1_t,w2_t,w0_t,grid[:,0],grid[:,1]), feature_1.shape)\n",
    "display = DecisionBoundaryDisplay(xx0=feature_1, xx1=feature_2, response=y_pred)\n",
    "display.plot()\n",
    "plt.show()"
   ]
  },
  {
   "cell_type": "markdown",
   "id": "b122348a-f21a-4982-a867-0e9c7ba21440",
   "metadata": {},
   "source": [
    "## References\n",
    "\n",
    " * C.M. Bishop (2006): Pattern Recognition and Machine Learning, Chapter 5 ([PDF](https://www.microsoft.com/en-us/research/uploads/prod/2006/01/Bishop-Pattern-Recognition-and-Machine-Learning-2006.pdf))"
   ]
  }
 ],
 "metadata": {
  "kernelspec": {
   "display_name": "Python 3 (ipykernel)",
   "language": "python",
   "name": "python3"
  },
  "language_info": {
   "codemirror_mode": {
    "name": "ipython",
    "version": 3
   },
   "file_extension": ".py",
   "mimetype": "text/x-python",
   "name": "python",
   "nbconvert_exporter": "python",
   "pygments_lexer": "ipython3",
   "version": "3.11.4"
  }
 },
 "nbformat": 4,
 "nbformat_minor": 5
}
