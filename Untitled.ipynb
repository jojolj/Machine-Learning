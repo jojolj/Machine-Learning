{
 "cells": [
  {
   "cell_type": "code",
   "execution_count": 2,
   "id": "8e4b630e",
   "metadata": {},
   "outputs": [],
   "source": [
    "import numpy as np\n",
    "from sklearn.metrics import mean_absolute_error as mae\n",
    "from sklearn import preprocessing\n",
    "from sklearn.neighbors import KNeighborsClassifier"
   ]
  },
  {
   "cell_type": "code",
   "execution_count": 3,
   "id": "f08f9418",
   "metadata": {},
   "outputs": [],
   "source": [
    "base_path = r\"C:/Users/justd/MachineLearningCourse/Github/OnlineTest/data/\""
   ]
  },
  {
   "cell_type": "code",
   "execution_count": 4,
   "id": "d1861331",
   "metadata": {},
   "outputs": [],
   "source": [
    "X_train = np.loadtxt(base_path+\"X_train.dat\")\n",
    "y_train= np.loadtxt(base_path+\"Y_train.dat\")\n",
    "X_test= np.loadtxt(base_path+\"X_test.dat\")\n",
    "y_test = np.loadtxt(base_path+\"Y_test.dat\")\n"
   ]
  },
  {
   "cell_type": "code",
   "execution_count": 5,
   "id": "8912f95b",
   "metadata": {},
   "outputs": [],
   "source": [
    "knn = KNeighborsClassifier(n_neighbors = 1)"
   ]
  },
  {
   "cell_type": "code",
   "execution_count": 6,
   "id": "7866ddba",
   "metadata": {},
   "outputs": [],
   "source": [
    "label_encoder = preprocessing.LabelEncoder()\n",
    "y_train = label_encoder.fit_transform(y_train)"
   ]
  },
  {
   "cell_type": "code",
   "execution_count": 9,
   "id": "8e5bcf95",
   "metadata": {},
   "outputs": [
    {
     "data": {
      "text/plain": [
       "array([102, 172,  47, 103,  61, 206,  64,  33,  90,  64, 116,  46,   8,\n",
       "       104, 155,  79,  93,  22, 188,  19, 179, 172,  36,  94,  45,  47,\n",
       "       130,  34,  81,  64, 124, 117,  28, 206, 144, 134, 139,  78,  88,\n",
       "       103,  64, 175, 199, 106, 149,   9,  36, 103,  88,  89,  46, 179,\n",
       "        50, 143, 114,  94,   9, 188, 108,  93,  84, 144, 203,  38, 154,\n",
       "        81,   9, 145, 178,  34,  81, 134,  55,  70, 130,   1,  81, 199,\n",
       "         3,   6, 106,  45, 105,  18, 124, 126,  45, 108, 145,  80,  92,\n",
       "       117,  80,  64, 105,  72, 206,   3,   5,  21, 108, 130], dtype=int64)"
      ]
     },
     "execution_count": 9,
     "metadata": {},
     "output_type": "execute_result"
    }
   ],
   "source": [
    "knn.fit(X_train, y_train)\n",
    "y_pred = knn.predict(X_test)\n",
    "y_pred"
   ]
  },
  {
   "cell_type": "code",
   "execution_count": 12,
   "id": "6a39daa8",
   "metadata": {},
   "outputs": [
    {
     "name": "stdout",
     "output_type": "stream",
     "text": [
      "Mean absolute error : 54.21568627450981\n"
     ]
    }
   ],
   "source": [
    "# calculate MAE\n",
    "y_test = label_encoder.fit_transform(y_test)\n",
    "error = mae(y_test, y_pred)\n",
    "print(\"Mean absolute error : \" + str(error))"
   ]
  },
  {
   "cell_type": "code",
   "execution_count": null,
   "id": "0baf566e",
   "metadata": {},
   "outputs": [],
   "source": []
  }
 ],
 "metadata": {
  "kernelspec": {
   "display_name": "Python 3 (ipykernel)",
   "language": "python",
   "name": "python3"
  },
  "language_info": {
   "codemirror_mode": {
    "name": "ipython",
    "version": 3
   },
   "file_extension": ".py",
   "mimetype": "text/x-python",
   "name": "python",
   "nbconvert_exporter": "python",
   "pygments_lexer": "ipython3",
   "version": "3.11.4"
  }
 },
 "nbformat": 4,
 "nbformat_minor": 5
}
