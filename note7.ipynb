{
 "cells": [
  {
   "cell_type": "markdown",
   "id": "99eb4fd4-83c3-4edb-a640-d0bcca894241",
   "metadata": {},
   "source": [
    "# Special deep learning architectures\n",
    "\n",
    "Here we go through some of the most innovative architectures that have had a substantial impact to AI or its application fields."
   ]
  },
  {
   "cell_type": "markdown",
   "id": "c26c835a-472c-4fc6-b56e-24ae2a37cecf",
   "metadata": {},
   "source": [
    "## Neural autoencoder\n",
    "\n",
    "One of the most influential ideas was the autoencoder structure.\n",
    "\n",
    "<div>\n",
    "<img src=\"pictures/Autoencoder_schema.png\" width=300>\n",
    "</div>"
   ]
  },
  {
   "cell_type": "markdown",
   "id": "db9890af-4ede-4c42-a85a-ad1299b30306",
   "metadata": {},
   "source": [
    "### MLP Autoencoder"
   ]
  },
  {
   "cell_type": "markdown",
   "id": "1beb340d-d979-42df-987d-2faf52386609",
   "metadata": {},
   "source": [
    "**Example:** MLP autoencoder for MNIST Fashion\n",
    "\n",
    "See the Colab code\n",
    "\n",
    " * https://colab.research.google.com/drive/1T4A68XyDcMJE9xtymo9V8y0sKnM-lNvG?usp=sharing "
   ]
  },
  {
   "cell_type": "markdown",
   "id": "b1a8a81c-e68e-4967-8b5b-91b97f56d105",
   "metadata": {},
   "source": [
    "### Convolutional autoencoder\n",
    "\n",
    "\"Fully convolutional neural networks\" introduced in\n",
    "\n",
    " * J Long, E Shelhamer, T Darrell (2015): \"Fully convolutional networks for semantic segmentation\". In Proceedings of the IEEE Conference on Computer Vision and Pattern Recognition. [PDF](https://openaccess.thecvf.com/content_cvpr_2015/papers/Long_Fully_Convolutional_Networks_2015_CVPR_paper.pdf)"
   ]
  },
  {
   "cell_type": "markdown",
   "id": "88c5e855-a440-481a-96f6-e63db5d2be48",
   "metadata": {},
   "source": [
    "### Deconvolution\n",
    "\n",
    "The transpose (inverse) of convolution\n",
    "\n",
    "**Example:** PyTorch ConvTranspose2d\n",
    "\n",
    " * [Colab example](https://colab.research.google.com/drive/1YwLn1PtM6qqW290eAhb-Cx_BtJqSdGKd?usp=sharing)\n"
   ]
  },
  {
   "cell_type": "markdown",
   "id": "0c0c1bfb-15bb-4484-ab9d-18b5cec7cf25",
   "metadata": {},
   "source": [
    "### Applications"
   ]
  },
  {
   "cell_type": "markdown",
   "id": "09c34537-67eb-484b-a5cb-3cf897c61032",
   "metadata": {},
   "source": [
    "#### Image denoising\n",
    "\n",
    " * See [Colab example](https://colab.research.google.com/drive/1-b2mVrTgjdeiuww7ONFTneakZ-3xElWC?usp=sharing)"
   ]
  },
  {
   "cell_type": "markdown",
   "id": "ad65d877-30ad-4c0f-9c38-e8d429ba1b47",
   "metadata": {},
   "source": [
    "#### Anomaly detection\n",
    "\n",
    " * See [Colab](https://colab.research.google.com/drive/1hLUVaEjEKVdnLPLnukKcX1qucdggbLG0?usp=sharing)"
   ]
  },
  {
   "cell_type": "markdown",
   "id": "49a93dfe-6596-448f-85eb-a6924e204b49",
   "metadata": {},
   "source": [
    "##### Detection threshold selection\n",
    "\n",
    "<div>\n",
    "<img src=\"pictures/gaussian_fractiles.jpg\" width=\"600\">\n",
    "</div>"
   ]
  },
  {
   "cell_type": "markdown",
   "id": "bac91f91-40d6-456c-9779-fd38fa1c7997",
   "metadata": {},
   "source": [
    "### Image segmentation\n",
    "\n",
    "The idea works also for annotated images\n",
    "\n",
    "<div><img src=\"pictures/image_segmentation_autoencoder.png\" width=600></div>\n",
    "\n",
    "See also [Nvidia Canvas](https://www.nvidia.com/en-us/studio/canvas/)"
   ]
  },
  {
   "cell_type": "markdown",
   "id": "05dc4375-cf4c-4078-a428-17a488586b00",
   "metadata": {},
   "source": [
    "## Autoencoder-inspired architectures"
   ]
  },
  {
   "cell_type": "markdown",
   "id": "2fdab375-4bc3-4080-9cf0-29016db262fa",
   "metadata": {},
   "source": [
    "### U-Net\n",
    "\n",
    "See: https://en.wikipedia.org/wiki/U-Net"
   ]
  },
  {
   "cell_type": "markdown",
   "id": "8be87f93-0af3-4b54-acd6-4655cfd3f459",
   "metadata": {},
   "source": [
    "### Generative Adversarial Networks (GANs)\n",
    "\n",
    "StyleGAN: https://en.wikipedia.org/wiki/StyleGAN\n",
    "\n",
    "Code: https://github.com/NVlabs/stylegan\n",
    "\n",
    "Recently replaced by [Diffusion models](https://en.wikipedia.org/wiki/Diffusion_model)"
   ]
  },
  {
   "cell_type": "markdown",
   "id": "9cd1a148-7970-48cc-a6f7-638538464a26",
   "metadata": {},
   "source": [
    "### DeepFake\n",
    "\n",
    "See: https://www.alanzucconi.com/2018/03/14/understanding-the-technology-behind-deepfakes/\n",
    "\n",
    "Video: https://www.youtube.com/watch?v=OmB7fmi8JwY\n",
    "\n",
    "Code: plenty"
   ]
  },
  {
   "cell_type": "markdown",
   "id": "b967bfdc-c2cb-483e-bf6f-d910a7e98568",
   "metadata": {},
   "source": [
    "### The power of vast training data and self-supervision\n",
    "\n",
    "Frozen people: https://mannequin-depth.github.io/"
   ]
  },
  {
   "cell_type": "markdown",
   "id": "c2004ab8-a3a5-4e85-898f-d2579a2e1f2d",
   "metadata": {},
   "source": [
    "## Other important architectures"
   ]
  },
  {
   "cell_type": "markdown",
   "id": "f3534c6b-f249-432c-8533-f7acdcdde802",
   "metadata": {},
   "source": [
    "### Neural radiance field (Nerf)\n",
    "\n",
    "For 3D models\n",
    "\n",
    "See https://en.wikipedia.org/wiki/Neural_radiance_field\n",
    "\n",
    "Recently replaced by Gaussian splatting (see e.g. https://repo-sam.inria.fr/fungraph/3d-gaussian-splatting/ )"
   ]
  },
  {
   "cell_type": "markdown",
   "id": "087ccbdd-257e-4528-ab47-6131448ea333",
   "metadata": {},
   "source": [
    "## References\n",
    "\n",
    "For the crazy new ideas you need to follow the top AI conferences every year, for example:\n",
    "\n",
    " * [NeurIPS](https://neurips.cc) - The top-tier conference of AI\n",
    " * [CVPR](https://cvpr.thecvf.com) - The top-tier conference of computer vision\n",
    " * [ICASSP](https://2024.ieeeicassp.org) - The top-tier conferene of audio processing\n",
    " * [SIGGRAPH](https://www.siggraph.org) - The top-tier conference on computer graphics\n"
   ]
  }
 ],
 "metadata": {
  "kernelspec": {
   "display_name": "Python 3 (ipykernel)",
   "language": "python",
   "name": "python3"
  },
  "language_info": {
   "codemirror_mode": {
    "name": "ipython",
    "version": 3
   },
   "file_extension": ".py",
   "mimetype": "text/x-python",
   "name": "python",
   "nbconvert_exporter": "python",
   "pygments_lexer": "ipython3",
   "version": "3.11.4"
  }
 },
 "nbformat": 4,
 "nbformat_minor": 5
}
